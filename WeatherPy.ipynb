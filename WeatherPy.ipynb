{
 "cells": [
  {
   "cell_type": "markdown",
   "metadata": {},
   "source": [
    "# WeatherPy\n",
    "----\n",
    "\n",
    "#### Note\n",
    "* Instructions have been included for each segment. You do not have to follow them exactly, but they are included to help you think through the steps."
   ]
  },
  {
   "cell_type": "code",
   "execution_count": 3,
   "metadata": {
    "scrolled": false
   },
   "outputs": [
    {
     "data": {
      "text/plain": [
       "'1bce4c0df3b2293dfc66e783f97126f9'"
      ]
     },
     "execution_count": 3,
     "metadata": {},
     "output_type": "execute_result"
    }
   ],
   "source": [
    "# Dependencies and Setup\n",
    "import matplotlib.pyplot as plt\n",
    "import pandas as pd\n",
    "import numpy as np\n",
    "import requests\n",
    "import time\n",
    "import scipy.stats as st\n",
    "from scipy.stats import linregress\n",
    "\n",
    "# Import API key\n",
    "from api_keys import weather_api_key\n",
    "\n",
    "# Incorporated citipy to determine city based on latitude and longitude\n",
    "from citipy import citipy\n",
    "\n",
    "# Output File (CSV)\n",
    "output_data_file = \"output_data/cities.csv\"\n",
    "\n",
    "# Range of latitudes and longitudes\n",
    "lat_range = (-90, 90)\n",
    "lng_range = (-180, 180)\n",
    "weather_api_key"
   ]
  },
  {
   "cell_type": "markdown",
   "metadata": {},
   "source": [
    "## Generate Cities List"
   ]
  },
  {
   "cell_type": "code",
   "execution_count": 4,
   "metadata": {},
   "outputs": [
    {
     "data": {
      "text/plain": [
       "627"
      ]
     },
     "execution_count": 4,
     "metadata": {},
     "output_type": "execute_result"
    }
   ],
   "source": [
    "# List for holding lat_lngs and cities\n",
    "lat_lngs = []\n",
    "cities = []\n",
    "\n",
    "# Create a set of random lat and lng combinations\n",
    "lats = np.random.uniform(low=-90.000, high=90.000, size=1500)\n",
    "lngs = np.random.uniform(low=-180.000, high=180.000, size=1500)\n",
    "lat_lngs = zip(lats, lngs)\n",
    "\n",
    "# Identify nearest city for each lat, lng combination\n",
    "for lat_lng in lat_lngs:\n",
    "    city = citipy.nearest_city(lat_lng[0], lat_lng[1]).city_name\n",
    "    \n",
    "    # If the city is unique, then add it to a our cities list\n",
    "    if city not in cities:\n",
    "        cities.append(city)\n",
    "\n",
    "# Print the city count to confirm sufficient count\n",
    "len(cities)"
   ]
  },
  {
   "cell_type": "code",
   "execution_count": 5,
   "metadata": {},
   "outputs": [],
   "source": [
    "#URL and Units\n",
    "weather_url = \"http://api.openweathermap.org/data/2.5/weather?\"\n",
    "units =\"imperial\""
   ]
  },
  {
   "cell_type": "markdown",
   "metadata": {},
   "source": [
    "### Perform API Calls\n",
    "* Perform a weather check on each city using a series of successive API calls.\n",
    "* Include a print log of each city as it'sbeing processed (with the city number and city name).\n"
   ]
  },
  {
   "cell_type": "code",
   "execution_count": 6,
   "metadata": {
    "scrolled": true
   },
   "outputs": [
    {
     "data": {
      "text/plain": [
       "'http://api.openweathermap.org/data/2.5/weather?appid=1bce4c0df3b2293dfc66e783f97126f9&q=saint-georges&units=imperial'"
      ]
     },
     "execution_count": 6,
     "metadata": {},
     "output_type": "execute_result"
    }
   ],
   "source": [
    "#Develop query_url\n",
    "query_url = weather_url + \"appid=\" + weather_api_key + \"&q=\" + city + \"&units=\" + units\n",
    "query_url"
   ]
  },
  {
   "cell_type": "code",
   "execution_count": 9,
   "metadata": {
    "scrolled": true
   },
   "outputs": [
    {
     "name": "stdout",
     "output_type": "stream",
     "text": [
      "{'base': 'stations',\n",
      " 'clouds': {'all': 20},\n",
      " 'cod': 200,\n",
      " 'coord': {'lat': 12.0564, 'lon': -61.7485},\n",
      " 'dt': 1614633354,\n",
      " 'id': 3579925,\n",
      " 'main': {'feels_like': 299.55,\n",
      "          'humidity': 57,\n",
      "          'pressure': 1010,\n",
      "          'temp': 301.15,\n",
      "          'temp_max': 301.15,\n",
      "          'temp_min': 301.15},\n",
      " 'name': \"St. George's\",\n",
      " 'sys': {'country': 'GD',\n",
      "         'id': 8781,\n",
      "         'sunrise': 1614594146,\n",
      "         'sunset': 1614636989,\n",
      "         'type': 1},\n",
      " 'timezone': -14400,\n",
      " 'visibility': 10000,\n",
      " 'weather': [{'description': 'few clouds',\n",
      "              'icon': '02d',\n",
      "              'id': 801,\n",
      "              'main': 'Clouds'}],\n",
      " 'wind': {'deg': 30, 'speed': 6.69}}\n"
     ]
    }
   ],
   "source": [
    "# Run Test\n",
    "example = city[0]\n",
    "test_url = query_url + example\n",
    "test_response = requests.get (test_url).json()\n",
    "from pprint import pprint\n",
    "pprint(test_response)"
   ]
  },
  {
   "cell_type": "code",
   "execution_count": 10,
   "metadata": {},
   "outputs": [
    {
     "data": {
      "text/html": [
       "<div>\n",
       "<style scoped>\n",
       "    .dataframe tbody tr th:only-of-type {\n",
       "        vertical-align: middle;\n",
       "    }\n",
       "\n",
       "    .dataframe tbody tr th {\n",
       "        vertical-align: top;\n",
       "    }\n",
       "\n",
       "    .dataframe thead th {\n",
       "        text-align: right;\n",
       "    }\n",
       "</style>\n",
       "<table border=\"1\" class=\"dataframe\">\n",
       "  <thead>\n",
       "    <tr style=\"text-align: right;\">\n",
       "      <th></th>\n",
       "      <th>City</th>\n",
       "    </tr>\n",
       "  </thead>\n",
       "  <tbody>\n",
       "    <tr>\n",
       "      <th>0</th>\n",
       "      <td>busselton</td>\n",
       "    </tr>\n",
       "    <tr>\n",
       "      <th>1</th>\n",
       "      <td>barrow</td>\n",
       "    </tr>\n",
       "    <tr>\n",
       "      <th>2</th>\n",
       "      <td>rikitea</td>\n",
       "    </tr>\n",
       "    <tr>\n",
       "      <th>3</th>\n",
       "      <td>lebu</td>\n",
       "    </tr>\n",
       "    <tr>\n",
       "      <th>4</th>\n",
       "      <td>tapaua</td>\n",
       "    </tr>\n",
       "  </tbody>\n",
       "</table>\n",
       "</div>"
      ],
      "text/plain": [
       "        City\n",
       "0  busselton\n",
       "1     barrow\n",
       "2    rikitea\n",
       "3       lebu\n",
       "4     tapaua"
      ]
     },
     "execution_count": 10,
     "metadata": {},
     "output_type": "execute_result"
    }
   ],
   "source": [
    "#Test DataFrame\n",
    "cities_df = pd.DataFrame({\"City\": cities})\n",
    "cities_df. head()"
   ]
  },
  {
   "cell_type": "code",
   "execution_count": 11,
   "metadata": {},
   "outputs": [
    {
     "name": "stdout",
     "output_type": "stream",
     "text": [
      "Beginning Data Retrival\n",
      "-------------------------\n",
      "Processing record 1 | Busselton\n",
      "Processing record 2 | Barrow\n",
      "Processing record 3 | Rikitea\n",
      "Processing record 4 | Lebu\n",
      "City Not found, Skipping.....\n",
      "Processing record 5 | Kolokani\n",
      "Processing record 6 | Castro\n",
      "Processing record 7 | Newport\n",
      "Processing record 8 | Ushuaia\n",
      "Processing record 9 | Tautira\n",
      "Processing record 10 | Qaanaaq\n",
      "Processing record 11 | Mar del Plata\n",
      "Processing record 12 | Pandan\n",
      "Processing record 13 | Chamonix\n",
      "Processing record 14 | Puerto Madryn\n",
      "Processing record 15 | Tiksi\n",
      "Processing record 16 | Huhi\n",
      "City Not found, Skipping.....\n",
      "Processing record 17 | Cherskiy\n",
      "Processing record 18 | Esperance\n",
      "Processing record 19 | Sapouy\n",
      "Processing record 20 | Mount Isa\n",
      "Processing record 21 | Yellowknife\n",
      "Processing record 22 | Vaini\n",
      "Processing record 23 | Cape Town\n",
      "Processing record 24 | College\n",
      "Processing record 25 | Saint George\n",
      "Processing record 26 | Petersburg\n",
      "Processing record 27 | Lac-Mégantic\n",
      "Processing record 28 | Hithadhoo\n",
      "Processing record 29 | Nikolskoye\n",
      "Processing record 30 | George Town\n",
      "Processing record 31 | Albany\n",
      "Processing record 32 | Waipawa\n",
      "Processing record 33 | Naviraí\n",
      "Processing record 34 | Hereford\n",
      "Processing record 35 | Jamestown\n",
      "Processing record 36 | Hilo\n",
      "Processing record 37 | Saint-Augustin\n",
      "City Not found, Skipping.....\n",
      "Processing record 38 | Thompson\n",
      "Processing record 39 | Fortuna\n",
      "Processing record 40 | Ancud\n",
      "Processing record 41 | Antofagasta\n",
      "Processing record 42 | Punta Arenas\n",
      "Processing record 43 | Avarua\n",
      "Processing record 44 | Torbay\n",
      "Processing record 45 | Upernavik\n",
      "Processing record 46 | Garoua Boulaï\n",
      "Processing record 47 | San Miguel de Tucumán\n",
      "Processing record 48 | Nabire\n",
      "Processing record 49 | Black River\n",
      "Processing record 50 | Narāyangarh\n",
      "Processing record 51 | Tuktoyaktuk\n",
      "Processing record 52 | Khatanga\n",
      "Processing record 53 | São Borja\n",
      "Processing record 54 | Port Hardy\n",
      "Processing record 55 | New Norfolk\n",
      "Processing record 56 | Dunedin\n",
      "Processing record 57 | Maragogi\n",
      "Processing record 58 | Kuusamo\n",
      "Processing record 59 | Mataura\n",
      "Processing record 60 | Puerto Ayora\n",
      "Processing record 61 | Antsohihy\n",
      "Processing record 62 | Kaohsiung City\n",
      "Processing record 63 | Vokhma\n",
      "Processing record 64 | Salalah\n",
      "Processing record 65 | Te Anau\n",
      "Processing record 66 | Luanda\n",
      "Processing record 67 | Kununurra\n",
      "Processing record 68 | Manado\n",
      "Processing record 69 | Airai\n",
      "City Not found, Skipping.....\n",
      "Processing record 70 | Bredasdorp\n",
      "Processing record 71 | Ambon City\n",
      "Processing record 72 | Abu Dhabi\n",
      "Processing record 73 | Atuona\n",
      "Processing record 74 | Goderich\n",
      "Processing record 75 | Constitución\n",
      "Processing record 76 | Pangnirtung\n",
      "Processing record 77 | Carnarvon\n",
      "Processing record 78 | Ponta do Sol\n",
      "Processing record 79 | Portland\n",
      "Processing record 80 | Murray Bridge\n",
      "Processing record 81 | Lata\n",
      "Processing record 82 | Flinders\n",
      "Processing record 83 | Bambous Virieux\n",
      "Processing record 84 | Arraial do Cabo\n",
      "Processing record 85 | Grand Gaube\n",
      "Processing record 86 | Mabaruma\n",
      "Processing record 87 | Hong Kong\n",
      "Processing record 88 | Stow\n",
      "City Not found, Skipping.....\n",
      "Processing record 89 | Kapaa\n",
      "City Not found, Skipping.....\n",
      "Processing record 90 | Chui\n",
      "Processing record 91 | Dalbandin\n",
      "Processing record 92 | North Bend\n",
      "Processing record 93 | Houma\n",
      "Processing record 94 | Lüderitz\n",
      "Processing record 95 | Hobart\n",
      "Processing record 96 | Chokurdakh\n",
      "Processing record 97 | Libreville\n",
      "Processing record 98 | Miguel Auza\n",
      "Processing record 99 | Imbituba\n",
      "Processing record 100 | Tasiilaq\n",
      "City Not found, Skipping.....\n",
      "Processing record 101 | Udachny\n",
      "Processing record 102 | Ola\n",
      "Processing record 103 | Dikson\n",
      "Processing record 104 | Kruisfontein\n",
      "Processing record 105 | Unaí\n",
      "Processing record 106 | Nampula\n",
      "Processing record 107 | Padang\n",
      "Processing record 108 | Broome\n",
      "Processing record 109 | Pisco\n",
      "Processing record 110 | Sderot\n",
      "Processing record 111 | Tiarei\n",
      "Processing record 112 | Bonaventure\n",
      "Processing record 113 | Tigil'\n",
      "City Not found, Skipping.....\n",
      "Processing record 114 | Dabat\n",
      "Processing record 115 | Touros\n",
      "Processing record 116 | Kavieng\n",
      "Processing record 117 | Bluff\n",
      "Processing record 118 | Camaná\n",
      "Processing record 119 | Itanhaém\n",
      "Processing record 120 | Tonj\n",
      "Processing record 121 | Kodinsk\n",
      "Processing record 122 | Sernur\n",
      "Processing record 123 | Arman'\n",
      "Processing record 124 | Petropavlovsk-Kamchatskiy\n",
      "Processing record 125 | Winnemucca\n",
      "Processing record 126 | Bundaberg\n",
      "Processing record 127 | Husavik\n",
      "Processing record 128 | Antigonish\n",
      "Processing record 129 | Dyat'kovo\n",
      "Processing record 130 | Kargasok\n",
      "Processing record 131 | Cidreira\n",
      "Processing record 132 | Oranjestad\n",
      "Processing record 133 | Kutum\n",
      "City Not found, Skipping.....\n",
      "Processing record 134 | Suslovo\n",
      "Processing record 135 | Collie\n",
      "Processing record 136 | Porto-Vecchio\n",
      "Processing record 137 | Butaritari\n",
      "City Not found, Skipping.....\n",
      "Processing record 138 | Yar-Sale\n",
      "Processing record 139 | Ust'-Kan\n",
      "Processing record 140 | Ilulissat\n",
      "Processing record 141 | Nanortalik\n",
      "Processing record 142 | Nizhneudinsk\n",
      "Processing record 143 | Beyneu\n",
      "Processing record 144 | Porto-Novo\n",
      "Processing record 145 | Port Alfred\n",
      "Processing record 146 | Saskylakh\n",
      "Processing record 147 | Mahébourg\n",
      "Processing record 148 | Biak\n",
      "City Not found, Skipping.....\n",
      "Processing record 149 | Broken Hill\n",
      "Processing record 150 | Narsaq\n",
      "Processing record 151 | Matara\n",
      "Processing record 152 | Honningsvåg\n",
      "Processing record 153 | Sambava\n",
      "Processing record 154 | The Valley\n",
      "City Not found, Skipping.....\n",
      "Processing record 155 | Baykit\n",
      "Processing record 156 | Coahuayana Viejo\n",
      "City Not found, Skipping.....\n",
      "Processing record 157 | Chapais\n",
      "City Not found, Skipping.....\n",
      "Processing record 158 | Tura\n",
      "Processing record 159 | Hermanus\n",
      "Processing record 160 | Nosy Varika\n",
      "City Not found, Skipping.....\n",
      "Processing record 161 | São João da Barra\n",
      "Processing record 162 | Manzanillo\n",
      "Processing record 163 | Magaria\n",
      "City Not found, Skipping.....\n",
      "Processing record 164 | Ribeira Grande\n",
      "Processing record 165 | Cleveland\n",
      "City Not found, Skipping.....\n",
      "Processing record 166 | Saint Paul Harbor\n",
      "Processing record 167 | Quibdó\n",
      "Processing record 168 | Chekhov\n",
      "Processing record 169 | Balikpapan\n",
      "Processing record 170 | Port Lincoln\n",
      "Processing record 171 | Marawi\n",
      "Processing record 172 | Purmerend\n",
      "Processing record 173 | Changji\n",
      "Processing record 174 | Asău\n",
      "Processing record 175 | East London\n",
      "Processing record 176 | Sinnamary\n",
      "Processing record 177 | Dingle\n",
      "City Not found, Skipping.....\n",
      "Processing record 178 | Svetlaya\n",
      "Processing record 179 | Iacobeni\n",
      "Processing record 180 | Sibolga\n",
      "Processing record 181 | Luebo\n",
      "Processing record 182 | Muisne\n",
      "Processing record 183 | Goma\n",
      "Processing record 184 | Ivdel'\n",
      "Processing record 185 | Troitskoye\n",
      "Processing record 186 | St. Pete Beach\n",
      "Processing record 187 | Hudson Bay\n",
      "Processing record 188 | Sakakah\n",
      "Processing record 189 | Tual\n",
      "Processing record 190 | Saint-Philippe\n",
      "City Not found, Skipping.....\n",
      "Processing record 191 | Lagunas\n",
      "Processing record 192 | Mitsamiouli\n",
      "Processing record 193 | Longyearbyen\n",
      "Processing record 194 | Leatherhead\n",
      "Processing record 195 | Ondjiva\n",
      "Processing record 196 | Caucaia\n",
      "Processing record 197 | San Patricio\n",
      "Processing record 198 | Acaraú\n",
      "Processing record 199 | Yelizovo\n",
      "Processing record 200 | Verkhoyansk\n",
      "Processing record 201 | Sablé-sur-Sarthe\n",
      "Processing record 202 | San Cristobal\n",
      "Processing record 203 | Canguaretama\n",
      "Processing record 204 | Saint-Joseph\n",
      "Processing record 205 | Champerico\n",
      "Processing record 206 | Berlevåg\n",
      "Processing record 207 | Geraldton\n",
      "Processing record 208 | Mehamn\n",
      "Processing record 209 | Saint Anthony\n",
      "Processing record 210 | Athani\n",
      "Processing record 211 | Kumul\n",
      "Processing record 212 | Tilichiki\n",
      "Processing record 213 | St. George's\n",
      "Processing record 214 | Almazar\n",
      "Processing record 215 | Pevek\n",
      "Processing record 216 | Kudahuvadhoo\n",
      "Processing record 217 | Abu Samrah\n",
      "Processing record 218 | Ankang\n",
      "Processing record 219 | Necochea\n",
      "Processing record 220 | Vardø\n",
      "Processing record 221 | San Jerónimo\n",
      "Processing record 222 | Upington\n",
      "Processing record 223 | Rincon\n",
      "Processing record 224 | Meulaboh\n",
      "Processing record 225 | Agadez\n",
      "Processing record 226 | Tatarka\n",
      "Processing record 227 | Santo Antônio do Içá\n",
      "Processing record 228 | São Filipe\n",
      "Processing record 229 | Ahipara\n"
     ]
    },
    {
     "name": "stdout",
     "output_type": "stream",
     "text": [
      "Processing record 230 | Hernani\n",
      "Processing record 231 | Iqaluit\n",
      "Processing record 232 | Ukiah\n",
      "Processing record 233 | Oxelösund\n",
      "Processing record 234 | Lorengau\n",
      "Processing record 235 | Olafsvik\n",
      "Processing record 236 | Bud\n",
      "Processing record 237 | Vanavara\n",
      "Processing record 238 | Dulce Grande\n",
      "Processing record 239 | Fremont\n",
      "Processing record 240 | Alta Floresta\n",
      "City Not found, Skipping.....\n",
      "Processing record 241 | Najrān\n",
      "Processing record 242 | Karpathos\n",
      "Processing record 243 | Hofn\n",
      "Processing record 244 | Carutapera\n",
      "Processing record 245 | Voznesen'ye\n",
      "Processing record 246 | Sainte-Maxime\n",
      "Processing record 247 | Labuan\n",
      "Processing record 248 | Tatarskaya Pishlya\n",
      "City Not found, Skipping.....\n",
      "Processing record 249 | Hamilton\n",
      "Processing record 250 | Kabinda\n",
      "City Not found, Skipping.....\n",
      "Processing record 251 | Ordzhonīkīdze\n",
      "Processing record 252 | Galle\n",
      "Processing record 253 | Richards Bay\n",
      "City Not found, Skipping.....\n",
      "Processing record 254 | Katsuura\n",
      "Processing record 255 | Liverpool\n",
      "Processing record 256 | Mogwase\n",
      "Processing record 257 | Bellevue\n",
      "Processing record 258 | Apomu\n",
      "Processing record 259 | Santa Marta\n",
      "Processing record 260 | Klaksvík\n",
      "Processing record 261 | Traverse City\n",
      "Processing record 262 | Kaeo\n",
      "Processing record 263 | Luorong\n",
      "City Not found, Skipping.....\n",
      "Processing record 264 | Rāvar\n",
      "Processing record 265 | Gijang\n",
      "Processing record 266 | Mount Gambier\n",
      "Processing record 267 | Erzin\n",
      "Processing record 268 | Angoram\n",
      "Processing record 269 | Hambantota\n",
      "Processing record 270 | Provideniya\n",
      "Processing record 271 | Korla\n",
      "Processing record 272 | Simpang\n",
      "Processing record 273 | Alofi\n",
      "City Not found, Skipping.....\n",
      "Processing record 274 | Clyde River\n",
      "Processing record 275 | São José da Coroa Grande\n",
      "Processing record 276 | Muscat\n",
      "Processing record 277 | Ambilobe\n",
      "Processing record 278 | Groton\n",
      "Processing record 279 | Nishihara\n",
      "Processing record 280 | Belmonte\n",
      "Processing record 281 | Moree\n",
      "Processing record 282 | Erenhot\n",
      "Processing record 283 | Kavaratti\n",
      "Processing record 284 | Avera\n",
      "Processing record 285 | Half Moon Bay\n",
      "City Not found, Skipping.....\n",
      "Processing record 286 | Shimoda\n",
      "Processing record 287 | Suntar\n",
      "Processing record 288 | Leh\n",
      "Processing record 289 | Pozo Colorado\n",
      "Processing record 290 | Lompoc\n",
      "Processing record 291 | Besançon\n",
      "Processing record 292 | Strezhevoy\n",
      "Processing record 293 | Bonthe\n",
      "Processing record 294 | Anadyr\n",
      "City Not found, Skipping.....\n",
      "Processing record 295 | Payakumbuh\n",
      "Processing record 296 | Severo-Kuril'sk\n",
      "Processing record 297 | Vila Velha\n",
      "Processing record 298 | Alekseyevsk\n",
      "Processing record 299 | Sitka\n",
      "Processing record 300 | Sirte\n",
      "Processing record 301 | Halmstad\n",
      "Processing record 302 | Sisimiut\n",
      "Processing record 303 | Beringovskiy\n",
      "Processing record 304 | Fairbanks\n",
      "Processing record 305 | Kaitangata\n",
      "Processing record 306 | Krasnosel'kup\n",
      "Processing record 307 | Harper\n",
      "Processing record 308 | Karasjok\n",
      "Processing record 309 | Lokoja\n",
      "Processing record 310 | Wajir\n",
      "Processing record 311 | Coffs Harbour\n",
      "Processing record 312 | Nome\n",
      "Processing record 313 | Yatou\n",
      "Processing record 314 | Ixtapa\n",
      "City Not found, Skipping.....\n",
      "Processing record 315 | Santa Maria\n",
      "Processing record 316 | Etchoropo\n",
      "Processing record 317 | Ishii\n",
      "Processing record 318 | Faanui\n",
      "Processing record 319 | Province of Mantua\n",
      "Processing record 320 | Nadym\n",
      "Processing record 321 | Bethel\n",
      "Processing record 322 | Ossora\n",
      "City Not found, Skipping.....\n",
      "Processing record 323 | Medininagar\n",
      "Processing record 324 | Saint-Pierre\n",
      "Processing record 325 | Lethem\n",
      "Processing record 326 | Bograd\n",
      "Processing record 327 | Mazagão\n",
      "City Not found, Skipping.....\n",
      "Processing record 328 | Bilma\n",
      "Processing record 329 | Katherine\n",
      "Processing record 330 | Llandrindod Wells\n",
      "Processing record 331 | Mataram\n",
      "Processing record 332 | Kazachinskoye\n",
      "City Not found, Skipping.....\n",
      "City Not found, Skipping.....\n",
      "Processing record 333 | Aketi\n",
      "Processing record 334 | Berekum\n",
      "Processing record 335 | Kushima\n",
      "Processing record 336 | Ürümqi\n",
      "Processing record 337 | Hasaki\n",
      "Processing record 338 | Piedras Negras\n",
      "Processing record 339 | Juruti\n",
      "Processing record 340 | Wilmington\n",
      "Processing record 341 | Lovrenc na Pohorju\n",
      "Processing record 342 | Praia\n",
      "Processing record 343 | Listvyanskiy\n",
      "Processing record 344 | Lincoln\n",
      "Processing record 345 | Sittwe\n",
      "Processing record 346 | Mincivan\n",
      "City Not found, Skipping.....\n",
      "Processing record 347 | Sorong\n",
      "Processing record 348 | Naze\n",
      "Processing record 349 | Shwebo\n",
      "Processing record 350 | Puerto Quijarro\n",
      "Processing record 351 | Souillac\n",
      "Processing record 352 | Jacareacanga\n",
      "Processing record 353 | Dolores\n",
      "Processing record 354 | Aracaju\n",
      "Processing record 355 | Mackay\n",
      "Processing record 356 | Pedasí\n",
      "Processing record 357 | Coihueco\n",
      "City Not found, Skipping.....\n",
      "Processing record 358 | Hennigsdorf\n",
      "Processing record 359 | Ostrovnoy\n",
      "Processing record 360 | Ushtobe\n",
      "Processing record 361 | Saldanha\n",
      "Processing record 362 | Xuanzhou\n",
      "Processing record 363 | Zhuhai\n",
      "City Not found, Skipping.....\n",
      "Processing record 364 | Port Elizabeth\n",
      "Processing record 365 | Arlit\n",
      "Processing record 366 | Cayenne\n",
      "Processing record 367 | San-Pédro\n",
      "Processing record 368 | Comodoro Rivadavia\n",
      "Processing record 369 | Tuatapere\n",
      "Processing record 370 | Ierapetra\n",
      "Processing record 371 | Andros Town\n",
      "Processing record 372 | Itarema\n",
      "Processing record 373 | Vila Franca do Campo\n",
      "Processing record 374 | Zhangaözen\n",
      "Processing record 375 | Mana\n",
      "Processing record 376 | Rafaela\n",
      "Processing record 377 | Nemuro\n",
      "Processing record 378 | Tokur\n",
      "Processing record 379 | Guanare\n",
      "Processing record 380 | Rochegda\n",
      "Processing record 381 | Diamantino\n",
      "Processing record 382 | Utiel\n",
      "Processing record 383 | Grand Forks\n",
      "Processing record 384 | Alice Springs\n",
      "Processing record 385 | Yasnyy\n",
      "Processing record 386 | Caravelas\n",
      "Processing record 387 | Lübben\n",
      "Processing record 388 | Ulaangom\n",
      "Processing record 389 | Bambey\n",
      "Processing record 390 | Kolobovo\n",
      "Processing record 391 | Ferrol\n",
      "Processing record 392 | Mt. Pleasant\n",
      "Processing record 393 | Chiavari\n",
      "Processing record 394 | Charlestown\n",
      "Processing record 395 | Forsytheganj\n",
      "Processing record 396 | Nuuk\n",
      "Processing record 397 | Porto Torres\n",
      "Processing record 398 | Townsville\n",
      "Processing record 399 | Palmer\n",
      "Processing record 400 | Hispania\n",
      "Processing record 401 | Krasnoborsk\n",
      "Processing record 402 | Takapau\n",
      "Processing record 403 | Viking\n",
      "Processing record 404 | Batagay\n",
      "City Not found, Skipping.....\n",
      "Processing record 405 | Prado\n",
      "Processing record 406 | Pyapon\n",
      "Processing record 407 | La Ronge\n",
      "Processing record 408 | Soe\n",
      "Processing record 409 | Adrar\n",
      "Processing record 410 | Grandview\n",
      "Processing record 411 | Chapada dos Guimarães\n",
      "Processing record 412 | Varadero\n",
      "Processing record 413 | Cartagena del Chairá\n",
      "Processing record 414 | Iquitos\n",
      "Processing record 415 | Botou\n",
      "Processing record 416 | Gaurnadi\n",
      "Processing record 417 | Preobrazheniye\n",
      "Processing record 418 | Jiuquan\n",
      "Processing record 419 | Norman Wells\n",
      "Processing record 420 | Lagoa\n",
      "Processing record 421 | Kiryat Gat\n",
      "Processing record 422 | Macrohon\n",
      "Processing record 423 | Neiafu\n",
      "Processing record 424 | Vostok\n",
      "Processing record 425 | Manokwari\n",
      "Processing record 426 | Cabo San Lucas\n",
      "Processing record 427 | Yangi Marg`ilon\n",
      "Processing record 428 | Jalu\n",
      "City Not found, Skipping.....\n",
      "Processing record 429 | Stokmarknes\n",
      "Processing record 430 | Raymond Terrace\n",
      "Processing record 431 | Barra de Tecoanapa\n",
      "Processing record 432 | Port-Cartier\n",
      "Processing record 433 | Sola\n",
      "Processing record 434 | Marzuq\n",
      "Processing record 435 | Sabang\n",
      "City Not found, Skipping.....\n",
      "Processing record 436 | Agua Dulce\n",
      "Processing record 437 | Yulara\n",
      "Processing record 438 | At-Bashi\n",
      "Processing record 439 | Bengkulu\n",
      "Processing record 440 | Kosh-Agach\n",
      "Processing record 441 | Nushki\n",
      "Processing record 442 | Mildura\n",
      "Processing record 443 | Yaring\n",
      "Processing record 444 | Eyl\n",
      "Processing record 445 | Boli\n",
      "Processing record 446 | Cabinda\n",
      "Processing record 447 | Polunochnoye\n",
      "Processing record 448 | Walvis Bay\n",
      "Processing record 449 | Puerto Carreño\n",
      "Processing record 450 | Lavrentiya\n",
      "Processing record 451 | Kokorevka\n",
      "Processing record 452 | Novy Urengoy\n",
      "Processing record 453 | Departamento de Maldonado\n",
      "Processing record 454 | Izhma\n",
      "Processing record 455 | Margate\n",
      "Processing record 456 | Manbij\n",
      "Processing record 457 | Jiayuguan City\n"
     ]
    },
    {
     "name": "stdout",
     "output_type": "stream",
     "text": [
      "Processing record 458 | Deputatsky\n",
      "Processing record 459 | Tuy Hoa\n",
      "City Not found, Skipping.....\n",
      "Processing record 460 | Lufilufi\n",
      "Processing record 461 | Yarmouth\n",
      "Processing record 462 | Todos Santos\n",
      "Processing record 463 | Siemiatycze\n",
      "Processing record 464 | Faya\n",
      "City Not found, Skipping.....\n",
      "Processing record 465 | Nouadhibou\n",
      "Processing record 466 | Sabla\n",
      "Processing record 467 | Diffa\n",
      "Processing record 468 | Yantzaza\n",
      "Processing record 469 | Tokmak\n",
      "Processing record 470 | Murgab\n",
      "Processing record 471 | Rio Grande\n",
      "Processing record 472 | Sandy Bay\n",
      "Processing record 473 | Tamiahua\n",
      "Processing record 474 | Quatre Cocos\n",
      "Processing record 475 | Garissa\n",
      "Processing record 476 | Rørvik\n",
      "Processing record 477 | Suzun\n",
      "Processing record 478 | Marsala\n",
      "Processing record 479 | Fomboni\n",
      "Processing record 480 | Pétionville\n",
      "Processing record 481 | Kapit\n",
      "Processing record 482 | Makarov\n",
      "Processing record 483 | Lehigh Acres\n",
      "Processing record 484 | Port Hedland\n",
      "Processing record 485 | Merauke\n",
      "Processing record 486 | Honiara\n",
      "Processing record 487 | Manzini\n",
      "Processing record 488 | Ngama\n",
      "Processing record 489 | Cockburn Town\n",
      "Processing record 490 | Leningradskiy\n",
      "Processing record 491 | Iguape\n",
      "Processing record 492 | Orange Cove\n",
      "Processing record 493 | Presov\n",
      "Processing record 494 | Yaan\n",
      "City Not found, Skipping.....\n",
      "Processing record 495 | Vysokogornyy\n",
      "Processing record 496 | Coquimbo\n",
      "Processing record 497 | Paracuru\n",
      "Processing record 498 | Dachnoye\n",
      "Processing record 499 | Marsá Maţrūḩ\n",
      "Processing record 500 | Kushmurun\n",
      "Processing record 501 | Vestmannaeyjar\n",
      "Processing record 502 | Vao\n",
      "Processing record 503 | Shingū\n",
      "Processing record 504 | Los Llanos de Aridane\n",
      "Processing record 505 | Bitung\n",
      "Processing record 506 | Otjimbingwe\n",
      "City Not found, Skipping.....\n",
      "Processing record 507 | Codrington\n",
      "Processing record 508 | Macao\n",
      "Processing record 509 | Hualmay\n",
      "Processing record 510 | Kwinana\n",
      "Processing record 511 | Qaqortoq\n",
      "City Not found, Skipping.....\n",
      "Processing record 512 | Sinjār\n",
      "Processing record 513 | Caucayá\n",
      "Processing record 514 | Egvekinot\n",
      "Processing record 515 | Puerto Ayacucho\n",
      "Processing record 516 | Belle Fourche\n",
      "Processing record 517 | Xining\n",
      "Processing record 518 | Chimbote\n",
      "City Not found, Skipping.....\n",
      "Processing record 519 | Zabid\n",
      "Processing record 520 | Suffolk\n",
      "Processing record 521 | Fevik\n",
      "Processing record 522 | Qena\n",
      "Processing record 523 | Mossamedes\n",
      "City Not found, Skipping.....\n",
      "Processing record 524 | Qorveh\n",
      "City Not found, Skipping.....\n",
      "Processing record 525 | Nago\n",
      "Processing record 526 | Batemans Bay\n",
      "Processing record 527 | Fernie\n",
      "Processing record 528 | Maun\n",
      "Processing record 529 | Aloleng\n",
      "Processing record 530 | Byron Bay\n",
      "Processing record 531 | Maningrida\n",
      "Processing record 532 | Khasan\n",
      "Processing record 533 | Raudeberg\n",
      "Processing record 534 | Canmore\n",
      "Processing record 535 | Presidente Epitácio\n",
      "Processing record 536 | Senanga\n",
      "Processing record 537 | Coyhaique\n",
      "Processing record 538 | Umm Kaddadah\n",
      "Processing record 539 | Novotroitsk\n",
      "City Not found, Skipping.....\n",
      "Processing record 540 | Puerto Escondido\n",
      "Processing record 541 | Yambio\n",
      "Processing record 542 | Bhiwāni\n",
      "Processing record 543 | Sidi Ali\n",
      "Processing record 544 | Sistranda\n",
      "Processing record 545 | Cabrero\n",
      "Processing record 546 | Kokopo\n",
      "Processing record 547 | Tazovsky\n",
      "Processing record 548 | Gravdal\n",
      "Processing record 549 | Pescantina\n",
      "Processing record 550 | Norrköping\n",
      "Processing record 551 | Valente\n",
      "Processing record 552 | Aswān\n",
      "Processing record 553 | Yola\n",
      "Processing record 554 | Guelph\n",
      "Processing record 555 | Cam Ranh\n",
      "Processing record 556 | Birjand\n",
      "Processing record 557 | Camacupa\n",
      "Processing record 558 | Havøysund\n",
      "Processing record 559 | Bathsheba\n",
      "Processing record 560 | Kirakira\n",
      "Processing record 561 | Gibara\n",
      "Processing record 562 | Koutsouras\n",
      "Processing record 563 | Matamoros\n",
      "Processing record 564 | Ondangwa\n",
      "Processing record 565 | Laguna\n",
      "Processing record 566 | Binzhou\n",
      "Processing record 567 | Barcelos\n",
      "Processing record 568 | Virginia Beach\n",
      "Processing record 569 | Sakaidechō\n",
      "Processing record 570 | Tonantins\n",
      "Processing record 571 | Kiunga\n",
      "Processing record 572 | Tongliao\n",
      "Processing record 573 | Ekhabi\n",
      "Processing record 574 | Tiznit Province\n",
      "Processing record 575 | Payo\n",
      "City Not found, Skipping.....\n",
      "Processing record 576 | Umarkot\n",
      "Processing record 577 | Tabou\n",
      "Processing record 578 | Qandala\n",
      "City Not found, Skipping.....\n"
     ]
    }
   ],
   "source": [
    "# begin with Variables \n",
    "ncities = 500\n",
    "city_name = []\n",
    "c_country = []\n",
    "date =[]\n",
    "c_lat =[]\n",
    "c_lon =[]\n",
    "temp = []\n",
    "temp_max =[]\n",
    "humid =[]\n",
    "cloud =[]\n",
    "wind =[]\n",
    "i = 1\n",
    "\n",
    "\n",
    "print (f\"Beginning Data Retrival\")\n",
    "print (\"-------------------------\")\n",
    "# Append List\n",
    "for city in cities:\n",
    "    city=city\n",
    "    query_url = weather_url + \"appid=\" + weather_api_key + \"&units=\" + units +\"&q=\" + city\n",
    "    w_json =requests.get(query_url).json()\n",
    "    \n",
    "    try:      \n",
    "        city_name.append(w_json [\"name\"])\n",
    "        c_country.append(w_json[\"sys\"][\"country\"])\n",
    "        date.append(w_json[\"dt\"])\n",
    "        c_lat.append(w_json[\"coord\"][\"lat\"])\n",
    "        c_lon.append(w_json [\"coord\"][\"lon\"])\n",
    "        temp_max.append(w_json[\"main\"][\"temp_max\"])\n",
    "        #temp.append(w_json [\"main\"][\"temp\"])\n",
    "        humid.append(w_json [\"main\"][\"humidity\"])\n",
    "        cloud.append(w_json [\"clouds\"][\"all\"])\n",
    "        wind.append(w_json [\"wind\"][\"speed\"])\n",
    "        city_info = w_json[\"name\"]\n",
    "        print(f\"Processing record {i} | {city_info}\")\n",
    "        i+=1\n",
    "    except (KeyError):\n",
    "        print(f\"City Not found, Skipping.....\")\n",
    "            \n",
    "        \n",
    "        \n"
   ]
  },
  {
   "cell_type": "markdown",
   "metadata": {},
   "source": [
    "### Convert Raw Data to DataFrame\n",
    "* Export the city data into a .csv.\n",
    "* Display the DataFrame"
   ]
  },
  {
   "cell_type": "code",
   "execution_count": 13,
   "metadata": {
    "scrolled": true
   },
   "outputs": [
    {
     "data": {
      "text/html": [
       "<div>\n",
       "<style scoped>\n",
       "    .dataframe tbody tr th:only-of-type {\n",
       "        vertical-align: middle;\n",
       "    }\n",
       "\n",
       "    .dataframe tbody tr th {\n",
       "        vertical-align: top;\n",
       "    }\n",
       "\n",
       "    .dataframe thead th {\n",
       "        text-align: right;\n",
       "    }\n",
       "</style>\n",
       "<table border=\"1\" class=\"dataframe\">\n",
       "  <thead>\n",
       "    <tr style=\"text-align: right;\">\n",
       "      <th></th>\n",
       "      <th>City Name</th>\n",
       "      <th>Country</th>\n",
       "      <th>Cloudiness</th>\n",
       "      <th>Lat</th>\n",
       "      <th>Long</th>\n",
       "      <th>Humidity</th>\n",
       "      <th>Windspeed</th>\n",
       "      <th>Temperature</th>\n",
       "    </tr>\n",
       "  </thead>\n",
       "  <tbody>\n",
       "    <tr>\n",
       "      <th>0</th>\n",
       "      <td>Busselton</td>\n",
       "      <td>AU</td>\n",
       "      <td>100</td>\n",
       "      <td>-33.6500</td>\n",
       "      <td>115.3333</td>\n",
       "      <td>88</td>\n",
       "      <td>1.01</td>\n",
       "      <td>64.00</td>\n",
       "    </tr>\n",
       "    <tr>\n",
       "      <th>1</th>\n",
       "      <td>Barrow</td>\n",
       "      <td>US</td>\n",
       "      <td>90</td>\n",
       "      <td>71.2906</td>\n",
       "      <td>-156.7887</td>\n",
       "      <td>76</td>\n",
       "      <td>5.75</td>\n",
       "      <td>-20.20</td>\n",
       "    </tr>\n",
       "    <tr>\n",
       "      <th>2</th>\n",
       "      <td>Rikitea</td>\n",
       "      <td>PF</td>\n",
       "      <td>37</td>\n",
       "      <td>-23.1203</td>\n",
       "      <td>-134.9692</td>\n",
       "      <td>62</td>\n",
       "      <td>5.39</td>\n",
       "      <td>78.24</td>\n",
       "    </tr>\n",
       "    <tr>\n",
       "      <th>3</th>\n",
       "      <td>Lebu</td>\n",
       "      <td>CL</td>\n",
       "      <td>25</td>\n",
       "      <td>-37.6167</td>\n",
       "      <td>-73.6500</td>\n",
       "      <td>78</td>\n",
       "      <td>24.20</td>\n",
       "      <td>64.87</td>\n",
       "    </tr>\n",
       "    <tr>\n",
       "      <th>4</th>\n",
       "      <td>Kolokani</td>\n",
       "      <td>ML</td>\n",
       "      <td>100</td>\n",
       "      <td>13.5728</td>\n",
       "      <td>-8.0339</td>\n",
       "      <td>15</td>\n",
       "      <td>8.23</td>\n",
       "      <td>81.81</td>\n",
       "    </tr>\n",
       "    <tr>\n",
       "      <th>...</th>\n",
       "      <td>...</td>\n",
       "      <td>...</td>\n",
       "      <td>...</td>\n",
       "      <td>...</td>\n",
       "      <td>...</td>\n",
       "      <td>...</td>\n",
       "      <td>...</td>\n",
       "      <td>...</td>\n",
       "    </tr>\n",
       "    <tr>\n",
       "      <th>573</th>\n",
       "      <td>Tiznit Province</td>\n",
       "      <td>MA</td>\n",
       "      <td>56</td>\n",
       "      <td>29.5833</td>\n",
       "      <td>-9.5000</td>\n",
       "      <td>81</td>\n",
       "      <td>5.39</td>\n",
       "      <td>53.35</td>\n",
       "    </tr>\n",
       "    <tr>\n",
       "      <th>574</th>\n",
       "      <td>Payo</td>\n",
       "      <td>ID</td>\n",
       "      <td>98</td>\n",
       "      <td>-3.7508</td>\n",
       "      <td>103.6372</td>\n",
       "      <td>96</td>\n",
       "      <td>2.51</td>\n",
       "      <td>73.27</td>\n",
       "    </tr>\n",
       "    <tr>\n",
       "      <th>575</th>\n",
       "      <td>Umarkot</td>\n",
       "      <td>PK</td>\n",
       "      <td>0</td>\n",
       "      <td>25.3616</td>\n",
       "      <td>69.7362</td>\n",
       "      <td>13</td>\n",
       "      <td>5.48</td>\n",
       "      <td>66.96</td>\n",
       "    </tr>\n",
       "    <tr>\n",
       "      <th>576</th>\n",
       "      <td>Tabou</td>\n",
       "      <td>CI</td>\n",
       "      <td>85</td>\n",
       "      <td>4.4230</td>\n",
       "      <td>-7.3528</td>\n",
       "      <td>84</td>\n",
       "      <td>4.14</td>\n",
       "      <td>78.98</td>\n",
       "    </tr>\n",
       "    <tr>\n",
       "      <th>577</th>\n",
       "      <td>Qandala</td>\n",
       "      <td>SO</td>\n",
       "      <td>0</td>\n",
       "      <td>11.4720</td>\n",
       "      <td>49.8728</td>\n",
       "      <td>55</td>\n",
       "      <td>4.50</td>\n",
       "      <td>78.08</td>\n",
       "    </tr>\n",
       "  </tbody>\n",
       "</table>\n",
       "<p>578 rows × 8 columns</p>\n",
       "</div>"
      ],
      "text/plain": [
       "           City Name Country  Cloudiness      Lat      Long  Humidity  \\\n",
       "0          Busselton      AU         100 -33.6500  115.3333        88   \n",
       "1             Barrow      US          90  71.2906 -156.7887        76   \n",
       "2            Rikitea      PF          37 -23.1203 -134.9692        62   \n",
       "3               Lebu      CL          25 -37.6167  -73.6500        78   \n",
       "4           Kolokani      ML         100  13.5728   -8.0339        15   \n",
       "..               ...     ...         ...      ...       ...       ...   \n",
       "573  Tiznit Province      MA          56  29.5833   -9.5000        81   \n",
       "574             Payo      ID          98  -3.7508  103.6372        96   \n",
       "575          Umarkot      PK           0  25.3616   69.7362        13   \n",
       "576            Tabou      CI          85   4.4230   -7.3528        84   \n",
       "577          Qandala      SO           0  11.4720   49.8728        55   \n",
       "\n",
       "     Windspeed  Temperature  \n",
       "0         1.01        64.00  \n",
       "1         5.75       -20.20  \n",
       "2         5.39        78.24  \n",
       "3        24.20        64.87  \n",
       "4         8.23        81.81  \n",
       "..         ...          ...  \n",
       "573       5.39        53.35  \n",
       "574       2.51        73.27  \n",
       "575       5.48        66.96  \n",
       "576       4.14        78.98  \n",
       "577       4.50        78.08  \n",
       "\n",
       "[578 rows x 8 columns]"
      ]
     },
     "execution_count": 13,
     "metadata": {},
     "output_type": "execute_result"
    }
   ],
   "source": [
    "# Convert to Dataframe\n",
    "weather_d= {'City Name': city_name,'Country': c_country,'Cloudiness': cloud,'Lat':c_lat,'Long':c_lon,'Humidity':humid,'Windspeed':wind,'Temperature': temp_max}\n",
    "weather_df =pd.DataFrame(weather_d, columns=('City Name','Country','Cloudiness','Lat','Long','Humidity', 'Windspeed','Temperature'))\n",
    "weather_df"
   ]
  },
  {
   "cell_type": "code",
   "execution_count": 14,
   "metadata": {
    "scrolled": true
   },
   "outputs": [],
   "source": [
    "weather_df.to_csv(output_data_file)"
   ]
  },
  {
   "cell_type": "markdown",
   "metadata": {},
   "source": [
    "## Inspect the data and remove the cities where the humidity > 100%.\n",
    "----\n",
    "Skip this step if there are no cities that have humidity > 100%. "
   ]
  },
  {
   "cell_type": "code",
   "execution_count": 15,
   "metadata": {},
   "outputs": [
    {
     "name": "stdout",
     "output_type": "stream",
     "text": [
      "No cities have over 100% humidity in data\n"
     ]
    },
    {
     "data": {
      "text/plain": [
       "count    578.000000\n",
       "mean      71.337370\n",
       "std       21.336668\n",
       "min       11.000000\n",
       "25%       60.000000\n",
       "50%       78.000000\n",
       "75%       87.000000\n",
       "max      100.000000\n",
       "Name: Humidity, dtype: float64"
      ]
     },
     "execution_count": 15,
     "metadata": {},
     "output_type": "execute_result"
    }
   ],
   "source": [
    "#Find out if any city has above 100% humididty\n",
    "test_humidity = weather_df[\"Humidity\"].describe(include = \"all\")\n",
    "print(\"No cities have over 100% humidity in data\")\n",
    "test_humidity"
   ]
  },
  {
   "cell_type": "code",
   "execution_count": 16,
   "metadata": {},
   "outputs": [],
   "source": [
    "#  Get the indices of cities that have humidity over 100%.\n"
   ]
  },
  {
   "cell_type": "code",
   "execution_count": 17,
   "metadata": {},
   "outputs": [],
   "source": [
    "# Make a new DataFrame equal to the city data to drop all humidity outliers by index.\n",
    "# Passing \"inplace=False\" will make a copy of the city_data DataFrame, which we call \"clean_city_data\".\n"
   ]
  },
  {
   "cell_type": "markdown",
   "metadata": {},
   "source": [
    "## Plotting the Data\n",
    "* Use proper labeling of the plots using plot titles (including date of analysis) and axes labels.\n",
    "* Save the plotted figures as .pngs."
   ]
  },
  {
   "cell_type": "markdown",
   "metadata": {},
   "source": [
    "## Latitude vs. Temperature Plot"
   ]
  },
  {
   "cell_type": "code",
   "execution_count": 18,
   "metadata": {
    "scrolled": true
   },
   "outputs": [
    {
     "data": {
      "text/plain": [
       "<function matplotlib.pyplot.show(close=None, block=None)>"
      ]
     },
     "execution_count": 18,
     "metadata": {},
     "output_type": "execute_result"
    },
    {
     "data": {
      "image/png": "[encoded data removed]",
      "text/plain": [
       "<Figure size 432x288 with 1 Axes>"
      ]
     },
     "metadata": {
      "needs_background": "light"
     },
     "output_type": "display_data"
    }
   ],
   "source": [
    "plt.scatter(weather_df[\"Lat\"], weather_df[\"Temperature\"])\n",
    "plt.title(f\"City Latitude vs. Temperature\")\n",
    "plt.xlabel('Latitude')\n",
    "plt.ylabel('Temperature')\n",
    "plt.grid(alpha = 0.5)\n",
    "plt.savefig(\"output_data/Latitudevs.Temperature.png\")\n",
    "plt.show\n",
    "\n",
    "          "
   ]
  },
  {
   "cell_type": "markdown",
   "metadata": {},
   "source": [
    "## Latitude vs. Humidity Plot"
   ]
  },
  {
   "cell_type": "code",
   "execution_count": 19,
   "metadata": {},
   "outputs": [
    {
     "data": {
      "text/plain": [
       "<function matplotlib.pyplot.show(close=None, block=None)>"
      ]
     },
     "execution_count": 19,
     "metadata": {},
     "output_type": "execute_result"
    },
    {
     "data": {
      "image/png": "[encoded data removed]",
      "text/plain": [
       "<Figure size 432x288 with 1 Axes>"
      ]
     },
     "metadata": {
      "needs_background": "light"
     },
     "output_type": "display_data"
    }
   ],
   "source": [
    "plt.scatter(weather_df[\"Lat\"], weather_df[\"Humidity\"])\n",
    "plt.title(f\"City Latitude vs. Humidity\")\n",
    "plt.xlabel('Latitude')\n",
    "plt.ylabel('Humidity')\n",
    "plt.grid(alpha = 0.5)\n",
    "plt.savefig(\"output_data/Latitudevshumidity.png\")\n",
    "plt.show"
   ]
  },
  {
   "cell_type": "markdown",
   "metadata": {},
   "source": [
    "## Latitude vs. Cloudiness Plot"
   ]
  },
  {
   "cell_type": "code",
   "execution_count": 20,
   "metadata": {},
   "outputs": [
    {
     "data": {
      "text/plain": [
       "<function matplotlib.pyplot.show(close=None, block=None)>"
      ]
     },
     "execution_count": 20,
     "metadata": {},
     "output_type": "execute_result"
    },
    {
     "data": {
      "image/png": "[encoded data removed]",
      "text/plain": [
       "<Figure size 432x288 with 1 Axes>"
      ]
     },
     "metadata": {
      "needs_background": "light"
     },
     "output_type": "display_data"
    }
   ],
   "source": [
    "plt.scatter(weather_df[\"Lat\"], weather_df[\"Cloudiness\"])\n",
    "plt.title(f\"City Latitude vs. cloudiness\")\n",
    "plt.xlabel('Latitude')\n",
    "plt.ylabel('Cloudiness')\n",
    "plt.grid(alpha = 0.5)\n",
    "plt.savefig(\"output_data/Latitudevscloud.png\")\n",
    "plt.show"
   ]
  },
  {
   "cell_type": "markdown",
   "metadata": {},
   "source": [
    "## Latitude vs. Wind Speed Plot"
   ]
  },
  {
   "cell_type": "code",
   "execution_count": 21,
   "metadata": {},
   "outputs": [
    {
     "data": {
      "text/plain": [
       "<function matplotlib.pyplot.show(close=None, block=None)>"
      ]
     },
     "execution_count": 21,
     "metadata": {},
     "output_type": "execute_result"
    },
    {
     "data": {
      "image/png": "[encoded data removed]",
      "text/plain": [
       "<Figure size 432x288 with 1 Axes>"
      ]
     },
     "metadata": {
      "needs_background": "light"
     },
     "output_type": "display_data"
    }
   ],
   "source": [
    "plt.scatter(weather_df[\"Lat\"], weather_df[\"Windspeed\"])\n",
    "plt.title(f\"City Latitude vs. Windspeed\")\n",
    "plt.xlabel('Latitude')\n",
    "plt.ylabel('Windspeed')\n",
    "plt.grid(alpha = 0.5)\n",
    "plt.savefig(\"output_data/Latitudevswind.png\")\n",
    "plt.show"
   ]
  },
  {
   "cell_type": "markdown",
   "metadata": {},
   "source": [
    "## Linear Regression"
   ]
  },
  {
   "cell_type": "markdown",
   "metadata": {},
   "source": [
    "####  Northern Hemisphere - Max Temp vs. Latitude Linear Regression"
   ]
  },
  {
   "cell_type": "code",
   "execution_count": 22,
   "metadata": {},
   "outputs": [
    {
     "data": {
      "text/html": [
       "<div>\n",
       "<style scoped>\n",
       "    .dataframe tbody tr th:only-of-type {\n",
       "        vertical-align: middle;\n",
       "    }\n",
       "\n",
       "    .dataframe tbody tr th {\n",
       "        vertical-align: top;\n",
       "    }\n",
       "\n",
       "    .dataframe thead th {\n",
       "        text-align: right;\n",
       "    }\n",
       "</style>\n",
       "<table border=\"1\" class=\"dataframe\">\n",
       "  <thead>\n",
       "    <tr style=\"text-align: right;\">\n",
       "      <th></th>\n",
       "      <th>City Name</th>\n",
       "      <th>Country</th>\n",
       "      <th>Cloudiness</th>\n",
       "      <th>Lat</th>\n",
       "      <th>Long</th>\n",
       "      <th>Humidity</th>\n",
       "      <th>Windspeed</th>\n",
       "      <th>Temperature</th>\n",
       "    </tr>\n",
       "  </thead>\n",
       "  <tbody>\n",
       "    <tr>\n",
       "      <th>1</th>\n",
       "      <td>Barrow</td>\n",
       "      <td>US</td>\n",
       "      <td>90</td>\n",
       "      <td>71.2906</td>\n",
       "      <td>-156.7887</td>\n",
       "      <td>76</td>\n",
       "      <td>5.75</td>\n",
       "      <td>-20.20</td>\n",
       "    </tr>\n",
       "    <tr>\n",
       "      <th>4</th>\n",
       "      <td>Kolokani</td>\n",
       "      <td>ML</td>\n",
       "      <td>100</td>\n",
       "      <td>13.5728</td>\n",
       "      <td>-8.0339</td>\n",
       "      <td>15</td>\n",
       "      <td>8.23</td>\n",
       "      <td>81.81</td>\n",
       "    </tr>\n",
       "    <tr>\n",
       "      <th>6</th>\n",
       "      <td>Newport</td>\n",
       "      <td>GB</td>\n",
       "      <td>0</td>\n",
       "      <td>51.5877</td>\n",
       "      <td>-2.9984</td>\n",
       "      <td>88</td>\n",
       "      <td>9.82</td>\n",
       "      <td>41.00</td>\n",
       "    </tr>\n",
       "    <tr>\n",
       "      <th>9</th>\n",
       "      <td>Qaanaaq</td>\n",
       "      <td>GL</td>\n",
       "      <td>100</td>\n",
       "      <td>77.4840</td>\n",
       "      <td>-69.3632</td>\n",
       "      <td>76</td>\n",
       "      <td>3.00</td>\n",
       "      <td>-12.95</td>\n",
       "    </tr>\n",
       "    <tr>\n",
       "      <th>11</th>\n",
       "      <td>Pandan</td>\n",
       "      <td>PH</td>\n",
       "      <td>87</td>\n",
       "      <td>14.0453</td>\n",
       "      <td>124.1694</td>\n",
       "      <td>84</td>\n",
       "      <td>5.14</td>\n",
       "      <td>76.48</td>\n",
       "    </tr>\n",
       "    <tr>\n",
       "      <th>...</th>\n",
       "      <td>...</td>\n",
       "      <td>...</td>\n",
       "      <td>...</td>\n",
       "      <td>...</td>\n",
       "      <td>...</td>\n",
       "      <td>...</td>\n",
       "      <td>...</td>\n",
       "      <td>...</td>\n",
       "    </tr>\n",
       "    <tr>\n",
       "      <th>572</th>\n",
       "      <td>Ekhabi</td>\n",
       "      <td>RU</td>\n",
       "      <td>0</td>\n",
       "      <td>53.5102</td>\n",
       "      <td>142.9671</td>\n",
       "      <td>86</td>\n",
       "      <td>10.42</td>\n",
       "      <td>-15.25</td>\n",
       "    </tr>\n",
       "    <tr>\n",
       "      <th>573</th>\n",
       "      <td>Tiznit Province</td>\n",
       "      <td>MA</td>\n",
       "      <td>56</td>\n",
       "      <td>29.5833</td>\n",
       "      <td>-9.5000</td>\n",
       "      <td>81</td>\n",
       "      <td>5.39</td>\n",
       "      <td>53.35</td>\n",
       "    </tr>\n",
       "    <tr>\n",
       "      <th>575</th>\n",
       "      <td>Umarkot</td>\n",
       "      <td>PK</td>\n",
       "      <td>0</td>\n",
       "      <td>25.3616</td>\n",
       "      <td>69.7362</td>\n",
       "      <td>13</td>\n",
       "      <td>5.48</td>\n",
       "      <td>66.96</td>\n",
       "    </tr>\n",
       "    <tr>\n",
       "      <th>576</th>\n",
       "      <td>Tabou</td>\n",
       "      <td>CI</td>\n",
       "      <td>85</td>\n",
       "      <td>4.4230</td>\n",
       "      <td>-7.3528</td>\n",
       "      <td>84</td>\n",
       "      <td>4.14</td>\n",
       "      <td>78.98</td>\n",
       "    </tr>\n",
       "    <tr>\n",
       "      <th>577</th>\n",
       "      <td>Qandala</td>\n",
       "      <td>SO</td>\n",
       "      <td>0</td>\n",
       "      <td>11.4720</td>\n",
       "      <td>49.8728</td>\n",
       "      <td>55</td>\n",
       "      <td>4.50</td>\n",
       "      <td>78.08</td>\n",
       "    </tr>\n",
       "  </tbody>\n",
       "</table>\n",
       "<p>391 rows × 8 columns</p>\n",
       "</div>"
      ],
      "text/plain": [
       "           City Name Country  Cloudiness      Lat      Long  Humidity  \\\n",
       "1             Barrow      US          90  71.2906 -156.7887        76   \n",
       "4           Kolokani      ML         100  13.5728   -8.0339        15   \n",
       "6            Newport      GB           0  51.5877   -2.9984        88   \n",
       "9            Qaanaaq      GL         100  77.4840  -69.3632        76   \n",
       "11            Pandan      PH          87  14.0453  124.1694        84   \n",
       "..               ...     ...         ...      ...       ...       ...   \n",
       "572           Ekhabi      RU           0  53.5102  142.9671        86   \n",
       "573  Tiznit Province      MA          56  29.5833   -9.5000        81   \n",
       "575          Umarkot      PK           0  25.3616   69.7362        13   \n",
       "576            Tabou      CI          85   4.4230   -7.3528        84   \n",
       "577          Qandala      SO           0  11.4720   49.8728        55   \n",
       "\n",
       "     Windspeed  Temperature  \n",
       "1         5.75       -20.20  \n",
       "4         8.23        81.81  \n",
       "6         9.82        41.00  \n",
       "9         3.00       -12.95  \n",
       "11        5.14        76.48  \n",
       "..         ...          ...  \n",
       "572      10.42       -15.25  \n",
       "573       5.39        53.35  \n",
       "575       5.48        66.96  \n",
       "576       4.14        78.98  \n",
       "577       4.50        78.08  \n",
       "\n",
       "[391 rows x 8 columns]"
      ]
     },
     "execution_count": 22,
     "metadata": {},
     "output_type": "execute_result"
    }
   ],
   "source": [
    "northern = weather_df.loc[weather_df[\"Lat\"] >= 0]\n",
    "northern\n"
   ]
  },
  {
   "cell_type": "code",
   "execution_count": 23,
   "metadata": {},
   "outputs": [
    {
     "data": {
      "text/html": [
       "<div>\n",
       "<style scoped>\n",
       "    .dataframe tbody tr th:only-of-type {\n",
       "        vertical-align: middle;\n",
       "    }\n",
       "\n",
       "    .dataframe tbody tr th {\n",
       "        vertical-align: top;\n",
       "    }\n",
       "\n",
       "    .dataframe thead th {\n",
       "        text-align: right;\n",
       "    }\n",
       "</style>\n",
       "<table border=\"1\" class=\"dataframe\">\n",
       "  <thead>\n",
       "    <tr style=\"text-align: right;\">\n",
       "      <th></th>\n",
       "      <th>City Name</th>\n",
       "      <th>Country</th>\n",
       "      <th>Cloudiness</th>\n",
       "      <th>Lat</th>\n",
       "      <th>Long</th>\n",
       "      <th>Humidity</th>\n",
       "      <th>Windspeed</th>\n",
       "      <th>Temperature</th>\n",
       "    </tr>\n",
       "  </thead>\n",
       "  <tbody>\n",
       "    <tr>\n",
       "      <th>0</th>\n",
       "      <td>Busselton</td>\n",
       "      <td>AU</td>\n",
       "      <td>100</td>\n",
       "      <td>-33.6500</td>\n",
       "      <td>115.3333</td>\n",
       "      <td>88</td>\n",
       "      <td>1.01</td>\n",
       "      <td>64.00</td>\n",
       "    </tr>\n",
       "    <tr>\n",
       "      <th>2</th>\n",
       "      <td>Rikitea</td>\n",
       "      <td>PF</td>\n",
       "      <td>37</td>\n",
       "      <td>-23.1203</td>\n",
       "      <td>-134.9692</td>\n",
       "      <td>62</td>\n",
       "      <td>5.39</td>\n",
       "      <td>78.24</td>\n",
       "    </tr>\n",
       "    <tr>\n",
       "      <th>3</th>\n",
       "      <td>Lebu</td>\n",
       "      <td>CL</td>\n",
       "      <td>25</td>\n",
       "      <td>-37.6167</td>\n",
       "      <td>-73.6500</td>\n",
       "      <td>78</td>\n",
       "      <td>24.20</td>\n",
       "      <td>64.87</td>\n",
       "    </tr>\n",
       "    <tr>\n",
       "      <th>5</th>\n",
       "      <td>Castro</td>\n",
       "      <td>BR</td>\n",
       "      <td>96</td>\n",
       "      <td>-24.7911</td>\n",
       "      <td>-50.0119</td>\n",
       "      <td>91</td>\n",
       "      <td>7.52</td>\n",
       "      <td>68.04</td>\n",
       "    </tr>\n",
       "    <tr>\n",
       "      <th>7</th>\n",
       "      <td>Ushuaia</td>\n",
       "      <td>AR</td>\n",
       "      <td>40</td>\n",
       "      <td>-54.8000</td>\n",
       "      <td>-68.3000</td>\n",
       "      <td>40</td>\n",
       "      <td>12.66</td>\n",
       "      <td>53.60</td>\n",
       "    </tr>\n",
       "    <tr>\n",
       "      <th>...</th>\n",
       "      <td>...</td>\n",
       "      <td>...</td>\n",
       "      <td>...</td>\n",
       "      <td>...</td>\n",
       "      <td>...</td>\n",
       "      <td>...</td>\n",
       "      <td>...</td>\n",
       "      <td>...</td>\n",
       "    </tr>\n",
       "    <tr>\n",
       "      <th>559</th>\n",
       "      <td>Kirakira</td>\n",
       "      <td>SB</td>\n",
       "      <td>56</td>\n",
       "      <td>-10.4544</td>\n",
       "      <td>161.9205</td>\n",
       "      <td>81</td>\n",
       "      <td>7.11</td>\n",
       "      <td>81.39</td>\n",
       "    </tr>\n",
       "    <tr>\n",
       "      <th>563</th>\n",
       "      <td>Ondangwa</td>\n",
       "      <td>NA</td>\n",
       "      <td>6</td>\n",
       "      <td>-17.9167</td>\n",
       "      <td>15.9500</td>\n",
       "      <td>50</td>\n",
       "      <td>4.61</td>\n",
       "      <td>77.00</td>\n",
       "    </tr>\n",
       "    <tr>\n",
       "      <th>569</th>\n",
       "      <td>Tonantins</td>\n",
       "      <td>BR</td>\n",
       "      <td>60</td>\n",
       "      <td>-2.8731</td>\n",
       "      <td>-67.8022</td>\n",
       "      <td>74</td>\n",
       "      <td>3.02</td>\n",
       "      <td>80.89</td>\n",
       "    </tr>\n",
       "    <tr>\n",
       "      <th>570</th>\n",
       "      <td>Kiunga</td>\n",
       "      <td>PG</td>\n",
       "      <td>100</td>\n",
       "      <td>-6.1219</td>\n",
       "      <td>141.2906</td>\n",
       "      <td>98</td>\n",
       "      <td>1.66</td>\n",
       "      <td>72.23</td>\n",
       "    </tr>\n",
       "    <tr>\n",
       "      <th>574</th>\n",
       "      <td>Payo</td>\n",
       "      <td>ID</td>\n",
       "      <td>98</td>\n",
       "      <td>-3.7508</td>\n",
       "      <td>103.6372</td>\n",
       "      <td>96</td>\n",
       "      <td>2.51</td>\n",
       "      <td>73.27</td>\n",
       "    </tr>\n",
       "  </tbody>\n",
       "</table>\n",
       "<p>187 rows × 8 columns</p>\n",
       "</div>"
      ],
      "text/plain": [
       "     City Name Country  Cloudiness      Lat      Long  Humidity  Windspeed  \\\n",
       "0    Busselton      AU         100 -33.6500  115.3333        88       1.01   \n",
       "2      Rikitea      PF          37 -23.1203 -134.9692        62       5.39   \n",
       "3         Lebu      CL          25 -37.6167  -73.6500        78      24.20   \n",
       "5       Castro      BR          96 -24.7911  -50.0119        91       7.52   \n",
       "7      Ushuaia      AR          40 -54.8000  -68.3000        40      12.66   \n",
       "..         ...     ...         ...      ...       ...       ...        ...   \n",
       "559   Kirakira      SB          56 -10.4544  161.9205        81       7.11   \n",
       "563   Ondangwa      NA           6 -17.9167   15.9500        50       4.61   \n",
       "569  Tonantins      BR          60  -2.8731  -67.8022        74       3.02   \n",
       "570     Kiunga      PG         100  -6.1219  141.2906        98       1.66   \n",
       "574       Payo      ID          98  -3.7508  103.6372        96       2.51   \n",
       "\n",
       "     Temperature  \n",
       "0          64.00  \n",
       "2          78.24  \n",
       "3          64.87  \n",
       "5          68.04  \n",
       "7          53.60  \n",
       "..           ...  \n",
       "559        81.39  \n",
       "563        77.00  \n",
       "569        80.89  \n",
       "570        72.23  \n",
       "574        73.27  \n",
       "\n",
       "[187 rows x 8 columns]"
      ]
     },
     "execution_count": 23,
     "metadata": {},
     "output_type": "execute_result"
    }
   ],
   "source": [
    "southern = weather_df.loc[weather_df[\"Lat\"] < 0]\n",
    "southern\n"
   ]
  },
  {
   "cell_type": "code",
   "execution_count": 24,
   "metadata": {},
   "outputs": [],
   "source": [
    "s_latx = southern['Lat']\n",
    "s_tempy = southern ['Temperature']"
   ]
  },
  {
   "cell_type": "markdown",
   "metadata": {},
   "source": [
    "####  Southern Hemisphere - Max Temp vs. Latitude Linear Regression"
   ]
  },
  {
   "cell_type": "code",
   "execution_count": 28,
   "metadata": {},
   "outputs": [
    {
     "name": "stdout",
     "output_type": "stream",
     "text": [
      "The r-squared is: 0.2976942547373819\n"
     ]
    },
    {
     "data": {
      "text/plain": [
       "<function matplotlib.pyplot.show(close=None, block=None)>"
      ]
     },
     "execution_count": 28,
     "metadata": {},
     "output_type": "execute_result"
    },
    {
     "data": {
      "image/png": "[encoded data removed]",
      "text/plain": [
       "<Figure size 432x288 with 1 Axes>"
      ]
     },
     "metadata": {
      "needs_background": "light"
     },
     "output_type": "display_data"
    }
   ],
   "source": [
    "plt.scatter(southern[\"Lat\"], southern[\"Temperature\"], facecolor =\"blue\")\n",
    "plt.title(f\"City Latitude vs. Temperature\")\n",
    "plt.xlabel('Latitude')\n",
    "plt.ylabel('Temperature')\n",
    "plt.grid(alpha = 0.5)\n",
    "(slope, intercept, rvalue, pvalue, stderr) = linregress(s_latx, s_tempy)\n",
    "regress_values = s_latx * slope + intercept\n",
    "line_eq = \"y = \" + str(round(slope,2)) + \"x + \" + str(round(intercept,2))\n",
    "plt.scatter(s_latx,s_tempy)\n",
    "plt.plot(s_latx,regress_values,\"r-\")\n",
    "plt.annotate(line_eq,(-30,70),fontsize=15,color=\"red\")\n",
    "print(f\"The r-squared is: {rvalue**2}\")\n",
    "plt.show\n"
   ]
  },
  {
   "cell_type": "markdown",
   "metadata": {},
   "source": [
    "####  Northern Hemisphere - Humidity (%) vs. Latitude Linear Regression"
   ]
  },
  {
   "cell_type": "code",
   "execution_count": 29,
   "metadata": {},
   "outputs": [],
   "source": [
    "n_humidx = northern['Humidity']\n",
    "n_laty = northern ['Lat']"
   ]
  },
  {
   "cell_type": "code",
   "execution_count": 30,
   "metadata": {},
   "outputs": [
    {
     "name": "stdout",
     "output_type": "stream",
     "text": [
      "The r-squared is: 0.10983527896478537\n"
     ]
    },
    {
     "data": {
      "text/plain": [
       "<function matplotlib.pyplot.show(close=None, block=None)>"
      ]
     },
     "execution_count": 30,
     "metadata": {},
     "output_type": "execute_result"
    },
    {
     "data": {
      "image/png": "[encoded data removed]",
      "text/plain": [
       "<Figure size 432x288 with 1 Axes>"
      ]
     },
     "metadata": {
      "needs_background": "light"
     },
     "output_type": "display_data"
    }
   ],
   "source": [
    "plt.scatter(northern[\"Lat\"], northern[\"Humidity\"], facecolor =\"blue\")\n",
    "plt.title(f\"City Humidity % vs. Latitude\")\n",
    "plt.xlabel('Latitude')\n",
    "plt.ylabel('Humidity')\n",
    "plt.grid(alpha = 0.5)\n",
    "(slope, intercept, rvalue, pvalue, stderr) = linregress(n_laty,n_humidx)\n",
    "regress_values = n_laty * slope + intercept\n",
    "line_eq = \"y = \" + str(round(slope,2)) + \"x + \" + str(round(intercept,2))\n",
    "plt.scatter(n_laty,n_humidx,)\n",
    "plt.plot(n_laty,regress_values,\"r-\")\n",
    "plt.annotate(line_eq,(30,20),fontsize=15,color=\"red\")\n",
    "print(f\"The r-squared is: {rvalue**2}\")\n",
    "plt.show"
   ]
  },
  {
   "cell_type": "markdown",
   "metadata": {},
   "source": [
    "####  Southern Hemisphere - Humidity (%) vs. Latitude Linear Regression"
   ]
  },
  {
   "cell_type": "code",
   "execution_count": 32,
   "metadata": {},
   "outputs": [],
   "source": [
    "s_humidx = southern['Lat']\n",
    "s_humidy = southern['Humidity']"
   ]
  },
  {
   "cell_type": "code",
   "execution_count": 33,
   "metadata": {},
   "outputs": [
    {
     "name": "stdout",
     "output_type": "stream",
     "text": [
      "The r-squared is: 0.032375936237296274\n"
     ]
    },
    {
     "data": {
      "text/plain": [
       "<function matplotlib.pyplot.show(close=None, block=None)>"
      ]
     },
     "execution_count": 33,
     "metadata": {},
     "output_type": "execute_result"
    },
    {
     "data": {
      "image/png": "[encoded data removed]",
      "text/plain": [
       "<Figure size 432x288 with 1 Axes>"
      ]
     },
     "metadata": {
      "needs_background": "light"
     },
     "output_type": "display_data"
    }
   ],
   "source": [
    "plt.scatter(southern[\"Lat\"], southern[\"Humidity\"], facecolor =\"blue\")\n",
    "plt.title(f\"City Humidity % vs. Latitude\")\n",
    "plt.xlabel('Latitude')\n",
    "plt.ylabel('Humidity%')\n",
    "plt.grid(alpha = 0.5)\n",
    "(slope, intercept, rvalue, pvalue, stderr) = linregress(s_humidy,s_humidx)\n",
    "regress_values = s_humidy * slope + intercept\n",
    "line_eq = \"y = \" + str(round(slope,2)) + \"x + \" + str(round(intercept,2))\n",
    "plt.scatter(s_humidy,s_humidx,)\n",
    "plt.plot(s_humidy,regress_values,\"r-\")\n",
    "plt.annotate(line_eq,(30,20),fontsize=15,color=\"red\")\n",
    "print(f\"The r-squared is: {rvalue**2}\")\n",
    "plt.show"
   ]
  },
  {
   "cell_type": "markdown",
   "metadata": {},
   "source": [
    "####  Northern Hemisphere - Cloudiness (%) vs. Latitude Linear Regression"
   ]
  },
  {
   "cell_type": "code",
   "execution_count": 35,
   "metadata": {},
   "outputs": [],
   "source": [
    "n_cloudx = northern['Cloudiness']\n",
    "n_laty = northern ['Lat']"
   ]
  },
  {
   "cell_type": "code",
   "execution_count": 36,
   "metadata": {},
   "outputs": [
    {
     "name": "stdout",
     "output_type": "stream",
     "text": [
      "The r-squared is: 0.09295085803658243\n"
     ]
    },
    {
     "data": {
      "text/plain": [
       "<function matplotlib.pyplot.show(close=None, block=None)>"
      ]
     },
     "execution_count": 36,
     "metadata": {},
     "output_type": "execute_result"
    },
    {
     "data": {
      "image/png": "[encoded data removed]",
      "text/plain": [
       "<Figure size 432x288 with 1 Axes>"
      ]
     },
     "metadata": {
      "needs_background": "light"
     },
     "output_type": "display_data"
    }
   ],
   "source": [
    "plt.scatter(northern[\"Lat\"], northern[\"Cloudiness\"], facecolor =\"blue\")\n",
    "plt.title(f\"City Cloudiness % vs. Latitude\")\n",
    "plt.xlabel('Latitude')\n",
    "plt.ylabel('Cloudiness')\n",
    "plt.grid(alpha = 0.5)\n",
    "(slope, intercept, rvalue, pvalue, stderr) = linregress(n_laty,n_cloudx)\n",
    "regress_values = n_laty * slope + intercept\n",
    "line_eq = \"y = \" + str(round(slope,2)) + \"x + \" + str(round(intercept,2))\n",
    "plt.scatter(n_laty,n_cloudx,)\n",
    "plt.plot(n_laty,regress_values,\"r-\")\n",
    "plt.annotate(line_eq,(30,20),fontsize=15,color=\"red\")\n",
    "print(f\"The r-squared is: {rvalue**2}\")\n",
    "plt.show"
   ]
  },
  {
   "cell_type": "markdown",
   "metadata": {},
   "source": [
    "####  Southern Hemisphere - Cloudiness (%) vs. Latitude Linear Regression"
   ]
  },
  {
   "cell_type": "code",
   "execution_count": 37,
   "metadata": {},
   "outputs": [],
   "source": [
    "s_cloudy = southern['Cloudiness']\n",
    "s_laty = southern ['Lat']"
   ]
  },
  {
   "cell_type": "code",
   "execution_count": 47,
   "metadata": {},
   "outputs": [
    {
     "name": "stdout",
     "output_type": "stream",
     "text": [
      "The r-squared is: 0.05415179129334532\n"
     ]
    },
    {
     "data": {
      "text/plain": [
       "<function matplotlib.pyplot.show(close=None, block=None)>"
      ]
     },
     "execution_count": 47,
     "metadata": {},
     "output_type": "execute_result"
    },
    {
     "data": {
      "image/png": "[encoded data removed]",
      "text/plain": [
       "<Figure size 432x288 with 1 Axes>"
      ]
     },
     "metadata": {
      "needs_background": "light"
     },
     "output_type": "display_data"
    }
   ],
   "source": [
    "plt.scatter(southern[\"Lat\"], southern[\"Cloudiness\"], facecolor =\"blue\")\n",
    "plt.title(f\"City Cloudiness % vs. Latitude\")\n",
    "plt.xlabel('Latitude %')\n",
    "plt.ylabel('Cloudiness')\n",
    "plt.grid(alpha = 0.5)\n",
    "(slope, intercept, rvalue, pvalue, stderr) = linregress(s_laty,s_cloudy)\n",
    "regress_values = s_laty * slope + intercept\n",
    "line_eq = \"y = \" + str(round(slope,2)) + \"x + \" + str(round(intercept,2))\n",
    "plt.scatter(s_laty,s_cloudy,)\n",
    "plt.plot(s_laty,regress_values,\"r-\")\n",
    "plt.annotate(line_eq,(-30,20),fontsize=15,color=\"red\")\n",
    "print(f\"The r-squared is: {rvalue**2}\")\n",
    "plt.show"
   ]
  },
  {
   "cell_type": "markdown",
   "metadata": {},
   "source": [
    "####  Northern Hemisphere - Wind Speed (mph) vs. Latitude Linear Regression"
   ]
  },
  {
   "cell_type": "code",
   "execution_count": 39,
   "metadata": {},
   "outputs": [],
   "source": [
    "n_windx = northern['Windspeed']\n",
    "n_laty = northern ['Lat']"
   ]
  },
  {
   "cell_type": "code",
   "execution_count": 40,
   "metadata": {},
   "outputs": [
    {
     "name": "stdout",
     "output_type": "stream",
     "text": [
      "The r-squared is: 0.014019277190172342\n"
     ]
    },
    {
     "data": {
      "text/plain": [
       "<function matplotlib.pyplot.show(close=None, block=None)>"
      ]
     },
     "execution_count": 40,
     "metadata": {},
     "output_type": "execute_result"
    },
    {
     "data": {
      "image/png": "[encoded data removed]",
      "text/plain": [
       "<Figure size 432x288 with 1 Axes>"
      ]
     },
     "metadata": {
      "needs_background": "light"
     },
     "output_type": "display_data"
    }
   ],
   "source": [
    "plt.scatter(northern[\"Lat\"], northern[\"Windspeed\"], facecolor =\"blue\")\n",
    "plt.title(f\"City Humidity % vs. Latitude\")\n",
    "plt.xlabel('Latitude')\n",
    "plt.ylabel('Windspeed Mph')\n",
    "plt.grid(alpha = 0.5)\n",
    "(slope, intercept, rvalue, pvalue, stderr) = linregress(n_laty,n_windx)\n",
    "regress_values = n_laty * slope + intercept\n",
    "line_eq = \"y = \" + str(round(slope,2)) + \"x + \" + str(round(intercept,2))\n",
    "plt.scatter(n_laty,n_windx,)\n",
    "plt.plot(n_laty,regress_values,\"r-\")\n",
    "plt.annotate(line_eq,(30,10),fontsize=15,color=\"red\")\n",
    "print(f\"The r-squared is: {rvalue**2}\")\n",
    "plt.show"
   ]
  },
  {
   "cell_type": "markdown",
   "metadata": {},
   "source": [
    "####  Southern Hemisphere - Wind Speed (mph) vs. Latitude Linear Regression"
   ]
  },
  {
   "cell_type": "code",
   "execution_count": 42,
   "metadata": {},
   "outputs": [],
   "source": [
    "s_windy = southern['Windspeed']\n",
    "s_laty = southern ['Lat']"
   ]
  },
  {
   "cell_type": "code",
   "execution_count": 43,
   "metadata": {},
   "outputs": [
    {
     "name": "stdout",
     "output_type": "stream",
     "text": [
      "The r-squared is: 0.04972698498870996\n"
     ]
    },
    {
     "data": {
      "text/plain": [
       "<function matplotlib.pyplot.show(close=None, block=None)>"
      ]
     },
     "execution_count": 43,
     "metadata": {},
     "output_type": "execute_result"
    },
    {
     "data": {
      "image/png": "[encoded data removed]",
      "text/plain": [
       "<Figure size 432x288 with 1 Axes>"
      ]
     },
     "metadata": {
      "needs_background": "light"
     },
     "output_type": "display_data"
    }
   ],
   "source": [
    "plt.scatter(southern[\"Lat\"], southern[\"Windspeed\"], facecolor =\"blue\")\n",
    "plt.title(f\"City Humidity % vs. Latitude\")\n",
    "plt.xlabel('Latitude')\n",
    "plt.ylabel('Windspeed Mph')\n",
    "plt.grid(alpha = 0.5)\n",
    "(slope, intercept, rvalue, pvalue, stderr) = linregress(s_laty,s_windy)\n",
    "regress_values = s_laty * slope + intercept\n",
    "line_eq = \"y = \" + str(round(slope,2)) + \"x + \" + str(round(intercept,2))\n",
    "plt.scatter(s_laty,s_windy,)\n",
    "plt.plot(s_laty,regress_values,\"r-\")\n",
    "plt.annotate(line_eq,(-30,10),fontsize=15,color=\"red\")\n",
    "print(f\"The r-squared is: {rvalue**2}\")\n",
    "plt.show"
   ]
  },
  {
   "cell_type": "code",
   "execution_count": null,
   "metadata": {},
   "outputs": [],
   "source": [
    "#The three observable trends are that i) As we move closer to the 0 Latitude line the temperature increases\n",
    "#ii).  The correlation with the highest R-factor is that of Temperature and latitiude.  \n",
    "#iii). The lowest correlation is between Humidity and latitude for the Southern Hemisphere"
   ]
  },
  {
   "cell_type": "code",
   "execution_count": null,
   "metadata": {},
   "outputs": [],
   "source": []
  },
  {
   "cell_type": "code",
   "execution_count": null,
   "metadata": {},
   "outputs": [],
   "source": []
  },
  {
   "cell_type": "code",
   "execution_count": null,
   "metadata": {},
   "outputs": [],
   "source": []
  }
 ],
 "metadata": {
  "anaconda-cloud": {},
  "kernel_info": {
   "name": "python3"
  },
  "kernelspec": {
   "display_name": "Python 3",
   "language": "python",
   "name": "python3"
  },
  "language_info": {
   "codemirror_mode": {
    "name": "ipython",
    "version": 3
   },
   "file_extension": ".py",
   "mimetype": "text/x-python",
   "name": "python",
   "nbconvert_exporter": "python",
   "pygments_lexer": "ipython3",
   "version": "3.8.5"
  },
  "latex_envs": {
   "LaTeX_envs_menu_present": true,
   "autoclose": false,
   "autocomplete": true,
   "bibliofile": "biblio.bib",
   "cite_by": "apalike",
   "current_citInitial": 1,
   "eqLabelWithNumbers": true,
   "eqNumInitial": 1,
   "hotkeys": {
    "equation": "Ctrl-E",
    "itemize": "Ctrl-I"
   },
   "labels_anchors": false,
   "latex_user_defs": false,
   "report_style_numbering": false,
   "user_envs_cfg": false
  },
  "nteract": {
   "version": "0.12.3"
  }
 },
 "nbformat": 4,
 "nbformat_minor": 2
}
