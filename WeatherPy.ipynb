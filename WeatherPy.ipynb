{
 "cells": [
  {
   "cell_type": "markdown",
   "metadata": {},
   "source": [
    "# WeatherPy\n",
    "----\n",
    "\n",
    "#### Note\n",
    "* Instructions have been included for each segment. You do not have to follow them exactly, but they are included to help you think through the steps."
   ]
  },
  {
   "cell_type": "code",
   "execution_count": 1,
   "metadata": {
    "scrolled": false
   },
   "outputs": [
    {
     "data": {
      "text/plain": [
       "'1bce4c0df3b2293dfc66e783f97126f9'"
      ]
     },
     "execution_count": 1,
     "metadata": {},
     "output_type": "execute_result"
    }
   ],
   "source": [
    "# Dependencies and Setup\n",
    "import matplotlib.pyplot as plt\n",
    "import pandas as pd\n",
    "import numpy as np\n",
    "import requests\n",
    "import time\n",
    "import scipy.stats as st\n",
    "from scipy.stats import linregress\n",
    "\n",
    "# Import API key\n",
    "from api_keys import weather_api_key\n",
    "\n",
    "# Incorporated citipy to determine city based on latitude and longitude\n",
    "from citipy import citipy\n",
    "\n",
    "# Output File (CSV)\n",
    "output_data_file = \"output_data/cities.csv\"\n",
    "\n",
    "# Range of latitudes and longitudes\n",
    "lat_range = (-90, 90)\n",
    "lng_range = (-180, 180)\n",
    "weather_api_key"
   ]
  },
  {
   "cell_type": "markdown",
   "metadata": {},
   "source": [
    "## Generate Cities List"
   ]
  },
  {
   "cell_type": "code",
   "execution_count": 2,
   "metadata": {},
   "outputs": [
    {
     "data": {
      "text/plain": [
       "595"
      ]
     },
     "execution_count": 2,
     "metadata": {},
     "output_type": "execute_result"
    }
   ],
   "source": [
    "# List for holding lat_lngs and cities\n",
    "lat_lngs = []\n",
    "cities = []\n",
    "\n",
    "# Create a set of random lat and lng combinations\n",
    "lats = np.random.uniform(low=-90.000, high=90.000, size=1500)\n",
    "lngs = np.random.uniform(low=-180.000, high=180.000, size=1500)\n",
    "lat_lngs = zip(lats, lngs)\n",
    "\n",
    "# Identify nearest city for each lat, lng combination\n",
    "for lat_lng in lat_lngs:\n",
    "    city = citipy.nearest_city(lat_lng[0], lat_lng[1]).city_name\n",
    "    \n",
    "    # If the city is unique, then add it to a our cities list\n",
    "    if city not in cities:\n",
    "        cities.append(city)\n",
    "\n",
    "# Print the city count to confirm sufficient count\n",
    "len(cities)"
   ]
  },
  {
   "cell_type": "code",
   "execution_count": 3,
   "metadata": {},
   "outputs": [],
   "source": [
    "#URL and Units\n",
    "weather_url = \"http://api.openweathermap.org/data/2.5/weather?\"\n",
    "units =\"imperial\""
   ]
  },
  {
   "cell_type": "markdown",
   "metadata": {},
   "source": [
    "### Perform API Calls\n",
    "* Perform a weather check on each city using a series of successive API calls.\n",
    "* Include a print log of each city as it'sbeing processed (with the city number and city name).\n"
   ]
  },
  {
   "cell_type": "code",
   "execution_count": 27,
   "metadata": {
    "scrolled": true
   },
   "outputs": [
    {
     "data": {
      "text/plain": [
       "'http://api.openweathermap.org/data/2.5/weather?appid=1bce4c0df3b2293dfc66e783f97126f9&q=myitkyina'"
      ]
     },
     "execution_count": 27,
     "metadata": {},
     "output_type": "execute_result"
    }
   ],
   "source": [
    "query_url = weather_url + \"appid=\" + weather_api_key + \"&q=\" + city\n",
    "query_url"
   ]
  },
  {
   "cell_type": "code",
   "execution_count": 16,
   "metadata": {
    "scrolled": true
   },
   "outputs": [
    {
     "name": "stdout",
     "output_type": "stream",
     "text": [
      "{'cod': '404', 'message': 'city not found'}\n"
     ]
    }
   ],
   "source": [
    "example = city[0]\n",
    "test_url = query_url + example\n",
    "test_response = requests.get (test_url).json()\n",
    "from pprint import pprint\n",
    "pprint(test_response)"
   ]
  },
  {
   "cell_type": "code",
   "execution_count": 17,
   "metadata": {},
   "outputs": [
    {
     "data": {
      "text/html": [
       "<div>\n",
       "<style scoped>\n",
       "    .dataframe tbody tr th:only-of-type {\n",
       "        vertical-align: middle;\n",
       "    }\n",
       "\n",
       "    .dataframe tbody tr th {\n",
       "        vertical-align: top;\n",
       "    }\n",
       "\n",
       "    .dataframe thead th {\n",
       "        text-align: right;\n",
       "    }\n",
       "</style>\n",
       "<table border=\"1\" class=\"dataframe\">\n",
       "  <thead>\n",
       "    <tr style=\"text-align: right;\">\n",
       "      <th></th>\n",
       "      <th>City</th>\n",
       "    </tr>\n",
       "  </thead>\n",
       "  <tbody>\n",
       "    <tr>\n",
       "      <th>0</th>\n",
       "      <td>tuban</td>\n",
       "    </tr>\n",
       "    <tr>\n",
       "      <th>1</th>\n",
       "      <td>lompoc</td>\n",
       "    </tr>\n",
       "    <tr>\n",
       "      <th>2</th>\n",
       "      <td>new norfolk</td>\n",
       "    </tr>\n",
       "    <tr>\n",
       "      <th>3</th>\n",
       "      <td>butaritari</td>\n",
       "    </tr>\n",
       "    <tr>\n",
       "      <th>4</th>\n",
       "      <td>qaanaaq</td>\n",
       "    </tr>\n",
       "  </tbody>\n",
       "</table>\n",
       "</div>"
      ],
      "text/plain": [
       "          City\n",
       "0        tuban\n",
       "1       lompoc\n",
       "2  new norfolk\n",
       "3   butaritari\n",
       "4      qaanaaq"
      ]
     },
     "execution_count": 17,
     "metadata": {},
     "output_type": "execute_result"
    }
   ],
   "source": [
    "cities_df = pd.DataFrame({\"City\": cities})\n",
    "cities_df. head()"
   ]
  },
  {
   "cell_type": "code",
   "execution_count": 14,
   "metadata": {},
   "outputs": [
    {
     "name": "stdout",
     "output_type": "stream",
     "text": [
      "Beginning Data Retrival\n",
      "-------------------------\n",
      "Processing record 1 | Tuban\n",
      "Processing record 2 | Lompoc\n",
      "Processing record 3 | New Norfolk\n",
      "Processing record 4 | Butaritari\n",
      "Processing record 5 | Qaanaaq\n",
      "Processing record 6 | Morristown\n",
      "Processing record 7 | Yangi Marg`ilon\n",
      "Processing record 8 | Kushmurun\n",
      "Processing record 9 | Fairbanks\n",
      "Processing record 10 | Port Alfred\n",
      "Processing record 11 | Busselton\n",
      "Processing record 12 | City of San Pedro\n",
      "Processing record 13 | Sørland\n",
      "City Not found, Skipping.....\n",
      "Processing record 14 | Eureka\n",
      "Processing record 15 | Barrow\n",
      "Processing record 16 | Takoradze\n",
      "Processing record 17 | Altay\n",
      "Processing record 18 | Dikson\n",
      "Processing record 19 | Ponta do Sol\n",
      "Processing record 20 | Coquimbo\n",
      "Processing record 21 | Atuona\n",
      "Processing record 22 | Rikitea\n",
      "Processing record 23 | Emba\n",
      "Processing record 24 | Carnarvon\n",
      "Processing record 25 | Thompson\n",
      "Processing record 26 | Hofn\n",
      "Processing record 27 | Salinas\n",
      "Processing record 28 | Nāzirā\n",
      "City Not found, Skipping.....\n",
      "Processing record 29 | Ushuaia\n",
      "Processing record 30 | Punta Arenas\n",
      "Processing record 31 | Marsá Maţrūḩ\n",
      "Processing record 32 | Hobart\n",
      "Processing record 33 | Bredasdorp\n",
      "Processing record 34 | Paamiut\n",
      "Processing record 35 | Ambanja\n",
      "Processing record 36 | Hermanus\n",
      "Processing record 37 | Raton\n",
      "Processing record 38 | Hilo\n",
      "Processing record 39 | Cabo San Lucas\n",
      "Processing record 40 | Manzhouli\n",
      "Processing record 41 | Kismayo\n",
      "Processing record 42 | Mataura\n",
      "Processing record 43 | Luxor\n",
      "Processing record 44 | Bethel\n",
      "Processing record 45 | Birjand\n",
      "Processing record 46 | Nikolskoye\n",
      "Processing record 47 | Petropavlovsk-Kamchatskiy\n",
      "Processing record 48 | Kamaishi\n",
      "Processing record 49 | Tiksi\n",
      "Processing record 50 | Bluff\n",
      "Processing record 51 | Plátanos\n",
      "Processing record 52 | Yellowknife\n",
      "Processing record 53 | Hobyo\n",
      "Processing record 54 | Kapaa\n",
      "Processing record 55 | East London\n",
      "Processing record 56 | Cidreira\n",
      "Processing record 57 | Chamba\n",
      "Processing record 58 | Buala\n",
      "Processing record 59 | Upington\n",
      "Processing record 60 | Anloga\n",
      "Processing record 61 | Souillac\n",
      "Processing record 62 | Firozpur\n",
      "Processing record 63 | Torres\n",
      "City Not found, Skipping.....\n",
      "Processing record 64 | Darhan\n",
      "Processing record 65 | Albany\n",
      "Processing record 66 | Verāval\n",
      "Processing record 67 | Jamestown\n",
      "Processing record 68 | Fortuna\n",
      "Processing record 69 | Nirmāli\n",
      "Processing record 70 | Mayahi\n",
      "Processing record 71 | Chokurdakh\n",
      "Processing record 72 | Knysna\n",
      "Processing record 73 | Ust-Tsilma\n",
      "Processing record 74 | Yar-Sale\n",
      "Processing record 75 | Port Hedland\n",
      "Processing record 76 | Bandarbeyla\n",
      "Processing record 77 | Acri\n",
      "Processing record 78 | Mujiayingzi\n",
      "Processing record 79 | Havre-St-Pierre\n",
      "Processing record 80 | Mora\n",
      "City Not found, Skipping.....\n",
      "City Not found, Skipping.....\n",
      "Processing record 81 | Novovelichkovskaya\n",
      "City Not found, Skipping.....\n",
      "Processing record 82 | Olafsvik\n",
      "Processing record 83 | Broome\n",
      "Processing record 84 | Severo-Kuril'sk\n",
      "Processing record 85 | Galveston\n",
      "Processing record 86 | Tuktoyaktuk\n",
      "Processing record 87 | Sète\n",
      "Processing record 88 | Yalutorovsk\n",
      "Processing record 89 | Rundu\n",
      "Processing record 90 | San Juan\n",
      "Processing record 91 | Walvis Bay\n",
      "Processing record 92 | Bengkulu\n",
      "Processing record 93 | Puerto Baquerizo Moreno\n",
      "Processing record 94 | Longyearbyen\n",
      "Processing record 95 | São Cristóvão\n",
      "Processing record 96 | Port-Gentil\n",
      "Processing record 97 | Leningradskiy\n",
      "Processing record 98 | Avarua\n",
      "Processing record 99 | Talnakh\n",
      "Processing record 100 | Watertown\n",
      "Processing record 101 | Vaini\n",
      "Processing record 102 | Neuquén\n",
      "Processing record 103 | Lagos\n",
      "Processing record 104 | Haukipudas\n",
      "Processing record 105 | Kenai\n",
      "Processing record 106 | Mar del Plata\n",
      "Processing record 107 | Sinnamary\n",
      "Processing record 108 | Ixtapa\n",
      "Processing record 109 | Moanda\n",
      "Processing record 110 | Lachi\n",
      "Processing record 111 | Port Hardy\n",
      "Processing record 112 | Spas-Demensk\n",
      "Processing record 113 | Lodwar\n",
      "Processing record 114 | Burgeo\n",
      "Processing record 115 | Cape Town\n",
      "Processing record 116 | Ponot\n",
      "Processing record 117 | Kavaratti\n",
      "Processing record 118 | Haines Junction\n",
      "Processing record 119 | Alofi\n",
      "Processing record 120 | Arrondissement de Rodez\n",
      "Processing record 121 | Pangnirtung\n",
      "Processing record 122 | Calvinia\n",
      "Processing record 123 | Gijang\n",
      "Processing record 124 | Lebu\n",
      "Processing record 125 | San Patricio\n",
      "Processing record 126 | Liverpool\n",
      "Processing record 127 | Lastoursville\n",
      "Processing record 128 | Faanui\n",
      "Processing record 129 | Okhotsk\n",
      "City Not found, Skipping.....\n",
      "Processing record 130 | Makakilo City\n",
      "Processing record 131 | Cockburn Town\n",
      "City Not found, Skipping.....\n",
      "Processing record 132 | Ahipara\n",
      "Processing record 133 | Geraldton\n",
      "Processing record 134 | Vila Velha\n",
      "Processing record 135 | Upernavik\n",
      "Processing record 136 | Cayenne\n",
      "Processing record 137 | Dingle\n",
      "Processing record 138 | Teeli\n",
      "Processing record 139 | Thanh Hoa\n",
      "Processing record 140 | Ayan\n",
      "Processing record 141 | Adrar\n",
      "Processing record 142 | Ostrovnoy\n",
      "Processing record 143 | Chui\n",
      "Processing record 144 | Charagua\n",
      "Processing record 145 | Puerto Ayora\n",
      "Processing record 146 | Doha\n",
      "Processing record 147 | Poya\n",
      "Processing record 148 | Kieta\n",
      "Processing record 149 | Moskovskiy\n",
      "Processing record 150 | Ogdensburg\n",
      "Processing record 151 | San Cristobal\n",
      "Processing record 152 | Hithadhoo\n",
      "Processing record 153 | Saint Paul Harbor\n",
      "Processing record 154 | Vestmannaeyjar\n",
      "Processing record 155 | Merrill\n",
      "Processing record 156 | Mogadishu\n",
      "Processing record 157 | Khatanga\n",
      "Processing record 158 | Vao\n",
      "Processing record 159 | Fort Dodge\n",
      "Processing record 160 | Kita\n",
      "Processing record 161 | Guerrero Negro\n",
      "Processing record 162 | Clyde River\n",
      "Processing record 163 | Ribeira Grande\n",
      "Processing record 164 | Torfyanoy\n",
      "Processing record 165 | Acapulco de Juárez\n",
      "Processing record 166 | Moose Factory\n",
      "Processing record 167 | Flinders\n",
      "Processing record 168 | Nome\n",
      "Processing record 169 | Krasnyy Luch\n",
      "Processing record 170 | Del Rio\n",
      "Processing record 171 | Te Anau\n",
      "Processing record 172 | San Policarpo\n",
      "Processing record 173 | Saint-Augustin\n",
      "Processing record 174 | Matagami\n",
      "Processing record 175 | Taoudenni\n",
      "Processing record 176 | Salalah\n",
      "Processing record 177 | Esperance\n",
      "Processing record 178 | Luang Prabang\n",
      "Processing record 179 | Kanye\n",
      "Processing record 180 | Contai\n",
      "Processing record 181 | Litovko\n",
      "City Not found, Skipping.....\n",
      "Processing record 182 | Mandalgovi\n",
      "Processing record 183 | Yulara\n",
      "Processing record 184 | Port Elizabeth\n",
      "Processing record 185 | Calvià\n",
      "Processing record 186 | Kudahuvadhoo\n",
      "Processing record 187 | Nantucket\n",
      "Processing record 188 | Tura\n",
      "Processing record 189 | Ajijic\n",
      "Processing record 190 | Khalkhāl\n",
      "City Not found, Skipping.....\n",
      "City Not found, Skipping.....\n",
      "City Not found, Skipping.....\n",
      "Processing record 191 | Acajutla\n",
      "Processing record 192 | Praia\n",
      "Processing record 193 | Mount Isa\n",
      "City Not found, Skipping.....\n",
      "Processing record 194 | Marsh Harbour\n",
      "Processing record 195 | Aban\n",
      "Processing record 196 | Arraial do Cabo\n",
      "Processing record 197 | Khani\n",
      "Processing record 198 | Talcahuano\n",
      "Processing record 199 | San Jerónimo\n",
      "Processing record 200 | Waipawa\n",
      "City Not found, Skipping.....\n",
      "Processing record 201 | Pangody\n",
      "Processing record 202 | George Town\n",
      "Processing record 203 | Sterling\n",
      "Processing record 204 | Belmonte\n",
      "Processing record 205 | Caravelas\n",
      "Processing record 206 | Abapó\n",
      "City Not found, Skipping.....\n",
      "Processing record 207 | São João da Barra\n",
      "Processing record 208 | Igarka\n",
      "Processing record 209 | Ballina\n",
      "City Not found, Skipping.....\n",
      "Processing record 210 | Limeira\n",
      "Processing record 211 | Puerto Peñasco\n",
      "Processing record 212 | Eirunepé\n",
      "Processing record 213 | Batticaloa\n",
      "Processing record 214 | Laas\n",
      "Processing record 215 | Provideniya\n",
      "Processing record 216 | Maniwaki\n",
      "Processing record 217 | Dolores\n",
      "Processing record 218 | Mt. Pleasant\n",
      "Processing record 219 | Avera\n",
      "City Not found, Skipping.....\n",
      "Processing record 220 | Mananjary\n",
      "Processing record 221 | Padang\n",
      "Processing record 222 | Touros\n",
      "Processing record 223 | Kitgum\n",
      "Processing record 224 | Abu Dhabi\n",
      "Processing record 225 | Katsuura\n",
      "Processing record 226 | Craig\n",
      "Processing record 227 | Kavieng\n",
      "Processing record 228 | Sagamu\n",
      "Processing record 229 | Tessalit\n",
      "Processing record 230 | Partizánske\n",
      "Processing record 231 | Vila do Maio\n"
     ]
    },
    {
     "name": "stdout",
     "output_type": "stream",
     "text": [
      "Processing record 232 | Airai\n",
      "Processing record 233 | Pokhara\n",
      "Processing record 234 | Kanungu\n",
      "Processing record 235 | Nehe\n",
      "Processing record 236 | Wilkie\n",
      "Processing record 237 | Nālūt\n",
      "Processing record 238 | Galle\n",
      "Processing record 239 | Assomada\n",
      "Processing record 240 | Grand Gaube\n",
      "Processing record 241 | Yenagoa\n",
      "Processing record 242 | Dubbo\n",
      "Processing record 243 | Havøysund\n",
      "Processing record 244 | Srednekolymsk\n",
      "Processing record 245 | Vyartsilya\n",
      "Processing record 246 | Plainview\n",
      "Processing record 247 | Panama City\n",
      "Processing record 248 | Port-Cartier\n",
      "Processing record 249 | Saldanha\n",
      "Processing record 250 | Yumen\n",
      "Processing record 251 | Dire Dawa\n",
      "Processing record 252 | Shihezi\n",
      "Processing record 253 | Cururupu\n",
      "Processing record 254 | Āsosa\n",
      "Processing record 255 | Bichura\n",
      "Processing record 256 | Kampong Cham\n",
      "City Not found, Skipping.....\n",
      "City Not found, Skipping.....\n",
      "Processing record 257 | Noumea\n",
      "Processing record 258 | Kandrian\n",
      "Processing record 259 | Antalaha\n",
      "Processing record 260 | Aksarka\n",
      "Processing record 261 | Baní\n",
      "Processing record 262 | Filingué\n",
      "Processing record 263 | Khāsh\n",
      "Processing record 264 | Klaksvík\n",
      "Processing record 265 | Pundaguitan\n",
      "Processing record 266 | Hamilton\n",
      "Processing record 267 | Ubinskoye\n",
      "Processing record 268 | Tasiilaq\n",
      "Processing record 269 | Saint-Philippe\n",
      "Processing record 270 | Bathsheba\n",
      "Processing record 271 | Coyhaique\n",
      "Processing record 272 | São José da Coroa Grande\n",
      "Processing record 273 | Remanso\n",
      "Processing record 274 | Candolim\n",
      "City Not found, Skipping.....\n",
      "Processing record 275 | Alekseyevsk\n",
      "Processing record 276 | Grand-Bourg\n",
      "Processing record 277 | Forsytheganj\n",
      "Processing record 278 | Tuatapere\n",
      "Processing record 279 | Ko Samui\n",
      "Processing record 280 | Kungurtug\n",
      "Processing record 281 | Henties Bay\n",
      "Processing record 282 | Bubaque\n",
      "Processing record 283 | Coihueco\n",
      "Processing record 284 | Yangjiang\n",
      "Processing record 285 | Rudnya\n",
      "Processing record 286 | Ponta Delgada\n",
      "Processing record 287 | Ōdachō-ōda\n",
      "Processing record 288 | Elizabeth City\n",
      "Processing record 289 | Kloulklubed\n",
      "Processing record 290 | Kushiro\n",
      "Processing record 291 | Kalmar\n",
      "Processing record 292 | Kruisfontein\n",
      "Processing record 293 | Liberal\n",
      "City Not found, Skipping.....\n",
      "City Not found, Skipping.....\n",
      "Processing record 294 | Margate\n",
      "Processing record 295 | Yeppoon\n",
      "Processing record 296 | Havelock\n",
      "Processing record 297 | Vysokogornyy\n",
      "Processing record 298 | Sault Ste. Marie\n",
      "Processing record 299 | Sitka\n",
      "Processing record 300 | Arman'\n",
      "Processing record 301 | Gizo Government Station\n",
      "Processing record 302 | Tiarei\n",
      "Processing record 303 | Cherskiy\n",
      "Processing record 304 | Strelka\n",
      "Processing record 305 | Shangrao\n",
      "City Not found, Skipping.....\n",
      "Processing record 306 | Pacifica\n",
      "Processing record 307 | Podhum\n",
      "Processing record 308 | Kupang\n",
      "City Not found, Skipping.....\n",
      "Processing record 309 | Koumac\n",
      "Processing record 310 | Torbay\n",
      "Processing record 311 | Terme\n",
      "Processing record 312 | Lagoa\n",
      "Processing record 313 | Mbarara\n",
      "Processing record 314 | Vardø\n",
      "Processing record 315 | Tilichiki\n",
      "Processing record 316 | Necochea\n",
      "City Not found, Skipping.....\n",
      "Processing record 317 | Frederiksberg\n",
      "Processing record 318 | Saint-Joseph\n",
      "Processing record 319 | Kumul\n",
      "Processing record 320 | Comala\n",
      "Processing record 321 | Itaituba\n",
      "Processing record 322 | Codrington\n",
      "Processing record 323 | Nuuk\n",
      "City Not found, Skipping.....\n",
      "Processing record 324 | Lüderitz\n",
      "Processing record 325 | Mahibadhoo\n",
      "City Not found, Skipping.....\n",
      "Processing record 326 | Bilibino\n",
      "City Not found, Skipping.....\n",
      "Processing record 327 | Lensk\n",
      "Processing record 328 | Kahului\n",
      "Processing record 329 | Ooty\n",
      "Processing record 330 | Huaihua\n",
      "Processing record 331 | Colares\n",
      "Processing record 332 | Ucluelet\n",
      "Processing record 333 | Lorengau\n",
      "Processing record 334 | Tabou\n",
      "Processing record 335 | Port Hawkesbury\n",
      "Processing record 336 | Sobolevo\n",
      "Processing record 337 | Alice Springs\n",
      "City Not found, Skipping.....\n",
      "Processing record 338 | Brae\n",
      "Processing record 339 | Kaitangata\n",
      "Processing record 340 | Gari\n",
      "Processing record 341 | San Jose\n",
      "Processing record 342 | Hukuntsi\n",
      "Processing record 343 | Pointe Michel\n",
      "Processing record 344 | Norman Wells\n",
      "Processing record 345 | Condega\n",
      "Processing record 346 | Palmer\n",
      "Processing record 347 | Piaçabuçu\n",
      "Processing record 348 | Waddān\n",
      "Processing record 349 | Trelew\n",
      "Processing record 350 | Esim\n",
      "Processing record 351 | Sirte\n",
      "Processing record 352 | Itarema\n",
      "Processing record 353 | Antofagasta\n",
      "Processing record 354 | Nemuro\n",
      "Processing record 355 | Arys\n",
      "City Not found, Skipping.....\n",
      "Processing record 356 | Kamenka\n",
      "Processing record 357 | Saint George\n",
      "Processing record 358 | Lithakia\n",
      "City Not found, Skipping.....\n",
      "Processing record 359 | Dogondoutchi\n",
      "Processing record 360 | Nueve de Julio\n",
      "Processing record 361 | Quimper\n",
      "Processing record 362 | San Quintín\n",
      "Processing record 363 | Tabuk\n",
      "Processing record 364 | Oxapampa\n",
      "Processing record 365 | Arrondissement de Saint-Denis\n",
      "Processing record 366 | Gornopravdinsk\n",
      "Processing record 367 | Leshukonskoye\n",
      "Processing record 368 | Berlevåg\n",
      "Processing record 369 | Rutland\n",
      "Processing record 370 | Chapais\n",
      "Processing record 371 | Ancud\n",
      "Processing record 372 | Yerbogachën\n",
      "Processing record 373 | Anadyr\n",
      "City Not found, Skipping.....\n",
      "Processing record 374 | Mayor Pablo Lagerenza\n",
      "Processing record 375 | Gaoyou\n",
      "Processing record 376 | Soyo\n",
      "Processing record 377 | Camacha\n",
      "Processing record 378 | Jalu\n",
      "City Not found, Skipping.....\n",
      "Processing record 379 | Moses Lake\n",
      "Processing record 380 | Sioux Lookout\n",
      "Processing record 381 | Straumen\n",
      "Processing record 382 | Deputatsky\n",
      "Processing record 383 | Port Blair\n",
      "Processing record 384 | Nanortalik\n",
      "Processing record 385 | Aire-sur-la-Lys\n",
      "Processing record 386 | Malangali\n",
      "Processing record 387 | Valdivia\n",
      "City Not found, Skipping.....\n",
      "Processing record 388 | Tver'\n",
      "Processing record 389 | Tarakan\n",
      "Processing record 390 | Saskylakh\n",
      "Processing record 391 | Laguna\n",
      "Processing record 392 | St. George's\n",
      "City Not found, Skipping.....\n",
      "Processing record 393 | North Bend\n",
      "Processing record 394 | Safi\n",
      "Processing record 395 | Buraidah\n",
      "Processing record 396 | Sande\n",
      "Processing record 397 | Minuri\n",
      "Processing record 398 | Oussouye\n",
      "Processing record 399 | Presidencia Roque Sáenz Peña\n",
      "Processing record 400 | Lock Haven\n",
      "Processing record 401 | Kota Kinabalu\n",
      "Processing record 402 | Motala\n",
      "Processing record 403 | Nabire\n",
      "Processing record 404 | Kysyl-Syr\n",
      "Processing record 405 | Saint-Pierre\n",
      "Processing record 406 | Castro\n",
      "Processing record 407 | Strezhevoy\n",
      "Processing record 408 | Adeje\n",
      "Processing record 409 | Bobo-Dioulasso\n",
      "Processing record 410 | Bambous Virieux\n",
      "Processing record 411 | Keelung\n",
      "Processing record 412 | Prince Rupert\n",
      "Processing record 413 | Farah\n",
      "Processing record 414 | Belyy Yar\n",
      "Processing record 415 | Barra Patuca\n",
      "Processing record 416 | Ilulissat\n",
      "Processing record 417 | Kyra\n",
      "Processing record 418 | Iqaluit\n",
      "City Not found, Skipping.....\n",
      "Processing record 419 | Rørvik\n",
      "Processing record 420 | Alghero\n",
      "Processing record 421 | São Filipe\n",
      "Processing record 422 | Burnie\n",
      "Processing record 423 | Kiryat Gat\n",
      "Processing record 424 | Maragogi\n",
      "Processing record 425 | Muros\n",
      "City Not found, Skipping.....\n",
      "Processing record 426 | Santa Cruz del Sur\n",
      "Processing record 427 | Starosubkhangulovo\n",
      "Processing record 428 | Lavrentiya\n",
      "Processing record 429 | Kununurra\n",
      "Processing record 430 | Constitución\n",
      "Processing record 431 | Hong Kong\n",
      "Processing record 432 | Finschhafen\n",
      "Processing record 433 | Malaya Serdoba\n",
      "Processing record 434 | Maniitsoq\n",
      "Processing record 435 | Duluth\n",
      "Processing record 436 | Santiago\n",
      "Processing record 437 | Sémbé\n",
      "Processing record 438 | Ketchikan\n",
      "Processing record 439 | Muqui\n",
      "Processing record 440 | Buenos Aires\n",
      "Processing record 441 | Mattru\n",
      "Processing record 442 | Umluj\n",
      "Processing record 443 | Denpasar\n",
      "Processing record 444 | Ternate\n",
      "Processing record 445 | Belaya Gora\n",
      "Processing record 446 | Rexburg\n",
      "Processing record 447 | Teknāf\n",
      "Processing record 448 | Sassandra\n",
      "Processing record 449 | Belgrade\n",
      "Processing record 450 | Zhigansk\n",
      "Processing record 451 | Calabozo\n",
      "Processing record 452 | Moroni\n",
      "Processing record 453 | Masinloc\n",
      "Processing record 454 | Sri Aman\n",
      "Processing record 455 | Kaupanger\n",
      "Processing record 456 | Portland\n",
      "Processing record 457 | Olinda\n",
      "Processing record 458 | Healdsburg\n"
     ]
    },
    {
     "name": "stdout",
     "output_type": "stream",
     "text": [
      "Processing record 459 | Narón\n",
      "Processing record 460 | São Paulo de Olivença\n",
      "Processing record 461 | São Miguel do Araguaia\n",
      "Processing record 462 | Suntar\n",
      "Processing record 463 | Lao Cai\n",
      "Processing record 464 | Ochakiv\n",
      "Processing record 465 | Korla\n",
      "Processing record 466 | Mil'kovo\n",
      "Processing record 467 | Narāyangarh\n",
      "Processing record 468 | Namatanai\n",
      "Processing record 469 | Gemeente Wageningen\n",
      "Processing record 470 | Hargeisa\n",
      "Processing record 471 | Wenling\n",
      "Processing record 472 | Hecun\n",
      "Processing record 473 | Houston\n",
      "Processing record 474 | Catacamas\n",
      "Processing record 475 | Vytegra\n",
      "Processing record 476 | Hasaki\n",
      "Processing record 477 | Shaowu\n",
      "Processing record 478 | Samarai\n",
      "Processing record 479 | Valparaíso\n",
      "Processing record 480 | Pevek\n",
      "Processing record 481 | Beïnamar\n",
      "Processing record 482 | Morant Bay\n",
      "Processing record 483 | Lázaro Cárdenas\n",
      "Processing record 484 | Lere\n",
      "Processing record 485 | Isangel\n",
      "Processing record 486 | Say\n",
      "Processing record 487 | Rauma\n",
      "Processing record 488 | Vangaindrano\n",
      "Processing record 489 | Soavinandriana\n",
      "City Not found, Skipping.....\n",
      "Processing record 490 | Kaseda-shirakame\n",
      "City Not found, Skipping.....\n",
      "Processing record 491 | Pascagoula\n",
      "Processing record 492 | Port Augusta\n",
      "Processing record 493 | Wuxi\n",
      "Processing record 494 | Sovetskiy\n",
      "Processing record 495 | Fort Nelson\n",
      "Processing record 496 | Hailar\n",
      "City Not found, Skipping.....\n",
      "Processing record 497 | Mount Gambier\n",
      "Processing record 498 | Matadi\n",
      "Processing record 499 | Staroye Drozhzhanoye\n",
      "Processing record 500 | Krasnosel'kup\n",
      "City Not found, Skipping.....\n",
      "Processing record 501 | Smithers\n",
      "Processing record 502 | Beringovskiy\n",
      "Processing record 503 | Luwingu\n",
      "Processing record 504 | Sibu\n",
      "City Not found, Skipping.....\n",
      "Processing record 505 | Nagapattinam\n",
      "Processing record 506 | Narsaq\n",
      "Processing record 507 | Tamandaré\n",
      "City Not found, Skipping.....\n",
      "Processing record 508 | Mnogovershinnyy\n",
      "Processing record 509 | Chute-aux-Outardes\n",
      "Processing record 510 | Progreso\n",
      "Processing record 511 | Labé\n",
      "Processing record 512 | Korem\n",
      "City Not found, Skipping.....\n",
      "City Not found, Skipping.....\n",
      "Processing record 513 | Andenes\n",
      "Processing record 514 | Ulaangom\n",
      "Processing record 515 | Ordzhonīkīdze\n",
      "Processing record 516 | Kaohsiung City\n",
      "Processing record 517 | Contamana\n",
      "Processing record 518 | Kaeo\n",
      "Processing record 519 | Rivne\n",
      "Processing record 520 | Valdez\n",
      "Processing record 521 | Santa Marta\n",
      "Processing record 522 | Malindi\n",
      "Processing record 523 | Wagar\n",
      "Processing record 524 | Pisco\n",
      "Processing record 525 | Mersing\n",
      "Processing record 526 | Cape Coast\n",
      "Processing record 527 | Victor Harbor\n",
      "Processing record 528 | Muroto-misakicho\n",
      "Processing record 529 | Aklavik\n",
      "City Not found, Skipping.....\n",
      "Processing record 530 | Beira\n",
      "Processing record 531 | Khasan\n",
      "Processing record 532 | Santa Cruz Verapaz\n",
      "Processing record 533 | Būkān\n",
      "Processing record 534 | Skegness\n",
      "Processing record 535 | Labuhan\n",
      "Processing record 536 | Sandwick\n",
      "Processing record 537 | Point Pedro\n",
      "Processing record 538 | Bethanien\n",
      "Processing record 539 | Ugoofaaru\n",
      "Processing record 540 | Tambacounda\n",
      "Processing record 541 | Tibati\n",
      "Processing record 542 | Mikhaylovskoye\n",
      "Processing record 543 | Keller\n",
      "Processing record 544 | Tadine\n",
      "Processing record 545 | Moerai\n",
      "Processing record 546 | Naryan-Mar\n",
      "Processing record 547 | Shalakusha\n",
      "Processing record 548 | Capitão Poço\n",
      "Processing record 549 | Aktash\n",
      "Processing record 550 | Irtyshskiy\n",
      "Processing record 551 | Tautira\n",
      "Processing record 552 | Puri\n",
      "Processing record 553 | Jiwani\n",
      "Processing record 554 | Egvekinot\n",
      "Processing record 555 | San Fernando\n",
      "Processing record 556 | Porbandar\n",
      "Processing record 557 | Tegul'det\n",
      "Processing record 558 | Udimskiy\n",
      "Processing record 559 | Jiazi\n",
      "Processing record 560 | Borogontsy\n",
      "Processing record 561 | Dalbandin\n",
      "Processing record 562 | Aden\n",
      "Processing record 563 | Beisfjord\n",
      "Processing record 564 | Rafaela\n",
      "Processing record 565 | Arlit\n",
      "Processing record 566 | Shelburne\n",
      "Processing record 567 | Ngunguru\n",
      "Processing record 568 | Vila Franca do Campo\n",
      "Processing record 569 | Winnemucca\n",
      "Processing record 570 | Andros Town\n",
      "Processing record 571 | Auce\n",
      "Processing record 572 | Kuito\n",
      "Processing record 573 | Ojinaga\n",
      "Processing record 574 | Benjamín Hill\n",
      "Processing record 575 | Mahébourg\n",
      "Processing record 576 | Leiyang\n",
      "Processing record 577 | Tomatlán\n",
      "Processing record 578 | Sabha\n",
      "Processing record 579 | Fallon\n",
      "Processing record 580 | Vostok\n",
      "Processing record 581 | Kolyvan'\n",
      "Processing record 582 | Ostrov\n",
      "Processing record 583 | Haradok\n",
      "City Not found, Skipping.....\n",
      "Processing record 584 | São Félix do Xingu\n",
      "Processing record 585 | Rome\n",
      "Processing record 586 | Poum\n",
      "Processing record 587 | Zyryanka\n",
      "Processing record 588 | Lahaina\n",
      "Processing record 589 | Monrovia\n",
      "Processing record 590 | Husavik\n",
      "City Not found, Skipping.....\n",
      "Processing record 591 | Caborca\n",
      "Processing record 592 | Rawson\n",
      "Processing record 593 | Griffith\n",
      "Processing record 594 | Yurga\n",
      "Processing record 595 | Posse\n",
      "Processing record 596 | Ayagoz\n",
      "Processing record 597 | Berezovyy\n",
      "Processing record 598 | Omboué\n",
      "Processing record 599 | Gorontalo\n"
     ]
    }
   ],
   "source": [
    "# begin with Variables \n",
    "city_name = []\n",
    "c_country = []\n",
    "date =[]\n",
    "c_lat =[]\n",
    "c_lon =[]\n",
    "temp = []\n",
    "temp_max =[]\n",
    "humid =[]\n",
    "cloud =[]\n",
    "wind =[]\n",
    "i = 1\n",
    "\n",
    "\n",
    "print (f\"Beginning Data Retrival\")\n",
    "print (\"-------------------------\")\n",
    "\n",
    "for city in cities:\n",
    "    city=city\n",
    "    query_url = weather_url + \"appid=\" + weather_api_key + \"&q=\" + city\n",
    "    w_json =requests.get(query_url).json()\n",
    "    \n",
    "    try:      \n",
    "        city_name.append(w_json [\"name\"])\n",
    "        c_country.append(w_json[\"sys\"][\"country\"])\n",
    "        date.append(w_json[\"dt\"])\n",
    "        c_lat.append(w_json[\"coord\"][\"lat\"])\n",
    "        c_lon.append(w_json [\"coord\"][\"lon\"])\n",
    "        temp_max.append(w_json[\"main\"][\"temp_max\"])\n",
    "        temp.append(w_json [\"main\"][\"temp\"])\n",
    "        humid.append(w_json [\"main\"][\"humidity\"])\n",
    "        cloud.append(w_json [\"clouds\"][\"all\"])\n",
    "        wind.append(w_json [\"wind\"][\"speed\"])\n",
    "        city_info = w_json[\"name\"]\n",
    "        print(f\"Processing record {i} | {city_info}\")\n",
    "        i+=1\n",
    "    except (KeyError):\n",
    "        print(f\"City Not found, Skipping.....\")\n",
    "            \n",
    "        \n",
    "        \n"
   ]
  },
  {
   "cell_type": "markdown",
   "metadata": {},
   "source": [
    "### Convert Raw Data to DataFrame\n",
    "* Export the city data into a .csv.\n",
    "* Display the DataFrame"
   ]
  },
  {
   "cell_type": "code",
   "execution_count": 26,
   "metadata": {
    "scrolled": true
   },
   "outputs": [
    {
     "data": {
      "text/html": [
       "<div>\n",
       "<style scoped>\n",
       "    .dataframe tbody tr th:only-of-type {\n",
       "        vertical-align: middle;\n",
       "    }\n",
       "\n",
       "    .dataframe tbody tr th {\n",
       "        vertical-align: top;\n",
       "    }\n",
       "\n",
       "    .dataframe thead th {\n",
       "        text-align: right;\n",
       "    }\n",
       "</style>\n",
       "<table border=\"1\" class=\"dataframe\">\n",
       "  <thead>\n",
       "    <tr style=\"text-align: right;\">\n",
       "      <th></th>\n",
       "      <th>City Name</th>\n",
       "      <th>Country</th>\n",
       "      <th>Cloudiness</th>\n",
       "      <th>Lat</th>\n",
       "      <th>Long</th>\n",
       "      <th>Humidity</th>\n",
       "      <th>Windspeed</th>\n",
       "      <th>Temperature</th>\n",
       "    </tr>\n",
       "  </thead>\n",
       "  <tbody>\n",
       "    <tr>\n",
       "      <th>0</th>\n",
       "      <td>Tuban</td>\n",
       "      <td>ID</td>\n",
       "      <td>100</td>\n",
       "      <td>-6.8976</td>\n",
       "      <td>112.0649</td>\n",
       "      <td>80</td>\n",
       "      <td>1.72</td>\n",
       "      <td>299.17</td>\n",
       "    </tr>\n",
       "    <tr>\n",
       "      <th>1</th>\n",
       "      <td>Lompoc</td>\n",
       "      <td>US</td>\n",
       "      <td>1</td>\n",
       "      <td>34.6391</td>\n",
       "      <td>-120.4579</td>\n",
       "      <td>49</td>\n",
       "      <td>2.39</td>\n",
       "      <td>280.95</td>\n",
       "    </tr>\n",
       "    <tr>\n",
       "      <th>2</th>\n",
       "      <td>New Norfolk</td>\n",
       "      <td>AU</td>\n",
       "      <td>100</td>\n",
       "      <td>-42.7826</td>\n",
       "      <td>147.0587</td>\n",
       "      <td>72</td>\n",
       "      <td>0.45</td>\n",
       "      <td>287.71</td>\n",
       "    </tr>\n",
       "    <tr>\n",
       "      <th>3</th>\n",
       "      <td>Butaritari</td>\n",
       "      <td>KI</td>\n",
       "      <td>44</td>\n",
       "      <td>3.0707</td>\n",
       "      <td>172.7902</td>\n",
       "      <td>82</td>\n",
       "      <td>4.44</td>\n",
       "      <td>300.01</td>\n",
       "    </tr>\n",
       "    <tr>\n",
       "      <th>4</th>\n",
       "      <td>Qaanaaq</td>\n",
       "      <td>GL</td>\n",
       "      <td>100</td>\n",
       "      <td>77.4840</td>\n",
       "      <td>-69.3632</td>\n",
       "      <td>88</td>\n",
       "      <td>0.71</td>\n",
       "      <td>257.12</td>\n",
       "    </tr>\n",
       "    <tr>\n",
       "      <th>...</th>\n",
       "      <td>...</td>\n",
       "      <td>...</td>\n",
       "      <td>...</td>\n",
       "      <td>...</td>\n",
       "      <td>...</td>\n",
       "      <td>...</td>\n",
       "      <td>...</td>\n",
       "      <td>...</td>\n",
       "    </tr>\n",
       "    <tr>\n",
       "      <th>594</th>\n",
       "      <td>Posse</td>\n",
       "      <td>BR</td>\n",
       "      <td>100</td>\n",
       "      <td>-14.0931</td>\n",
       "      <td>-46.3694</td>\n",
       "      <td>79</td>\n",
       "      <td>1.66</td>\n",
       "      <td>296.59</td>\n",
       "    </tr>\n",
       "    <tr>\n",
       "      <th>595</th>\n",
       "      <td>Ayagoz</td>\n",
       "      <td>KZ</td>\n",
       "      <td>100</td>\n",
       "      <td>47.9714</td>\n",
       "      <td>80.4392</td>\n",
       "      <td>91</td>\n",
       "      <td>3.34</td>\n",
       "      <td>265.89</td>\n",
       "    </tr>\n",
       "    <tr>\n",
       "      <th>596</th>\n",
       "      <td>Berezovyy</td>\n",
       "      <td>RU</td>\n",
       "      <td>9</td>\n",
       "      <td>51.6667</td>\n",
       "      <td>135.7000</td>\n",
       "      <td>80</td>\n",
       "      <td>3.79</td>\n",
       "      <td>253.53</td>\n",
       "    </tr>\n",
       "    <tr>\n",
       "      <th>597</th>\n",
       "      <td>Omboué</td>\n",
       "      <td>GA</td>\n",
       "      <td>44</td>\n",
       "      <td>-1.5746</td>\n",
       "      <td>9.2618</td>\n",
       "      <td>66</td>\n",
       "      <td>4.79</td>\n",
       "      <td>303.11</td>\n",
       "    </tr>\n",
       "    <tr>\n",
       "      <th>598</th>\n",
       "      <td>Gorontalo</td>\n",
       "      <td>ID</td>\n",
       "      <td>100</td>\n",
       "      <td>0.5412</td>\n",
       "      <td>123.0595</td>\n",
       "      <td>87</td>\n",
       "      <td>2.06</td>\n",
       "      <td>297.50</td>\n",
       "    </tr>\n",
       "  </tbody>\n",
       "</table>\n",
       "<p>599 rows × 8 columns</p>\n",
       "</div>"
      ],
      "text/plain": [
       "       City Name Country  Cloudiness      Lat      Long  Humidity  Windspeed  \\\n",
       "0          Tuban      ID         100  -6.8976  112.0649        80       1.72   \n",
       "1         Lompoc      US           1  34.6391 -120.4579        49       2.39   \n",
       "2    New Norfolk      AU         100 -42.7826  147.0587        72       0.45   \n",
       "3     Butaritari      KI          44   3.0707  172.7902        82       4.44   \n",
       "4        Qaanaaq      GL         100  77.4840  -69.3632        88       0.71   \n",
       "..           ...     ...         ...      ...       ...       ...        ...   \n",
       "594        Posse      BR         100 -14.0931  -46.3694        79       1.66   \n",
       "595       Ayagoz      KZ         100  47.9714   80.4392        91       3.34   \n",
       "596    Berezovyy      RU           9  51.6667  135.7000        80       3.79   \n",
       "597       Omboué      GA          44  -1.5746    9.2618        66       4.79   \n",
       "598    Gorontalo      ID         100   0.5412  123.0595        87       2.06   \n",
       "\n",
       "     Temperature  \n",
       "0         299.17  \n",
       "1         280.95  \n",
       "2         287.71  \n",
       "3         300.01  \n",
       "4         257.12  \n",
       "..           ...  \n",
       "594       296.59  \n",
       "595       265.89  \n",
       "596       253.53  \n",
       "597       303.11  \n",
       "598       297.50  \n",
       "\n",
       "[599 rows x 8 columns]"
      ]
     },
     "execution_count": 26,
     "metadata": {},
     "output_type": "execute_result"
    }
   ],
   "source": [
    "# Convert to Dataframe\n",
    "weather_d= {'City Name': city_name,'Country': c_country,'Cloudiness': cloud,'Lat':c_lat,'Long':c_lon,'Humidity':humid,'Windspeed':wind,'Temperature': temp}\n",
    "weather_df =pd.DataFrame(weather_d, columns=('City Name','Country','Cloudiness','Lat','Long','Humidity', 'Windspeed','Temperature'))\n",
    "weather_df"
   ]
  },
  {
   "cell_type": "code",
   "execution_count": 27,
   "metadata": {
    "scrolled": true
   },
   "outputs": [],
   "source": [
    "weather_df.to_csv(output_data_file)"
   ]
  },
  {
   "cell_type": "markdown",
   "metadata": {},
   "source": [
    "## Inspect the data and remove the cities where the humidity > 100%.\n",
    "----\n",
    "Skip this step if there are no cities that have humidity > 100%. "
   ]
  },
  {
   "cell_type": "code",
   "execution_count": 28,
   "metadata": {},
   "outputs": [
    {
     "name": "stdout",
     "output_type": "stream",
     "text": [
      "No cities have over 100% humidity in data\n"
     ]
    },
    {
     "data": {
      "text/plain": [
       "count    599.000000\n",
       "mean      72.086811\n",
       "std       21.906822\n",
       "min        5.000000\n",
       "25%       63.000000\n",
       "50%       78.000000\n",
       "75%       87.000000\n",
       "max      100.000000\n",
       "Name: Humidity, dtype: float64"
      ]
     },
     "execution_count": 28,
     "metadata": {},
     "output_type": "execute_result"
    }
   ],
   "source": [
    "test_humidity = weather_df[\"Humidity\"].describe(include = \"all\")\n",
    "print(\"No cities have over 100% humidity in data\")\n",
    "test_humidity"
   ]
  },
  {
   "cell_type": "code",
   "execution_count": 29,
   "metadata": {},
   "outputs": [],
   "source": [
    "#  Get the indices of cities that have humidity over 100%.\n"
   ]
  },
  {
   "cell_type": "code",
   "execution_count": 30,
   "metadata": {},
   "outputs": [],
   "source": [
    "# Make a new DataFrame equal to the city data to drop all humidity outliers by index.\n",
    "# Passing \"inplace=False\" will make a copy of the city_data DataFrame, which we call \"clean_city_data\".\n"
   ]
  },
  {
   "cell_type": "markdown",
   "metadata": {},
   "source": [
    "## Plotting the Data\n",
    "* Use proper labeling of the plots using plot titles (including date of analysis) and axes labels.\n",
    "* Save the plotted figures as .pngs."
   ]
  },
  {
   "cell_type": "markdown",
   "metadata": {},
   "source": [
    "## Latitude vs. Temperature Plot"
   ]
  },
  {
   "cell_type": "code",
   "execution_count": 31,
   "metadata": {
    "scrolled": true
   },
   "outputs": [
    {
     "data": {
      "text/plain": [
       "<function matplotlib.pyplot.show(close=None, block=None)>"
      ]
     },
     "execution_count": 31,
     "metadata": {},
     "output_type": "execute_result"
    },
    {
     "data": {
      "image/png": "[encoded data removed]",
      "text/plain": [
       "<Figure size 432x288 with 1 Axes>"
      ]
     },
     "metadata": {
      "needs_background": "light"
     },
     "output_type": "display_data"
    }
   ],
   "source": [
    "plt.scatter(weather_df[\"Lat\"], weather_df[\"Temperature\"])\n",
    "plt.title(f\"City Latitude vs. Temperature\")\n",
    "plt.xlabel('Latitude')\n",
    "plt.ylabel('Temperature')\n",
    "plt.grid(alpha = 0.5)\n",
    "plt.savefig(\"output_data/Latitudevs.Temperature.png\")\n",
    "plt.show\n",
    "\n",
    "          "
   ]
  },
  {
   "cell_type": "markdown",
   "metadata": {},
   "source": [
    "## Latitude vs. Humidity Plot"
   ]
  },
  {
   "cell_type": "code",
   "execution_count": 32,
   "metadata": {},
   "outputs": [
    {
     "data": {
      "text/plain": [
       "<function matplotlib.pyplot.show(close=None, block=None)>"
      ]
     },
     "execution_count": 32,
     "metadata": {},
     "output_type": "execute_result"
    },
    {
     "data": {
      "image/png": "[encoded data removed]",
      "text/plain": [
       "<Figure size 432x288 with 1 Axes>"
      ]
     },
     "metadata": {
      "needs_background": "light"
     },
     "output_type": "display_data"
    }
   ],
   "source": [
    "plt.scatter(weather_df[\"Lat\"], weather_df[\"Humidity\"])\n",
    "plt.title(f\"City Latitude vs. Humidity\")\n",
    "plt.xlabel('Latitude')\n",
    "plt.ylabel('Humidity')\n",
    "plt.grid(alpha = 0.5)\n",
    "plt.savefig(\"output_data/Latitudevshumidity.png\")\n",
    "plt.show"
   ]
  },
  {
   "cell_type": "markdown",
   "metadata": {},
   "source": [
    "## Latitude vs. Cloudiness Plot"
   ]
  },
  {
   "cell_type": "code",
   "execution_count": 33,
   "metadata": {},
   "outputs": [
    {
     "data": {
      "text/plain": [
       "<function matplotlib.pyplot.show(close=None, block=None)>"
      ]
     },
     "execution_count": 33,
     "metadata": {},
     "output_type": "execute_result"
    },
    {
     "data": {
      "image/png": "[encoded data removed]",
      "text/plain": [
       "<Figure size 432x288 with 1 Axes>"
      ]
     },
     "metadata": {
      "needs_background": "light"
     },
     "output_type": "display_data"
    }
   ],
   "source": [
    "plt.scatter(weather_df[\"Lat\"], weather_df[\"Cloudiness\"])\n",
    "plt.title(f\"City Latitude vs. cloudiness\")\n",
    "plt.xlabel('Latitude')\n",
    "plt.ylabel('Cloudiness')\n",
    "plt.grid(alpha = 0.5)\n",
    "plt.savefig(\"output_data/Latitudevscloud.png\")\n",
    "plt.show"
   ]
  },
  {
   "cell_type": "markdown",
   "metadata": {},
   "source": [
    "## Latitude vs. Wind Speed Plot"
   ]
  },
  {
   "cell_type": "code",
   "execution_count": 34,
   "metadata": {},
   "outputs": [
    {
     "data": {
      "text/plain": [
       "<function matplotlib.pyplot.show(close=None, block=None)>"
      ]
     },
     "execution_count": 34,
     "metadata": {},
     "output_type": "execute_result"
    },
    {
     "data": {
      "image/png": "[encoded data removed]",
      "text/plain": [
       "<Figure size 432x288 with 1 Axes>"
      ]
     },
     "metadata": {
      "needs_background": "light"
     },
     "output_type": "display_data"
    }
   ],
   "source": [
    "plt.scatter(weather_df[\"Lat\"], weather_df[\"Windspeed\"])\n",
    "plt.title(f\"City Latitude vs. Windspeed\")\n",
    "plt.xlabel('Latitude')\n",
    "plt.ylabel('Windspeed')\n",
    "plt.grid(alpha = 0.5)\n",
    "plt.savefig(\"output_data/Latitudevswind.png\")\n",
    "plt.show"
   ]
  },
  {
   "cell_type": "markdown",
   "metadata": {},
   "source": [
    "## Linear Regression"
   ]
  },
  {
   "cell_type": "markdown",
   "metadata": {},
   "source": [
    "####  Northern Hemisphere - Max Temp vs. Latitude Linear Regression"
   ]
  },
  {
   "cell_type": "code",
   "execution_count": 35,
   "metadata": {},
   "outputs": [
    {
     "data": {
      "text/html": [
       "<div>\n",
       "<style scoped>\n",
       "    .dataframe tbody tr th:only-of-type {\n",
       "        vertical-align: middle;\n",
       "    }\n",
       "\n",
       "    .dataframe tbody tr th {\n",
       "        vertical-align: top;\n",
       "    }\n",
       "\n",
       "    .dataframe thead th {\n",
       "        text-align: right;\n",
       "    }\n",
       "</style>\n",
       "<table border=\"1\" class=\"dataframe\">\n",
       "  <thead>\n",
       "    <tr style=\"text-align: right;\">\n",
       "      <th></th>\n",
       "      <th>City Name</th>\n",
       "      <th>Country</th>\n",
       "      <th>Cloudiness</th>\n",
       "      <th>Lat</th>\n",
       "      <th>Long</th>\n",
       "      <th>Humidity</th>\n",
       "      <th>Windspeed</th>\n",
       "      <th>Temperature</th>\n",
       "    </tr>\n",
       "  </thead>\n",
       "  <tbody>\n",
       "    <tr>\n",
       "      <th>1</th>\n",
       "      <td>Lompoc</td>\n",
       "      <td>US</td>\n",
       "      <td>1</td>\n",
       "      <td>34.6391</td>\n",
       "      <td>-120.4579</td>\n",
       "      <td>49</td>\n",
       "      <td>2.39</td>\n",
       "      <td>280.95</td>\n",
       "    </tr>\n",
       "    <tr>\n",
       "      <th>3</th>\n",
       "      <td>Butaritari</td>\n",
       "      <td>KI</td>\n",
       "      <td>44</td>\n",
       "      <td>3.0707</td>\n",
       "      <td>172.7902</td>\n",
       "      <td>82</td>\n",
       "      <td>4.44</td>\n",
       "      <td>300.01</td>\n",
       "    </tr>\n",
       "    <tr>\n",
       "      <th>4</th>\n",
       "      <td>Qaanaaq</td>\n",
       "      <td>GL</td>\n",
       "      <td>100</td>\n",
       "      <td>77.4840</td>\n",
       "      <td>-69.3632</td>\n",
       "      <td>88</td>\n",
       "      <td>0.71</td>\n",
       "      <td>257.12</td>\n",
       "    </tr>\n",
       "    <tr>\n",
       "      <th>5</th>\n",
       "      <td>Morristown</td>\n",
       "      <td>US</td>\n",
       "      <td>40</td>\n",
       "      <td>36.2140</td>\n",
       "      <td>-83.2949</td>\n",
       "      <td>100</td>\n",
       "      <td>2.06</td>\n",
       "      <td>286.27</td>\n",
       "    </tr>\n",
       "    <tr>\n",
       "      <th>6</th>\n",
       "      <td>Yangi Marg`ilon</td>\n",
       "      <td>UZ</td>\n",
       "      <td>0</td>\n",
       "      <td>40.4272</td>\n",
       "      <td>71.7189</td>\n",
       "      <td>36</td>\n",
       "      <td>2.06</td>\n",
       "      <td>279.15</td>\n",
       "    </tr>\n",
       "    <tr>\n",
       "      <th>...</th>\n",
       "      <td>...</td>\n",
       "      <td>...</td>\n",
       "      <td>...</td>\n",
       "      <td>...</td>\n",
       "      <td>...</td>\n",
       "      <td>...</td>\n",
       "      <td>...</td>\n",
       "      <td>...</td>\n",
       "    </tr>\n",
       "    <tr>\n",
       "      <th>592</th>\n",
       "      <td>Griffith</td>\n",
       "      <td>US</td>\n",
       "      <td>90</td>\n",
       "      <td>41.5284</td>\n",
       "      <td>-87.4237</td>\n",
       "      <td>100</td>\n",
       "      <td>2.06</td>\n",
       "      <td>278.34</td>\n",
       "    </tr>\n",
       "    <tr>\n",
       "      <th>593</th>\n",
       "      <td>Yurga</td>\n",
       "      <td>RU</td>\n",
       "      <td>100</td>\n",
       "      <td>55.7231</td>\n",
       "      <td>84.8861</td>\n",
       "      <td>91</td>\n",
       "      <td>3.11</td>\n",
       "      <td>252.64</td>\n",
       "    </tr>\n",
       "    <tr>\n",
       "      <th>595</th>\n",
       "      <td>Ayagoz</td>\n",
       "      <td>KZ</td>\n",
       "      <td>100</td>\n",
       "      <td>47.9714</td>\n",
       "      <td>80.4392</td>\n",
       "      <td>91</td>\n",
       "      <td>3.34</td>\n",
       "      <td>265.89</td>\n",
       "    </tr>\n",
       "    <tr>\n",
       "      <th>596</th>\n",
       "      <td>Berezovyy</td>\n",
       "      <td>RU</td>\n",
       "      <td>9</td>\n",
       "      <td>51.6667</td>\n",
       "      <td>135.7000</td>\n",
       "      <td>80</td>\n",
       "      <td>3.79</td>\n",
       "      <td>253.53</td>\n",
       "    </tr>\n",
       "    <tr>\n",
       "      <th>598</th>\n",
       "      <td>Gorontalo</td>\n",
       "      <td>ID</td>\n",
       "      <td>100</td>\n",
       "      <td>0.5412</td>\n",
       "      <td>123.0595</td>\n",
       "      <td>87</td>\n",
       "      <td>2.06</td>\n",
       "      <td>297.50</td>\n",
       "    </tr>\n",
       "  </tbody>\n",
       "</table>\n",
       "<p>430 rows × 8 columns</p>\n",
       "</div>"
      ],
      "text/plain": [
       "           City Name Country  Cloudiness      Lat      Long  Humidity  \\\n",
       "1             Lompoc      US           1  34.6391 -120.4579        49   \n",
       "3         Butaritari      KI          44   3.0707  172.7902        82   \n",
       "4            Qaanaaq      GL         100  77.4840  -69.3632        88   \n",
       "5         Morristown      US          40  36.2140  -83.2949       100   \n",
       "6    Yangi Marg`ilon      UZ           0  40.4272   71.7189        36   \n",
       "..               ...     ...         ...      ...       ...       ...   \n",
       "592         Griffith      US          90  41.5284  -87.4237       100   \n",
       "593            Yurga      RU         100  55.7231   84.8861        91   \n",
       "595           Ayagoz      KZ         100  47.9714   80.4392        91   \n",
       "596        Berezovyy      RU           9  51.6667  135.7000        80   \n",
       "598        Gorontalo      ID         100   0.5412  123.0595        87   \n",
       "\n",
       "     Windspeed  Temperature  \n",
       "1         2.39       280.95  \n",
       "3         4.44       300.01  \n",
       "4         0.71       257.12  \n",
       "5         2.06       286.27  \n",
       "6         2.06       279.15  \n",
       "..         ...          ...  \n",
       "592       2.06       278.34  \n",
       "593       3.11       252.64  \n",
       "595       3.34       265.89  \n",
       "596       3.79       253.53  \n",
       "598       2.06       297.50  \n",
       "\n",
       "[430 rows x 8 columns]"
      ]
     },
     "execution_count": 35,
     "metadata": {},
     "output_type": "execute_result"
    }
   ],
   "source": [
    "northern = weather_df.loc[weather_df[\"Lat\"] >= 0]\n",
    "northern\n"
   ]
  },
  {
   "cell_type": "code",
   "execution_count": 36,
   "metadata": {},
   "outputs": [
    {
     "data": {
      "text/html": [
       "<div>\n",
       "<style scoped>\n",
       "    .dataframe tbody tr th:only-of-type {\n",
       "        vertical-align: middle;\n",
       "    }\n",
       "\n",
       "    .dataframe tbody tr th {\n",
       "        vertical-align: top;\n",
       "    }\n",
       "\n",
       "    .dataframe thead th {\n",
       "        text-align: right;\n",
       "    }\n",
       "</style>\n",
       "<table border=\"1\" class=\"dataframe\">\n",
       "  <thead>\n",
       "    <tr style=\"text-align: right;\">\n",
       "      <th></th>\n",
       "      <th>City Name</th>\n",
       "      <th>Country</th>\n",
       "      <th>Cloudiness</th>\n",
       "      <th>Lat</th>\n",
       "      <th>Long</th>\n",
       "      <th>Humidity</th>\n",
       "      <th>Windspeed</th>\n",
       "      <th>Temperature</th>\n",
       "    </tr>\n",
       "  </thead>\n",
       "  <tbody>\n",
       "    <tr>\n",
       "      <th>0</th>\n",
       "      <td>Tuban</td>\n",
       "      <td>ID</td>\n",
       "      <td>100</td>\n",
       "      <td>-6.8976</td>\n",
       "      <td>112.0649</td>\n",
       "      <td>80</td>\n",
       "      <td>1.72</td>\n",
       "      <td>299.17</td>\n",
       "    </tr>\n",
       "    <tr>\n",
       "      <th>2</th>\n",
       "      <td>New Norfolk</td>\n",
       "      <td>AU</td>\n",
       "      <td>100</td>\n",
       "      <td>-42.7826</td>\n",
       "      <td>147.0587</td>\n",
       "      <td>72</td>\n",
       "      <td>0.45</td>\n",
       "      <td>287.71</td>\n",
       "    </tr>\n",
       "    <tr>\n",
       "      <th>9</th>\n",
       "      <td>Port Alfred</td>\n",
       "      <td>ZA</td>\n",
       "      <td>7</td>\n",
       "      <td>-33.5906</td>\n",
       "      <td>26.8910</td>\n",
       "      <td>83</td>\n",
       "      <td>4.02</td>\n",
       "      <td>297.04</td>\n",
       "    </tr>\n",
       "    <tr>\n",
       "      <th>10</th>\n",
       "      <td>Busselton</td>\n",
       "      <td>AU</td>\n",
       "      <td>100</td>\n",
       "      <td>-33.6500</td>\n",
       "      <td>115.3333</td>\n",
       "      <td>73</td>\n",
       "      <td>1.79</td>\n",
       "      <td>292.18</td>\n",
       "    </tr>\n",
       "    <tr>\n",
       "      <th>19</th>\n",
       "      <td>Coquimbo</td>\n",
       "      <td>CL</td>\n",
       "      <td>90</td>\n",
       "      <td>-29.9533</td>\n",
       "      <td>-71.3436</td>\n",
       "      <td>94</td>\n",
       "      <td>1.54</td>\n",
       "      <td>289.15</td>\n",
       "    </tr>\n",
       "    <tr>\n",
       "      <th>...</th>\n",
       "      <td>...</td>\n",
       "      <td>...</td>\n",
       "      <td>...</td>\n",
       "      <td>...</td>\n",
       "      <td>...</td>\n",
       "      <td>...</td>\n",
       "      <td>...</td>\n",
       "      <td>...</td>\n",
       "    </tr>\n",
       "    <tr>\n",
       "      <th>583</th>\n",
       "      <td>São Félix do Xingu</td>\n",
       "      <td>BR</td>\n",
       "      <td>57</td>\n",
       "      <td>-6.6447</td>\n",
       "      <td>-51.9950</td>\n",
       "      <td>90</td>\n",
       "      <td>0.46</td>\n",
       "      <td>299.47</td>\n",
       "    </tr>\n",
       "    <tr>\n",
       "      <th>585</th>\n",
       "      <td>Poum</td>\n",
       "      <td>NC</td>\n",
       "      <td>73</td>\n",
       "      <td>-20.2333</td>\n",
       "      <td>164.0167</td>\n",
       "      <td>73</td>\n",
       "      <td>6.22</td>\n",
       "      <td>299.94</td>\n",
       "    </tr>\n",
       "    <tr>\n",
       "      <th>591</th>\n",
       "      <td>Rawson</td>\n",
       "      <td>AR</td>\n",
       "      <td>13</td>\n",
       "      <td>-43.3002</td>\n",
       "      <td>-65.1023</td>\n",
       "      <td>29</td>\n",
       "      <td>2.70</td>\n",
       "      <td>298.63</td>\n",
       "    </tr>\n",
       "    <tr>\n",
       "      <th>594</th>\n",
       "      <td>Posse</td>\n",
       "      <td>BR</td>\n",
       "      <td>100</td>\n",
       "      <td>-14.0931</td>\n",
       "      <td>-46.3694</td>\n",
       "      <td>79</td>\n",
       "      <td>1.66</td>\n",
       "      <td>296.59</td>\n",
       "    </tr>\n",
       "    <tr>\n",
       "      <th>597</th>\n",
       "      <td>Omboué</td>\n",
       "      <td>GA</td>\n",
       "      <td>44</td>\n",
       "      <td>-1.5746</td>\n",
       "      <td>9.2618</td>\n",
       "      <td>66</td>\n",
       "      <td>4.79</td>\n",
       "      <td>303.11</td>\n",
       "    </tr>\n",
       "  </tbody>\n",
       "</table>\n",
       "<p>169 rows × 8 columns</p>\n",
       "</div>"
      ],
      "text/plain": [
       "              City Name Country  Cloudiness      Lat      Long  Humidity  \\\n",
       "0                 Tuban      ID         100  -6.8976  112.0649        80   \n",
       "2           New Norfolk      AU         100 -42.7826  147.0587        72   \n",
       "9           Port Alfred      ZA           7 -33.5906   26.8910        83   \n",
       "10            Busselton      AU         100 -33.6500  115.3333        73   \n",
       "19             Coquimbo      CL          90 -29.9533  -71.3436        94   \n",
       "..                  ...     ...         ...      ...       ...       ...   \n",
       "583  São Félix do Xingu      BR          57  -6.6447  -51.9950        90   \n",
       "585                Poum      NC          73 -20.2333  164.0167        73   \n",
       "591              Rawson      AR          13 -43.3002  -65.1023        29   \n",
       "594               Posse      BR         100 -14.0931  -46.3694        79   \n",
       "597              Omboué      GA          44  -1.5746    9.2618        66   \n",
       "\n",
       "     Windspeed  Temperature  \n",
       "0         1.72       299.17  \n",
       "2         0.45       287.71  \n",
       "9         4.02       297.04  \n",
       "10        1.79       292.18  \n",
       "19        1.54       289.15  \n",
       "..         ...          ...  \n",
       "583       0.46       299.47  \n",
       "585       6.22       299.94  \n",
       "591       2.70       298.63  \n",
       "594       1.66       296.59  \n",
       "597       4.79       303.11  \n",
       "\n",
       "[169 rows x 8 columns]"
      ]
     },
     "execution_count": 36,
     "metadata": {},
     "output_type": "execute_result"
    }
   ],
   "source": [
    "southern = weather_df.loc[weather_df[\"Lat\"] < 0]\n",
    "southern\n"
   ]
  },
  {
   "cell_type": "code",
   "execution_count": 45,
   "metadata": {},
   "outputs": [],
   "source": [
    "s_latx = southern['Lat']\n",
    "s_tempy = southern ['Temperature']"
   ]
  },
  {
   "cell_type": "markdown",
   "metadata": {},
   "source": [
    "####  Southern Hemisphere - Max Temp vs. Latitude Linear Regression"
   ]
  },
  {
   "cell_type": "code",
   "execution_count": 54,
   "metadata": {},
   "outputs": [
    {
     "data": {
      "text/plain": [
       "<function matplotlib.pyplot.show(close=None, block=None)>"
      ]
     },
     "execution_count": 54,
     "metadata": {},
     "output_type": "execute_result"
    },
    {
     "data": {
      "image/png": "[encoded data removed]",
      "text/plain": [
       "<Figure size 432x288 with 1 Axes>"
      ]
     },
     "metadata": {
      "needs_background": "light"
     },
     "output_type": "display_data"
    }
   ],
   "source": [
    "plt.scatter(southern[\"Lat\"], southern[\"Temperature\"], facecolor =\"blue\")\n",
    "plt.title(f\"City Latitude vs. Temperature\")\n",
    "plt.xlabel('Latitude')\n",
    "plt.ylabel('Temperature')\n",
    "plt.grid(alpha = 0.5)\n",
    "(slope, intercept, rvalue, pvalue, stderr) = linregress(s_latx, s_tempy)\n",
    "regress_values = s_latx * slope + intercept\n",
    "line_eq = \"y = \" + str(round(slope,2)) + \"x + \" + str(round(intercept,2))\n",
    "plt.scatter(s_latx,s_tempy)\n",
    "plt.plot(s_latx,regress_values,\"r-\")\n",
    "plt.annotate(line_eq,(-30,290),fontsize=15,color=\"red\")\n",
    "plt.show\n"
   ]
  },
  {
   "cell_type": "markdown",
   "metadata": {},
   "source": [
    "####  Northern Hemisphere - Humidity (%) vs. Latitude Linear Regression"
   ]
  },
  {
   "cell_type": "code",
   "execution_count": 55,
   "metadata": {},
   "outputs": [],
   "source": [
    "n_humidx = northern['Humidity']\n",
    "n_laty = northern ['Lat']"
   ]
  },
  {
   "cell_type": "code",
   "execution_count": 64,
   "metadata": {},
   "outputs": [
    {
     "data": {
      "text/plain": [
       "<function matplotlib.pyplot.show(close=None, block=None)>"
      ]
     },
     "execution_count": 64,
     "metadata": {},
     "output_type": "execute_result"
    },
    {
     "data": {
      "image/png": "[encoded data removed]",
      "text/plain": [
       "<Figure size 432x288 with 1 Axes>"
      ]
     },
     "metadata": {
      "needs_background": "light"
     },
     "output_type": "display_data"
    }
   ],
   "source": [
    "plt.scatter(northern[\"Lat\"], northern[\"Humidity\"], facecolor =\"blue\")\n",
    "plt.title(f\"City Humidity % vs. Latitude\")\n",
    "plt.xlabel('Latitude')\n",
    "plt.ylabel('Humidity')\n",
    "plt.grid(alpha = 0.5)\n",
    "(slope, intercept, rvalue, pvalue, stderr) = linregress(n_laty,n_humidx)\n",
    "regress_values = n_laty * slope + intercept\n",
    "line_eq = \"y = \" + str(round(slope,2)) + \"x + \" + str(round(intercept,2))\n",
    "plt.scatter(n_laty,n_humidx,)\n",
    "plt.plot(n_laty,regress_values,\"r-\")\n",
    "plt.annotate(line_eq,(30,20),fontsize=15,color=\"red\")\n",
    "plt.show"
   ]
  },
  {
   "cell_type": "markdown",
   "metadata": {},
   "source": [
    "####  Southern Hemisphere - Humidity (%) vs. Latitude Linear Regression"
   ]
  },
  {
   "cell_type": "code",
   "execution_count": 75,
   "metadata": {},
   "outputs": [],
   "source": [
    "s_humidx = southern['Lat']\n",
    "s_humidy = southern['Humidity']"
   ]
  },
  {
   "cell_type": "code",
   "execution_count": 77,
   "metadata": {},
   "outputs": [
    {
     "data": {
      "text/plain": [
       "<function matplotlib.pyplot.show(close=None, block=None)>"
      ]
     },
     "execution_count": 77,
     "metadata": {},
     "output_type": "execute_result"
    },
    {
     "data": {
      "image/png": "[encoded data removed]",
      "text/plain": [
       "<Figure size 432x288 with 1 Axes>"
      ]
     },
     "metadata": {
      "needs_background": "light"
     },
     "output_type": "display_data"
    }
   ],
   "source": [
    "plt.scatter(southern[\"Lat\"], southern[\"Humidity\"], facecolor =\"blue\")\n",
    "plt.title(f\"City Humidity % vs. Latitude\")\n",
    "plt.xlabel('Latitude')\n",
    "plt.ylabel('Humidity%')\n",
    "plt.grid(alpha = 0.5)\n",
    "(slope, intercept, rvalue, pvalue, stderr) = linregress(s_humidy,s_humidx)\n",
    "regress_values = s_humidy * slope + intercept\n",
    "line_eq = \"y = \" + str(round(slope,2)) + \"x + \" + str(round(intercept,2))\n",
    "plt.scatter(s_humidy,s_humidx,)\n",
    "plt.plot(s_humidy,regress_values,\"r-\")\n",
    "plt.annotate(line_eq,(30,20),fontsize=15,color=\"red\")\n",
    "plt.show"
   ]
  },
  {
   "cell_type": "markdown",
   "metadata": {},
   "source": [
    "####  Northern Hemisphere - Cloudiness (%) vs. Latitude Linear Regression"
   ]
  },
  {
   "cell_type": "code",
   "execution_count": 65,
   "metadata": {},
   "outputs": [],
   "source": [
    "n_cloudx = northern['Cloudiness']\n",
    "n_laty = northern ['Lat']"
   ]
  },
  {
   "cell_type": "code",
   "execution_count": 66,
   "metadata": {},
   "outputs": [
    {
     "data": {
      "text/plain": [
       "<function matplotlib.pyplot.show(close=None, block=None)>"
      ]
     },
     "execution_count": 66,
     "metadata": {},
     "output_type": "execute_result"
    },
    {
     "data": {
      "image/png": "[encoded data removed]",
      "text/plain": [
       "<Figure size 432x288 with 1 Axes>"
      ]
     },
     "metadata": {
      "needs_background": "light"
     },
     "output_type": "display_data"
    }
   ],
   "source": [
    "plt.scatter(northern[\"Lat\"], northern[\"Cloudiness\"], facecolor =\"blue\")\n",
    "plt.title(f\"City Cloudiness % vs. Latitude\")\n",
    "plt.xlabel('Latitude')\n",
    "plt.ylabel('Cloudiness')\n",
    "plt.grid(alpha = 0.5)\n",
    "(slope, intercept, rvalue, pvalue, stderr) = linregress(n_laty,n_cloudx)\n",
    "regress_values = n_laty * slope + intercept\n",
    "line_eq = \"y = \" + str(round(slope,2)) + \"x + \" + str(round(intercept,2))\n",
    "plt.scatter(n_laty,n_cloudx,)\n",
    "plt.plot(n_laty,regress_values,\"r-\")\n",
    "plt.annotate(line_eq,(30,20),fontsize=15,color=\"red\")\n",
    "plt.show"
   ]
  },
  {
   "cell_type": "markdown",
   "metadata": {},
   "source": [
    "####  Southern Hemisphere - Cloudiness (%) vs. Latitude Linear Regression"
   ]
  },
  {
   "cell_type": "code",
   "execution_count": 71,
   "metadata": {},
   "outputs": [],
   "source": [
    "s_cloudy = southern['Cloudiness']\n",
    "s_laty = southern ['Lat']"
   ]
  },
  {
   "cell_type": "code",
   "execution_count": 74,
   "metadata": {},
   "outputs": [
    {
     "data": {
      "text/plain": [
       "<function matplotlib.pyplot.show(close=None, block=None)>"
      ]
     },
     "execution_count": 74,
     "metadata": {},
     "output_type": "execute_result"
    },
    {
     "data": {
      "image/png": "[encoded data removed]",
      "text/plain": [
       "<Figure size 432x288 with 1 Axes>"
      ]
     },
     "metadata": {
      "needs_background": "light"
     },
     "output_type": "display_data"
    }
   ],
   "source": [
    "plt.scatter(southern[\"Lat\"], southern[\"Cloudiness\"], facecolor =\"blue\")\n",
    "plt.title(f\"City Cloudiness % vs. Latitude\")\n",
    "plt.xlabel('Cloudiness')\n",
    "plt.ylabel('Humidity')\n",
    "plt.grid(alpha = 0.5)\n",
    "(slope, intercept, rvalue, pvalue, stderr) = linregress(s_laty,s_cloudy)\n",
    "regress_values = s_laty * slope + intercept\n",
    "line_eq = \"y = \" + str(round(slope,2)) + \"x + \" + str(round(intercept,2))\n",
    "plt.scatter(s_laty,s_cloudy,)\n",
    "plt.plot(s_laty,regress_values,\"r-\")\n",
    "plt.annotate(line_eq,(-30,20),fontsize=15,color=\"red\")\n",
    "plt.show"
   ]
  },
  {
   "cell_type": "markdown",
   "metadata": {},
   "source": [
    "####  Northern Hemisphere - Wind Speed (mph) vs. Latitude Linear Regression"
   ]
  },
  {
   "cell_type": "code",
   "execution_count": 78,
   "metadata": {},
   "outputs": [],
   "source": [
    "n_windx = northern['Windspeed']\n",
    "n_laty = northern ['Lat']"
   ]
  },
  {
   "cell_type": "code",
   "execution_count": 79,
   "metadata": {},
   "outputs": [
    {
     "data": {
      "text/plain": [
       "<function matplotlib.pyplot.show(close=None, block=None)>"
      ]
     },
     "execution_count": 79,
     "metadata": {},
     "output_type": "execute_result"
    },
    {
     "data": {
      "image/png": "[encoded data removed]",
      "text/plain": [
       "<Figure size 432x288 with 1 Axes>"
      ]
     },
     "metadata": {
      "needs_background": "light"
     },
     "output_type": "display_data"
    }
   ],
   "source": [
    "plt.scatter(northern[\"Lat\"], northern[\"Windspeed\"], facecolor =\"blue\")\n",
    "plt.title(f\"City Humidity % vs. Latitude\")\n",
    "plt.xlabel('Latitude')\n",
    "plt.ylabel('Windspeed Mph')\n",
    "plt.grid(alpha = 0.5)\n",
    "(slope, intercept, rvalue, pvalue, stderr) = linregress(n_laty,n_windx)\n",
    "regress_values = n_laty * slope + intercept\n",
    "line_eq = \"y = \" + str(round(slope,2)) + \"x + \" + str(round(intercept,2))\n",
    "plt.scatter(n_laty,n_windx,)\n",
    "plt.plot(n_laty,regress_values,\"r-\")\n",
    "plt.annotate(line_eq,(30,20),fontsize=15,color=\"red\")\n",
    "plt.show"
   ]
  },
  {
   "cell_type": "markdown",
   "metadata": {},
   "source": [
    "####  Southern Hemisphere - Wind Speed (mph) vs. Latitude Linear Regression"
   ]
  },
  {
   "cell_type": "code",
   "execution_count": null,
   "metadata": {},
   "outputs": [],
   "source": []
  },
  {
   "cell_type": "code",
   "execution_count": null,
   "metadata": {},
   "outputs": [],
   "source": []
  },
  {
   "cell_type": "code",
   "execution_count": null,
   "metadata": {},
   "outputs": [],
   "source": []
  },
  {
   "cell_type": "code",
   "execution_count": null,
   "metadata": {},
   "outputs": [],
   "source": []
  }
 ],
 "metadata": {
  "anaconda-cloud": {},
  "kernel_info": {
   "name": "python3"
  },
  "kernelspec": {
   "display_name": "Python 3",
   "language": "python",
   "name": "python3"
  },
  "language_info": {
   "codemirror_mode": {
    "name": "ipython",
    "version": 3
   },
   "file_extension": ".py",
   "mimetype": "text/x-python",
   "name": "python",
   "nbconvert_exporter": "python",
   "pygments_lexer": "ipython3",
   "version": "3.8.5"
  },
  "latex_envs": {
   "LaTeX_envs_menu_present": true,
   "autoclose": false,
   "autocomplete": true,
   "bibliofile": "biblio.bib",
   "cite_by": "apalike",
   "current_citInitial": 1,
   "eqLabelWithNumbers": true,
   "eqNumInitial": 1,
   "hotkeys": {
    "equation": "Ctrl-E",
    "itemize": "Ctrl-I"
   },
   "labels_anchors": false,
   "latex_user_defs": false,
   "report_style_numbering": false,
   "user_envs_cfg": false
  },
  "nteract": {
   "version": "0.12.3"
  }
 },
 "nbformat": 4,
 "nbformat_minor": 2
}
