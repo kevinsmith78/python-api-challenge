{
 "cells": [
  {
   "cell_type": "markdown",
   "metadata": {},
   "source": [
    "# WeatherPy\n",
    "----\n",
    "\n",
    "#### Note\n",
    "* Instructions have been included for each segment. You do not have to follow them exactly, but they are included to help you think through the steps."
   ]
  },
  {
   "cell_type": "code",
   "execution_count": 1,
   "metadata": {
    "scrolled": false
   },
   "outputs": [
    {
     "data": {
      "text/plain": [
       "'1bce4c0df3b2293dfc66e783f97126f9'"
      ]
     },
     "execution_count": 1,
     "metadata": {},
     "output_type": "execute_result"
    }
   ],
   "source": [
    "# Dependencies and Setup\n",
    "import matplotlib.pyplot as plt\n",
    "import pandas as pd\n",
    "import numpy as np\n",
    "import requests\n",
    "import time\n",
    "import scipy.stats as st\n",
    "\n",
    "# Import API key\n",
    "from api_keys import weather_api_key\n",
    "\n",
    "# Incorporated citipy to determine city based on latitude and longitude\n",
    "from citipy import citipy\n",
    "\n",
    "# Output File (CSV)\n",
    "output_data_file = \"output_data/cities.csv\"\n",
    "\n",
    "# Range of latitudes and longitudes\n",
    "lat_range = (-90, 90)\n",
    "lng_range = (-180, 180)\n",
    "weather_api_key"
   ]
  },
  {
   "cell_type": "markdown",
   "metadata": {},
   "source": [
    "## Generate Cities List"
   ]
  },
  {
   "cell_type": "code",
   "execution_count": 2,
   "metadata": {},
   "outputs": [
    {
     "data": {
      "text/plain": [
       "595"
      ]
     },
     "execution_count": 2,
     "metadata": {},
     "output_type": "execute_result"
    }
   ],
   "source": [
    "# List for holding lat_lngs and cities\n",
    "lat_lngs = []\n",
    "cities = []\n",
    "\n",
    "# Create a set of random lat and lng combinations\n",
    "lats = np.random.uniform(low=-90.000, high=90.000, size=1500)\n",
    "lngs = np.random.uniform(low=-180.000, high=180.000, size=1500)\n",
    "lat_lngs = zip(lats, lngs)\n",
    "\n",
    "# Identify nearest city for each lat, lng combination\n",
    "for lat_lng in lat_lngs:\n",
    "    city = citipy.nearest_city(lat_lng[0], lat_lng[1]).city_name\n",
    "    \n",
    "    # If the city is unique, then add it to a our cities list\n",
    "    if city not in cities:\n",
    "        cities.append(city)\n",
    "\n",
    "# Print the city count to confirm sufficient count\n",
    "len(cities)"
   ]
  },
  {
   "cell_type": "code",
   "execution_count": 3,
   "metadata": {},
   "outputs": [],
   "source": [
    "#URL and Units\n",
    "weather_url = \"http://api.openweathermap.org/data/2.5/weather?\"\n",
    "units =\"imperial\""
   ]
  },
  {
   "cell_type": "markdown",
   "metadata": {},
   "source": [
    "### Perform API Calls\n",
    "* Perform a weather check on each city using a series of successive API calls.\n",
    "* Include a print log of each city as it'sbeing processed (with the city number and city name).\n"
   ]
  },
  {
   "cell_type": "code",
   "execution_count": 27,
   "metadata": {
    "scrolled": true
   },
   "outputs": [
    {
     "data": {
      "text/plain": [
       "'http://api.openweathermap.org/data/2.5/weather?appid=1bce4c0df3b2293dfc66e783f97126f9&q=myitkyina'"
      ]
     },
     "execution_count": 27,
     "metadata": {},
     "output_type": "execute_result"
    }
   ],
   "source": [
    "query_url = weather_url + \"appid=\" + weather_api_key + \"&q=\" + city\n",
    "query_url"
   ]
  },
  {
   "cell_type": "code",
   "execution_count": 18,
   "metadata": {
    "scrolled": true
   },
   "outputs": [
    {
     "name": "stdout",
     "output_type": "stream",
     "text": [
      "{'base': 'stations',\n",
      " 'clouds': {'all': 0},\n",
      " 'cod': 200,\n",
      " 'coord': {'lat': 22.6783, 'lon': -3.9836},\n",
      " 'dt': 1614441833,\n",
      " 'id': 2450173,\n",
      " 'main': {'feels_like': 78.58,\n",
      "          'grnd_level': 993,\n",
      "          'humidity': 12,\n",
      "          'pressure': 1008,\n",
      "          'sea_level': 1008,\n",
      "          'temp': 85.35,\n",
      "          'temp_max': 85.35,\n",
      "          'temp_min': 85.35},\n",
      " 'name': 'Taoudenni',\n",
      " 'sys': {'country': 'ML', 'sunrise': 1614407945, 'sunset': 1614449913},\n",
      " 'timezone': 0,\n",
      " 'visibility': 10000,\n",
      " 'weather': [{'description': 'clear sky',\n",
      "              'icon': '01d',\n",
      "              'id': 800,\n",
      "              'main': 'Clear'}],\n",
      " 'wind': {'deg': 239, 'speed': 4.47}}\n"
     ]
    }
   ],
   "source": [
    "example = cities[0]\n",
    "test_url = query_url + example\n",
    "test_response = requests.get (test_url).json()\n",
    "from pprint import pprint\n",
    "pprint(test_response)"
   ]
  },
  {
   "cell_type": "code",
   "execution_count": 19,
   "metadata": {},
   "outputs": [
    {
     "data": {
      "text/html": [
       "<div>\n",
       "<style scoped>\n",
       "    .dataframe tbody tr th:only-of-type {\n",
       "        vertical-align: middle;\n",
       "    }\n",
       "\n",
       "    .dataframe tbody tr th {\n",
       "        vertical-align: top;\n",
       "    }\n",
       "\n",
       "    .dataframe thead th {\n",
       "        text-align: right;\n",
       "    }\n",
       "</style>\n",
       "<table border=\"1\" class=\"dataframe\">\n",
       "  <thead>\n",
       "    <tr style=\"text-align: right;\">\n",
       "      <th></th>\n",
       "      <th>City</th>\n",
       "    </tr>\n",
       "  </thead>\n",
       "  <tbody>\n",
       "    <tr>\n",
       "      <th>0</th>\n",
       "      <td>taoudenni</td>\n",
       "    </tr>\n",
       "    <tr>\n",
       "      <th>1</th>\n",
       "      <td>punta arenas</td>\n",
       "    </tr>\n",
       "    <tr>\n",
       "      <th>2</th>\n",
       "      <td>camargo</td>\n",
       "    </tr>\n",
       "    <tr>\n",
       "      <th>3</th>\n",
       "      <td>nome</td>\n",
       "    </tr>\n",
       "    <tr>\n",
       "      <th>4</th>\n",
       "      <td>constitucion</td>\n",
       "    </tr>\n",
       "  </tbody>\n",
       "</table>\n",
       "</div>"
      ],
      "text/plain": [
       "           City\n",
       "0     taoudenni\n",
       "1  punta arenas\n",
       "2       camargo\n",
       "3          nome\n",
       "4  constitucion"
      ]
     },
     "execution_count": 19,
     "metadata": {},
     "output_type": "execute_result"
    }
   ],
   "source": [
    "cities_df = pd.DataFrame({\"City\": cities})\n",
    "cities_df. head()"
   ]
  },
  {
   "cell_type": "code",
   "execution_count": 49,
   "metadata": {},
   "outputs": [
    {
     "name": "stdout",
     "output_type": "stream",
     "text": [
      "Beginning Data Retrival\n",
      "-------------------------\n",
      "Processing record 1 | Taoudenni\n",
      "Processing record 2 | Punta Arenas\n",
      "Processing record 3 | Camargo\n",
      "Processing record 4 | Nome\n",
      "Processing record 5 | Constitución\n",
      "Processing record 6 | Dikson\n",
      "Processing record 7 | Ust-Nera\n",
      "Processing record 8 | Norsup\n",
      "Processing record 9 | Ushuaia\n",
      "Processing record 10 | Tual\n",
      "Processing record 11 | Cape Town\n",
      "Processing record 12 | Fairbanks\n",
      "City Not found, Skipping.....\n",
      "Processing record 13 | Saldanha\n",
      "Processing record 14 | Kalininsk\n",
      "City Not found, Skipping.....\n",
      "Processing record 15 | Castro\n",
      "Processing record 16 | Lethem\n",
      "Processing record 17 | Longyearbyen\n",
      "Processing record 18 | Butaritari\n",
      "Processing record 19 | Xining\n",
      "Processing record 20 | Laas\n",
      "Processing record 21 | East London\n",
      "Processing record 22 | Hobart\n",
      "Processing record 23 | Hilo\n",
      "Processing record 24 | New Norfolk\n",
      "Processing record 25 | Sisimiut\n",
      "City Not found, Skipping.....\n",
      "Processing record 26 | Lata\n",
      "City Not found, Skipping.....\n",
      "Processing record 27 | Avarua\n",
      "Processing record 28 | São Gabriel da Cachoeira\n",
      "Processing record 29 | Touros\n",
      "Processing record 30 | Rikitea\n",
      "Processing record 31 | Qui Nhon\n",
      "Processing record 32 | Port Alfred\n",
      "Processing record 33 | Puerto Baquerizo Moreno\n",
      "Processing record 34 | Ulladulla\n",
      "Processing record 35 | Zhetysay\n",
      "Processing record 36 | Mazyr\n",
      "Processing record 37 | Lagoa\n",
      "Processing record 38 | Provideniya\n",
      "Processing record 39 | Arman'\n",
      "Processing record 40 | Jamestown\n",
      "Processing record 41 | Mataura\n",
      "Processing record 42 | Honningsvåg\n",
      "Processing record 43 | Swift Current\n",
      "Processing record 44 | Esperance\n",
      "City Not found, Skipping.....\n",
      "City Not found, Skipping.....\n",
      "Processing record 45 | Santa Quitéria\n",
      "Processing record 46 | Omboué\n",
      "Processing record 47 | Kapaa\n",
      "Processing record 48 | Torbay\n",
      "City Not found, Skipping.....\n",
      "Processing record 49 | Saskylakh\n",
      "Processing record 50 | Quatre Cocos\n",
      "Processing record 51 | Kedrovyy\n",
      "Processing record 52 | Busselton\n",
      "Processing record 53 | Tolbazy\n",
      "Processing record 54 | Vao\n",
      "Processing record 55 | Arraial do Cabo\n",
      "Processing record 56 | Chokurdakh\n",
      "Processing record 57 | Hermanus\n",
      "City Not found, Skipping.....\n",
      "Processing record 58 | Monchegorsk\n",
      "Processing record 59 | Yellowknife\n",
      "Processing record 60 | Half Moon Bay\n",
      "Processing record 61 | Albany\n",
      "Processing record 62 | Hay River\n",
      "Processing record 63 | Mehamn\n",
      "Processing record 64 | Puerto Ayora\n",
      "Processing record 65 | Caravelas\n",
      "Processing record 66 | Kiama\n",
      "Processing record 67 | Mogadishu\n",
      "Processing record 68 | Vaini\n",
      "Processing record 69 | Jasper\n",
      "City Not found, Skipping.....\n",
      "Processing record 70 | Maungatapere\n",
      "Processing record 71 | Meulaboh\n",
      "Processing record 72 | Ritto\n",
      "City Not found, Skipping.....\n",
      "Processing record 73 | Araçatuba\n",
      "Processing record 74 | Powell River\n",
      "Processing record 75 | Port Elizabeth\n",
      "Processing record 76 | Shingū\n",
      "Processing record 77 | Rongcheng\n",
      "Processing record 78 | Salalah\n",
      "Processing record 79 | Mastic Beach\n",
      "City Not found, Skipping.....\n",
      "Processing record 80 | Erzurum Province\n",
      "Processing record 81 | Ovsyanka\n",
      "Processing record 82 | Terrace\n",
      "Processing record 83 | Porto-Novo\n",
      "Processing record 84 | Dombås\n",
      "Processing record 85 | Zeya\n",
      "Processing record 86 | Cherskiy\n",
      "Processing record 87 | Esim\n",
      "Processing record 88 | Coquimbo\n",
      "Processing record 89 | Lebu\n",
      "Processing record 90 | Qaanaaq\n",
      "Processing record 91 | Khatanga\n",
      "Processing record 92 | Rawson\n",
      "Processing record 93 | São João da Barra\n",
      "Processing record 94 | Barkhan\n",
      "Processing record 95 | Poddor'ye\n",
      "Processing record 96 | Clyde River\n",
      "Processing record 97 | Vestmannaeyjar\n",
      "City Not found, Skipping.....\n",
      "Processing record 98 | Lavrentiya\n",
      "Processing record 99 | Hithadhoo\n",
      "City Not found, Skipping.....\n",
      "Processing record 100 | Saint-Augustin\n",
      "Processing record 101 | Hervey Bay\n",
      "City Not found, Skipping.....\n",
      "Processing record 102 | Rehoboth\n",
      "City Not found, Skipping.....\n",
      "Processing record 103 | Narsaq\n",
      "Processing record 104 | Gijang\n",
      "Processing record 105 | Portland\n",
      "Processing record 106 | Cross Lanes\n",
      "Processing record 107 | San Rafael\n",
      "Processing record 108 | Inverness\n",
      "Processing record 109 | Kahului\n",
      "Processing record 110 | Batagay\n",
      "Processing record 111 | Khandyga\n",
      "Processing record 112 | Amapá\n",
      "Processing record 113 | Mahébourg\n",
      "Processing record 114 | Necochea\n",
      "Processing record 115 | Port Blair\n",
      "Processing record 116 | Kerrville\n",
      "Processing record 117 | Balkhash\n",
      "Processing record 118 | Pacific Grove\n",
      "Processing record 119 | Srednekolymsk\n",
      "Processing record 120 | Potiskum\n",
      "Processing record 121 | Arica\n",
      "Processing record 122 | Majene\n",
      "Processing record 123 | Bredasdorp\n",
      "City Not found, Skipping.....\n",
      "Processing record 124 | Lüderitz\n",
      "Processing record 125 | Kumul\n",
      "Processing record 126 | Nikolskoye\n",
      "Processing record 127 | Nagato\n",
      "City Not found, Skipping.....\n",
      "Processing record 128 | Saint Paul Harbor\n",
      "Processing record 129 | Guerrero Negro\n",
      "Processing record 130 | Chicama\n",
      "Processing record 131 | Korsakov\n",
      "Processing record 132 | Barrow\n",
      "Processing record 133 | Fortuna\n",
      "Processing record 134 | San Luis\n",
      "Processing record 135 | Aklavik\n",
      "Processing record 136 | Kawalu\n",
      "Processing record 137 | Karratha\n",
      "Processing record 138 | Paamiut\n",
      "Processing record 139 | Saint-Philippe\n",
      "Processing record 140 | Bluff\n",
      "Processing record 141 | Chimbote\n",
      "Processing record 142 | Tura\n",
      "Processing record 143 | Okhotsk\n",
      "Processing record 144 | Russell\n",
      "Processing record 145 | Batī\n",
      "Processing record 146 | Qena\n",
      "Processing record 147 | Korla\n",
      "Processing record 148 | Itapirapuã\n",
      "Processing record 149 | Cabo San Lucas\n",
      "Processing record 150 | Nanortalik\n",
      "Processing record 151 | Vanimo\n",
      "Processing record 152 | Tavda\n",
      "Processing record 153 | Sur\n",
      "Processing record 154 | Ostrovnoy\n",
      "Processing record 155 | Hearst\n",
      "Processing record 156 | Isangel\n",
      "Processing record 157 | Ramotswa\n",
      "Processing record 158 | Hasaki\n",
      "Processing record 159 | Mar del Plata\n",
      "Processing record 160 | Pevek\n",
      "Processing record 161 | Taku\n",
      "Processing record 162 | Ribeira Grande\n",
      "Processing record 163 | Shahe\n",
      "City Not found, Skipping.....\n",
      "Processing record 164 | Zaysan\n",
      "Processing record 165 | Nālūt\n",
      "Processing record 166 | Kushiro\n",
      "Processing record 167 | Dingle\n",
      "Processing record 168 | Launceston\n",
      "Processing record 169 | Saint George\n",
      "Processing record 170 | Hurricane\n",
      "Processing record 171 | Sibolga\n",
      "Processing record 172 | Kastamonu Province\n",
      "Processing record 173 | Chebsara\n",
      "Processing record 174 | Kamenka\n",
      "Processing record 175 | Rocha\n",
      "Processing record 176 | Algiers\n",
      "Processing record 177 | Komatipoort\n",
      "Processing record 178 | Atuona\n",
      "Processing record 179 | Tiksi\n",
      "Processing record 180 | Cayenne\n",
      "Processing record 181 | Fort Nelson\n",
      "Processing record 182 | Tuktoyaktuk\n",
      "Processing record 183 | Kysyl-Syr\n",
      "Processing record 184 | Kasongo-Lunda\n",
      "Processing record 185 | Trnava\n",
      "Processing record 186 | Palmer\n",
      "Processing record 187 | Pailón\n",
      "Processing record 188 | Washougal\n",
      "Processing record 189 | Kavaratti\n",
      "Processing record 190 | Bambanglipuro\n",
      "Processing record 191 | Thinadhoo\n",
      "Processing record 192 | Cardoso\n",
      "City Not found, Skipping.....\n",
      "Processing record 193 | Rio Grande\n",
      "City Not found, Skipping.....\n",
      "Processing record 194 | Tsimlyansk\n",
      "Processing record 195 | Paciran\n",
      "City Not found, Skipping.....\n",
      "Processing record 196 | Elko\n",
      "Processing record 197 | Galiākot\n",
      "Processing record 198 | Vredendal\n",
      "Processing record 199 | Asău\n",
      "Processing record 200 | Luís Correia\n",
      "Processing record 201 | Bukachacha\n",
      "Processing record 202 | Vila\n",
      "Processing record 203 | Grand Gaube\n",
      "Processing record 204 | Thompson\n",
      "Processing record 205 | San Patricio\n",
      "Processing record 206 | Saint-Joseph\n",
      "Processing record 207 | Road Town\n",
      "Processing record 208 | Siljan\n",
      "Processing record 209 | George Town\n",
      "Processing record 210 | Gizo Government Station\n",
      "Processing record 211 | Kazanskaya\n",
      "Processing record 212 | College\n",
      "Processing record 213 | Upernavik\n",
      "Processing record 214 | São Filipe\n",
      "Processing record 215 | Bethel\n",
      "Processing record 216 | Pisco\n",
      "City Not found, Skipping.....\n",
      "Processing record 217 | Husavik\n",
      "Processing record 218 | Sinnamary\n",
      "Processing record 219 | Itanagar\n",
      "Processing record 220 | Turukhansk\n",
      "Processing record 221 | Airai\n",
      "Processing record 222 | Bahía Honda\n",
      "Processing record 223 | Ambilobe\n",
      "Processing record 224 | Emerald\n",
      "Processing record 225 | Kirakira\n",
      "Processing record 226 | Normandin\n",
      "Processing record 227 | Santa Marta\n",
      "Processing record 228 | Sept-Îles\n"
     ]
    },
    {
     "name": "stdout",
     "output_type": "stream",
     "text": [
      "Processing record 229 | Kruisfontein\n",
      "Processing record 230 | Kinel’-Cherkassy\n",
      "Processing record 231 | Lahaina\n",
      "Processing record 232 | Uruaçu\n",
      "Processing record 233 | Tuatapere\n",
      "Processing record 234 | Tambovka\n",
      "Processing record 235 | Vilyuysk\n",
      "Processing record 236 | Dunedin\n",
      "City Not found, Skipping.....\n",
      "Processing record 237 | Siocon\n",
      "Processing record 238 | Bolobo\n",
      "Processing record 239 | Ponta do Sol\n",
      "Processing record 240 | Redcliffe\n",
      "Processing record 241 | Rome\n",
      "Processing record 242 | Tuy Hoa\n",
      "Processing record 243 | Severo-Kuril'sk\n",
      "Processing record 244 | Rock Springs\n",
      "Processing record 245 | Araouane\n",
      "Processing record 246 | Faanui\n",
      "Processing record 247 | Kaitangata\n",
      "Processing record 248 | Aswān\n",
      "Processing record 249 | Likasi\n",
      "Processing record 250 | Oussouye\n",
      "Processing record 251 | Tasiilaq\n",
      "City Not found, Skipping.....\n",
      "Processing record 252 | Vila Franca do Campo\n",
      "Processing record 253 | Lompoc\n",
      "City Not found, Skipping.....\n",
      "Processing record 254 | La Rioja\n",
      "Processing record 255 | Sol'-Iletsk\n",
      "Processing record 256 | Lagoa da Prata\n",
      "Processing record 257 | Collie\n",
      "Processing record 258 | Ozernovskiy\n",
      "City Not found, Skipping.....\n",
      "Processing record 259 | Sola\n",
      "Processing record 260 | Chui\n",
      "Processing record 261 | Daura\n",
      "Processing record 262 | Hong Kong\n",
      "Processing record 263 | Luganville\n",
      "Processing record 264 | Talnakh\n",
      "Processing record 265 | Kavieng\n",
      "Processing record 266 | Novobirilyussy\n",
      "Processing record 267 | Nishihara\n",
      "Processing record 268 | Oddur\n",
      "Processing record 269 | East Cleveland\n",
      "Processing record 270 | General Roca\n",
      "Processing record 271 | Beyneu\n",
      "City Not found, Skipping.....\n",
      "Processing record 272 | Bengkulu\n",
      "Processing record 273 | Viedma\n",
      "Processing record 274 | Jūrmala\n",
      "Processing record 275 | Mabaruma\n",
      "Processing record 276 | Vallenar\n",
      "Processing record 277 | Zhigansk\n",
      "City Not found, Skipping.....\n",
      "Processing record 278 | Ballina\n",
      "Processing record 279 | Strängnäs\n",
      "Processing record 280 | Havøysund\n",
      "Processing record 281 | Santa Vitória do Palmar\n",
      "City Not found, Skipping.....\n",
      "Processing record 282 | Beya\n",
      "Processing record 283 | Margherita\n",
      "Processing record 284 | Sitka\n",
      "Processing record 285 | Numan\n",
      "Processing record 286 | Muros\n",
      "Processing record 287 | Minuri\n",
      "Processing record 288 | Zatoka\n",
      "Processing record 289 | Los Llanos de Aridane\n",
      "Processing record 290 | Nampula\n",
      "Processing record 291 | São Paulo de Olivença\n",
      "Processing record 292 | Klaksvík\n",
      "Processing record 293 | Visby\n",
      "Processing record 294 | Mahon\n",
      "Processing record 295 | Feldkirchen\n",
      "Processing record 296 | Bratsk\n",
      "Processing record 297 | Alta Floresta\n",
      "Processing record 298 | Naze\n",
      "Processing record 299 | Tikhvin\n",
      "Processing record 300 | Margate\n",
      "City Not found, Skipping.....\n",
      "Processing record 301 | Tupik\n",
      "Processing record 302 | Ust-Tsilma\n",
      "Processing record 303 | Anadyr\n",
      "City Not found, Skipping.....\n",
      "Processing record 304 | Buala\n",
      "Processing record 305 | Gambo\n",
      "Processing record 306 | Marsala\n",
      "Processing record 307 | Micoud\n",
      "Processing record 308 | Lavaca\n",
      "Processing record 309 | Guangyuan\n",
      "Processing record 310 | Kirs\n",
      "Processing record 311 | Yichang\n",
      "Processing record 312 | Iqaluit\n",
      "Processing record 313 | Witu\n",
      "Processing record 314 | Manta\n",
      "City Not found, Skipping.....\n",
      "Processing record 315 | Ulaangom\n",
      "Processing record 316 | Yulara\n",
      "Processing record 317 | Avilés\n",
      "Processing record 318 | Sambava\n",
      "Processing record 319 | Paris\n",
      "City Not found, Skipping.....\n",
      "Processing record 320 | Murgab\n",
      "Processing record 321 | Lima Duarte\n",
      "Processing record 322 | Broome\n",
      "City Not found, Skipping.....\n",
      "Processing record 323 | Staryy Nadym\n",
      "Processing record 324 | Grindavik\n",
      "Processing record 325 | Saint-Pierre\n",
      "Processing record 326 | Victoria Point\n",
      "Processing record 327 | Salinas\n",
      "Processing record 328 | Belle Fourche\n",
      "Processing record 329 | Kodinsk\n",
      "Processing record 330 | Navolato\n",
      "Processing record 331 | Turangi\n",
      "Processing record 332 | Belaya Gora\n",
      "Processing record 333 | Te Anau\n",
      "Processing record 334 | Bad Windsheim\n",
      "Processing record 335 | Nizwá\n",
      "Processing record 336 | Serowe\n",
      "Processing record 337 | Arroyo de la Encomienda\n",
      "Processing record 338 | La Seyne-sur-Mer\n",
      "Processing record 339 | São Félix do Xingu\n",
      "Processing record 340 | Praia da Vitória\n",
      "Processing record 341 | Camabatela\n",
      "Processing record 342 | Acajutla\n",
      "Processing record 343 | Chimichagua\n",
      "Processing record 344 | Kashgar\n",
      "Processing record 345 | Sidi Ali\n",
      "Processing record 346 | Chihuahua\n",
      "Processing record 347 | Cabra\n",
      "Processing record 348 | Daru\n",
      "Processing record 349 | Coyhaique\n",
      "Processing record 350 | Isiro\n",
      "Processing record 351 | Aranos\n",
      "Processing record 352 | Salekhard\n",
      "Processing record 353 | Nizhniy Tsasuchey\n",
      "Processing record 354 | Calvinia\n",
      "Processing record 355 | Marabu\n",
      "Processing record 356 | Egvekinot\n",
      "Processing record 357 | Marijampolė\n",
      "Processing record 358 | Balaipungut\n",
      "Processing record 359 | Poum\n",
      "Processing record 360 | Río Gallegos\n",
      "Processing record 361 | Timrå\n",
      "Processing record 362 | Bambous Virieux\n",
      "Processing record 363 | Codrington\n",
      "Processing record 364 | Padang\n",
      "Processing record 365 | Alofi\n",
      "Processing record 366 | Mtinko\n",
      "Processing record 367 | The Valley\n",
      "Processing record 368 | Aleksandrovskoye\n",
      "Processing record 369 | Manche\n",
      "Processing record 370 | Moerai\n",
      "Processing record 371 | Esmeraldas\n",
      "Processing record 372 | Kropotkin\n",
      "Processing record 373 | Auki\n",
      "Processing record 374 | Krasnosel'kup\n",
      "Processing record 375 | Menongue\n",
      "Processing record 376 | Haines Junction\n",
      "Processing record 377 | San Cristobal\n",
      "Processing record 378 | Kuala Terengganu\n",
      "Processing record 379 | Moose Factory\n",
      "Processing record 380 | Somerset\n",
      "Processing record 381 | Abong Mbang\n",
      "Processing record 382 | Inuvik\n",
      "Processing record 383 | Wanaka\n",
      "Processing record 384 | Kūhdasht\n",
      "Processing record 385 | Tame\n",
      "Processing record 386 | Antofagasta\n",
      "Processing record 387 | Palauig\n",
      "Processing record 388 | Hecelchakán\n",
      "Processing record 389 | Mackay\n",
      "Processing record 390 | Leningradskiy\n",
      "Processing record 391 | Laguna\n",
      "Processing record 392 | Benguela\n",
      "Processing record 393 | Aykhal\n",
      "Processing record 394 | Katobu\n",
      "Processing record 395 | Skagen\n",
      "Processing record 396 | Ossora\n",
      "Processing record 397 | Hualmay\n",
      "Processing record 398 | Grand Forks\n",
      "Processing record 399 | Flinders\n",
      "Processing record 400 | Jalu\n",
      "Processing record 401 | Gerāsh\n",
      "Processing record 402 | Cidreira\n",
      "Processing record 403 | Jizan\n",
      "Processing record 404 | Lubumbashi\n",
      "Processing record 405 | Mount Isa\n",
      "Processing record 406 | Nabire\n",
      "Processing record 407 | Tiarei\n",
      "Processing record 408 | Giroc\n",
      "City Not found, Skipping.....\n",
      "Processing record 409 | Pontianak\n",
      "Processing record 410 | Toamasina\n",
      "Processing record 411 | Kazanka\n",
      "Processing record 412 | Kuching\n",
      "Processing record 413 | Tsiroanomandidy\n",
      "Processing record 414 | Prince Rupert\n",
      "Processing record 415 | Umeå\n",
      "Processing record 416 | Moroto\n",
      "Processing record 417 | Wanning\n",
      "Processing record 418 | Qaqortoq\n",
      "Processing record 419 | Āgaro\n",
      "Processing record 420 | Cocachacra\n",
      "Processing record 421 | Lorengau\n",
      "Processing record 422 | Galanta\n",
      "Processing record 423 | Norman Wells\n",
      "Processing record 424 | Eidsvåg\n",
      "Processing record 425 | Lago da Pedra\n",
      "Processing record 426 | Kiryat Gat\n",
      "Processing record 427 | Sadova\n",
      "Processing record 428 | Departamento de Maldonado\n",
      "Processing record 429 | Olafsvik\n",
      "Processing record 430 | Madison\n",
      "Processing record 431 | Terrenate\n",
      "Processing record 432 | Eyl\n",
      "Processing record 433 | Maniitsoq\n",
      "Processing record 434 | Huarmey\n",
      "Processing record 435 | Acapulco de Juárez\n",
      "Processing record 436 | Ambulu\n",
      "Processing record 437 | Strezhevoy\n",
      "Processing record 438 | Pierre\n",
      "Processing record 439 | Ila\n",
      "Processing record 440 | Kungurtug\n",
      "Processing record 441 | Westport\n",
      "Processing record 442 | Namatanai\n",
      "Processing record 443 | Shimoda\n",
      "Processing record 444 | Ugoofaaru\n",
      "City Not found, Skipping.....\n",
      "Processing record 445 | Tabou\n",
      "Processing record 446 | High Level\n",
      "Processing record 447 | Nivala\n",
      "Processing record 448 | Garoowe\n",
      "Processing record 449 | Beira\n",
      "Processing record 450 | Colesberg\n",
      "Processing record 451 | Anori\n",
      "Processing record 452 | Pervomays'k\n",
      "Processing record 453 | Mbour\n",
      "Processing record 454 | Takoradze\n",
      "City Not found, Skipping.....\n",
      "Processing record 455 | Vostok\n",
      "Processing record 456 | Beloha\n",
      "Processing record 457 | Nortelândia\n",
      "Processing record 458 | Grandview\n",
      "Processing record 459 | Jiuquan\n",
      "Processing record 460 | Panacan\n",
      "Processing record 461 | Kununurra\n"
     ]
    },
    {
     "name": "stdout",
     "output_type": "stream",
     "text": [
      "Processing record 462 | Grand-Lahou\n",
      "Processing record 463 | Vardø\n",
      "Processing record 464 | Akbarpur\n",
      "Processing record 465 | Coahuayana Viejo\n",
      "Processing record 466 | Srandakan\n",
      "Processing record 467 | Yumen\n",
      "Processing record 468 | Kalat\n",
      "Processing record 469 | Verkhnedneprovskiy\n",
      "Processing record 470 | Malia\n",
      "Processing record 471 | Wenling\n",
      "Processing record 472 | Balakhta\n",
      "Processing record 473 | Ambon City\n",
      "Processing record 474 | Noumea\n",
      "Processing record 475 | Moultrie\n",
      "Processing record 476 | Hambantota\n",
      "Processing record 477 | Mēga\n",
      "Processing record 478 | Grand Island\n",
      "Processing record 479 | Tautira\n",
      "Processing record 480 | Assiut\n",
      "Processing record 481 | Gao\n",
      "Processing record 482 | Huron\n",
      "Processing record 483 | Salinópolis\n",
      "Processing record 484 | Port Lincoln\n",
      "Processing record 485 | Buraidah\n",
      "Processing record 486 | Schroeder\n",
      "Processing record 487 | Yazman\n",
      "Processing record 488 | Ucluelet\n",
      "Processing record 489 | Haifa\n",
      "Processing record 490 | Tumbes\n",
      "Processing record 491 | Portage\n",
      "Processing record 492 | Barcelos\n",
      "Processing record 493 | Penzance\n",
      "Processing record 494 | Matara\n",
      "Processing record 495 | Makakilo City\n",
      "Processing record 496 | Bandarbeyla\n",
      "Processing record 497 | Alyangula\n",
      "City Not found, Skipping.....\n",
      "Processing record 498 | Muli\n",
      "Processing record 499 | Yaguajay\n",
      "Processing record 500 | Brawley\n",
      "City Not found, Skipping.....\n",
      "Processing record 501 | Sittwe\n",
      "Processing record 502 | Along\n",
      "City Not found, Skipping.....\n",
      "Processing record 503 | Nevel'sk\n",
      "Processing record 504 | Ancud\n",
      "Processing record 505 | Sosnovka\n",
      "Processing record 506 | Santiago del Estero\n",
      "Processing record 507 | Hondomachi-hondo\n",
      "Processing record 508 | Alice\n",
      "Processing record 509 | Rožňava\n",
      "Processing record 510 | Carnarvon\n",
      "Processing record 511 | Ekhabi\n",
      "Processing record 512 | Deep River\n",
      "Processing record 513 | Storsteinnes\n",
      "Processing record 514 | Tarko-Sale\n",
      "City Not found, Skipping.....\n",
      "Processing record 515 | Ermelo\n",
      "Processing record 516 | Matamoros\n",
      "Processing record 517 | Hendersonville\n",
      "Processing record 518 | Pangani\n",
      "Processing record 519 | Pedasí\n",
      "Processing record 520 | Banda Aceh\n",
      "Processing record 521 | Balikpapan\n",
      "Processing record 522 | Levelland\n",
      "Processing record 523 | Burnie\n",
      "Processing record 524 | Havelock\n",
      "Processing record 525 | Pasni\n",
      "Processing record 526 | Nouadhibou\n",
      "Processing record 527 | Cunha\n",
      "Processing record 528 | Souillac\n",
      "Processing record 529 | Baykit\n",
      "Processing record 530 | Teya\n",
      "City Not found, Skipping.....\n",
      "Processing record 531 | Nuevitas\n",
      "Processing record 532 | Gubkinskiy\n",
      "Processing record 533 | Mount Gambier\n",
      "Processing record 534 | Bermejillo\n",
      "Processing record 535 | Urengoy\n",
      "Processing record 536 | Port-Gentil\n",
      "Processing record 537 | Geraldton\n",
      "Processing record 538 | Chu\n",
      "Processing record 539 | Mae Hong Son\n",
      "Processing record 540 | Pascagoula\n",
      "Processing record 541 | Tadine\n",
      "Processing record 542 | Nanning\n",
      "Processing record 543 | Annau\n",
      "Processing record 544 | Nola\n",
      "Processing record 545 | Beckley\n",
      "Processing record 546 | Boone\n",
      "Processing record 547 | Las Lomas\n",
      "Processing record 548 | ‘Āhuimanu\n",
      "Processing record 549 | Valparaíso\n",
      "Processing record 550 | Verkhniy Baskunchak\n",
      "Processing record 551 | Petropavlovsk-Kamchatskiy\n",
      "Processing record 552 | Pontal do Paraná\n",
      "Processing record 553 | Myitkyina\n"
     ]
    }
   ],
   "source": [
    "# begin with Variables \n",
    "city_name = []\n",
    "c_country = []\n",
    "date =[]\n",
    "c_lat =[]\n",
    "c_lon =[]\n",
    "temp_max =[]\n",
    "humid =[]\n",
    "cloud =[]\n",
    "wind =[]\n",
    "i = 1\n",
    "\n",
    "\n",
    "print (f\"Beginning Data Retrival\")\n",
    "print (\"-------------------------\")\n",
    "\n",
    "for city in cities:\n",
    "    city=city\n",
    "    query_url = weather_url + \"appid=\" + weather_api_key + \"&q=\" + city\n",
    "    w_json =requests.get(query_url).json()\n",
    "    \n",
    "    try:      \n",
    "        city_name.append(w_json [\"name\"])\n",
    "        c_country.append(w_json[\"sys\"][\"country\"])\n",
    "        date.append(w_json[\"dt\"])\n",
    "        c_lat.append(w_json[\"coord\"][\"lat\"])\n",
    "        c_lon.append(w_json [\"coord\"][\"lon\"])\n",
    "        temp_max.append(w_json[\"main\"][\"temp_max\"])\n",
    "        humid.append(w_json [\"main\"][\"humidity\"])\n",
    "        cloud.append(w_json [\"clouds\"][\"all\"])\n",
    "        wind.append(w_json [\"wind\"][\"speed\"])\n",
    "        city_info = w_json[\"name\"]\n",
    "        print(f\"Processing record {i} | {city_info}\")\n",
    "        i+=1\n",
    "    except (KeyError):\n",
    "        print(f\"City Not found, Skipping.....\")\n",
    "            \n",
    "        \n",
    "        \n"
   ]
  },
  {
   "cell_type": "markdown",
   "metadata": {},
   "source": [
    "### Convert Raw Data to DataFrame\n",
    "* Export the city data into a .csv.\n",
    "* Display the DataFrame"
   ]
  },
  {
   "cell_type": "code",
   "execution_count": 68,
   "metadata": {
    "scrolled": true
   },
   "outputs": [
    {
     "data": {
      "text/html": [
       "<div>\n",
       "<style scoped>\n",
       "    .dataframe tbody tr th:only-of-type {\n",
       "        vertical-align: middle;\n",
       "    }\n",
       "\n",
       "    .dataframe tbody tr th {\n",
       "        vertical-align: top;\n",
       "    }\n",
       "\n",
       "    .dataframe thead th {\n",
       "        text-align: right;\n",
       "    }\n",
       "</style>\n",
       "<table border=\"1\" class=\"dataframe\">\n",
       "  <thead>\n",
       "    <tr style=\"text-align: right;\">\n",
       "      <th></th>\n",
       "      <th>City Name</th>\n",
       "      <th>Country</th>\n",
       "      <th>Cloudiness</th>\n",
       "      <th>Lat</th>\n",
       "      <th>Long</th>\n",
       "      <th>Humidity</th>\n",
       "      <th>Windspeed</th>\n",
       "      <th>Temperature</th>\n",
       "    </tr>\n",
       "  </thead>\n",
       "  <tbody>\n",
       "    <tr>\n",
       "      <th>0</th>\n",
       "      <td>Taoudenni</td>\n",
       "      <td>ML</td>\n",
       "      <td>0</td>\n",
       "      <td>22.6783</td>\n",
       "      <td>-3.9836</td>\n",
       "      <td>20</td>\n",
       "      <td>0.84</td>\n",
       "      <td>293.97</td>\n",
       "    </tr>\n",
       "    <tr>\n",
       "      <th>1</th>\n",
       "      <td>Punta Arenas</td>\n",
       "      <td>CL</td>\n",
       "      <td>0</td>\n",
       "      <td>-53.1500</td>\n",
       "      <td>-70.9167</td>\n",
       "      <td>31</td>\n",
       "      <td>6.69</td>\n",
       "      <td>297.15</td>\n",
       "    </tr>\n",
       "    <tr>\n",
       "      <th>2</th>\n",
       "      <td>Camargo</td>\n",
       "      <td>MX</td>\n",
       "      <td>100</td>\n",
       "      <td>27.6667</td>\n",
       "      <td>-105.1667</td>\n",
       "      <td>15</td>\n",
       "      <td>6.79</td>\n",
       "      <td>299.60</td>\n",
       "    </tr>\n",
       "    <tr>\n",
       "      <th>3</th>\n",
       "      <td>Nome</td>\n",
       "      <td>US</td>\n",
       "      <td>1</td>\n",
       "      <td>64.5011</td>\n",
       "      <td>-165.4064</td>\n",
       "      <td>64</td>\n",
       "      <td>3.09</td>\n",
       "      <td>250.15</td>\n",
       "    </tr>\n",
       "    <tr>\n",
       "      <th>4</th>\n",
       "      <td>Constitución</td>\n",
       "      <td>CL</td>\n",
       "      <td>7</td>\n",
       "      <td>-35.3333</td>\n",
       "      <td>-72.4167</td>\n",
       "      <td>53</td>\n",
       "      <td>7.55</td>\n",
       "      <td>294.59</td>\n",
       "    </tr>\n",
       "    <tr>\n",
       "      <th>...</th>\n",
       "      <td>...</td>\n",
       "      <td>...</td>\n",
       "      <td>...</td>\n",
       "      <td>...</td>\n",
       "      <td>...</td>\n",
       "      <td>...</td>\n",
       "      <td>...</td>\n",
       "      <td>...</td>\n",
       "    </tr>\n",
       "    <tr>\n",
       "      <th>548</th>\n",
       "      <td>Valparaíso</td>\n",
       "      <td>CL</td>\n",
       "      <td>20</td>\n",
       "      <td>-33.0393</td>\n",
       "      <td>-71.6273</td>\n",
       "      <td>72</td>\n",
       "      <td>3.09</td>\n",
       "      <td>293.15</td>\n",
       "    </tr>\n",
       "    <tr>\n",
       "      <th>549</th>\n",
       "      <td>Verkhniy Baskunchak</td>\n",
       "      <td>RU</td>\n",
       "      <td>100</td>\n",
       "      <td>48.2256</td>\n",
       "      <td>46.7217</td>\n",
       "      <td>94</td>\n",
       "      <td>6.05</td>\n",
       "      <td>275.71</td>\n",
       "    </tr>\n",
       "    <tr>\n",
       "      <th>550</th>\n",
       "      <td>Petropavlovsk-Kamchatskiy</td>\n",
       "      <td>RU</td>\n",
       "      <td>40</td>\n",
       "      <td>53.0452</td>\n",
       "      <td>158.6483</td>\n",
       "      <td>79</td>\n",
       "      <td>1.00</td>\n",
       "      <td>265.15</td>\n",
       "    </tr>\n",
       "    <tr>\n",
       "      <th>551</th>\n",
       "      <td>Pontal do Paraná</td>\n",
       "      <td>BR</td>\n",
       "      <td>75</td>\n",
       "      <td>-25.6533</td>\n",
       "      <td>-48.5128</td>\n",
       "      <td>83</td>\n",
       "      <td>4.63</td>\n",
       "      <td>296.15</td>\n",
       "    </tr>\n",
       "    <tr>\n",
       "      <th>552</th>\n",
       "      <td>Myitkyina</td>\n",
       "      <td>MM</td>\n",
       "      <td>25</td>\n",
       "      <td>25.3833</td>\n",
       "      <td>97.4000</td>\n",
       "      <td>63</td>\n",
       "      <td>0.89</td>\n",
       "      <td>290.78</td>\n",
       "    </tr>\n",
       "  </tbody>\n",
       "</table>\n",
       "<p>553 rows × 8 columns</p>\n",
       "</div>"
      ],
      "text/plain": [
       "                     City Name Country  Cloudiness      Lat      Long  \\\n",
       "0                    Taoudenni      ML           0  22.6783   -3.9836   \n",
       "1                 Punta Arenas      CL           0 -53.1500  -70.9167   \n",
       "2                      Camargo      MX         100  27.6667 -105.1667   \n",
       "3                         Nome      US           1  64.5011 -165.4064   \n",
       "4                 Constitución      CL           7 -35.3333  -72.4167   \n",
       "..                         ...     ...         ...      ...       ...   \n",
       "548                 Valparaíso      CL          20 -33.0393  -71.6273   \n",
       "549        Verkhniy Baskunchak      RU         100  48.2256   46.7217   \n",
       "550  Petropavlovsk-Kamchatskiy      RU          40  53.0452  158.6483   \n",
       "551           Pontal do Paraná      BR          75 -25.6533  -48.5128   \n",
       "552                  Myitkyina      MM          25  25.3833   97.4000   \n",
       "\n",
       "     Humidity  Windspeed  Temperature  \n",
       "0          20       0.84       293.97  \n",
       "1          31       6.69       297.15  \n",
       "2          15       6.79       299.60  \n",
       "3          64       3.09       250.15  \n",
       "4          53       7.55       294.59  \n",
       "..        ...        ...          ...  \n",
       "548        72       3.09       293.15  \n",
       "549        94       6.05       275.71  \n",
       "550        79       1.00       265.15  \n",
       "551        83       4.63       296.15  \n",
       "552        63       0.89       290.78  \n",
       "\n",
       "[553 rows x 8 columns]"
      ]
     },
     "execution_count": 68,
     "metadata": {},
     "output_type": "execute_result"
    }
   ],
   "source": [
    "# Convert to Dataframe\n",
    "weather_d= {'City Name': city_name,'Country': c_country,'Cloudiness': cloud,'Lat':c_lat,'Long':c_lon,'Humidity':humid,'Windspeed':wind,'Temperature':temp_max}\n",
    "weather_df =pd.DataFrame(weather_d, columns=('City Name','Country','Cloudiness','Lat','Long','Humidity', 'Windspeed','Temperature'))\n",
    "weather_df"
   ]
  },
  {
   "cell_type": "code",
   "execution_count": 69,
   "metadata": {
    "scrolled": true
   },
   "outputs": [],
   "source": [
    "weather_df.to_csv(output_data_file)"
   ]
  },
  {
   "cell_type": "markdown",
   "metadata": {},
   "source": [
    "## Inspect the data and remove the cities where the humidity > 100%.\n",
    "----\n",
    "Skip this step if there are no cities that have humidity > 100%. "
   ]
  },
  {
   "cell_type": "code",
   "execution_count": 70,
   "metadata": {},
   "outputs": [
    {
     "name": "stdout",
     "output_type": "stream",
     "text": [
      "No cities have over 100% humidity in data\n"
     ]
    },
    {
     "data": {
      "text/plain": [
       "count    553.000000\n",
       "mean      73.495479\n",
       "std       20.373871\n",
       "min        8.000000\n",
       "25%       65.000000\n",
       "50%       78.000000\n",
       "75%       88.000000\n",
       "max      100.000000\n",
       "Name: Humidity, dtype: float64"
      ]
     },
     "execution_count": 70,
     "metadata": {},
     "output_type": "execute_result"
    }
   ],
   "source": [
    "test_humidity = weather_df[\"Humidity\"].describe(include = \"all\")\n",
    "print(\"No cities have over 100% humidity in data\")\n",
    "test_humidity"
   ]
  },
  {
   "cell_type": "code",
   "execution_count": 71,
   "metadata": {},
   "outputs": [],
   "source": [
    "#  Get the indices of cities that have humidity over 100%.\n"
   ]
  },
  {
   "cell_type": "code",
   "execution_count": 72,
   "metadata": {},
   "outputs": [],
   "source": [
    "# Make a new DataFrame equal to the city data to drop all humidity outliers by index.\n",
    "# Passing \"inplace=False\" will make a copy of the city_data DataFrame, which we call \"clean_city_data\".\n"
   ]
  },
  {
   "cell_type": "markdown",
   "metadata": {},
   "source": [
    "## Plotting the Data\n",
    "* Use proper labeling of the plots using plot titles (including date of analysis) and axes labels.\n",
    "* Save the plotted figures as .pngs."
   ]
  },
  {
   "cell_type": "markdown",
   "metadata": {},
   "source": [
    "## Latitude vs. Temperature Plot"
   ]
  },
  {
   "cell_type": "code",
   "execution_count": 76,
   "metadata": {
    "scrolled": true
   },
   "outputs": [
    {
     "data": {
      "text/plain": [
       "<function matplotlib.pyplot.show(close=None, block=None)>"
      ]
     },
     "execution_count": 76,
     "metadata": {},
     "output_type": "execute_result"
    },
    {
     "data": {
      "image/png": "[encoded data removed]",
      "text/plain": [
       "<Figure size 432x288 with 1 Axes>"
      ]
     },
     "metadata": {
      "needs_background": "light"
     },
     "output_type": "display_data"
    }
   ],
   "source": [
    "plt.scatter(weather_df[\"Long\"], weather_df[\"Temperature\"])\n",
    "plt.title(f\"City Latitude vs. Temperature\")\n",
    "plt.xlabel('Latitude')\n",
    "plt.ylabel('Temperature')\n",
    "plt.grid(alpha = 0.5)\n",
    "plt.savefig(\"output_data/Latitudevs.Temperature.png\")\n",
    "plt.show\n",
    "\n",
    "          "
   ]
  },
  {
   "cell_type": "markdown",
   "metadata": {},
   "source": [
    "## Latitude vs. Humidity Plot"
   ]
  },
  {
   "cell_type": "code",
   "execution_count": 77,
   "metadata": {},
   "outputs": [
    {
     "data": {
      "text/plain": [
       "<function matplotlib.pyplot.show(close=None, block=None)>"
      ]
     },
     "execution_count": 77,
     "metadata": {},
     "output_type": "execute_result"
    },
    {
     "data": {
      "image/png": "[encoded data removed]",
      "text/plain": [
       "<Figure size 432x288 with 1 Axes>"
      ]
     },
     "metadata": {
      "needs_background": "light"
     },
     "output_type": "display_data"
    }
   ],
   "source": [
    "plt.scatter(weather_df[\"Long\"], weather_df[\"Humidity\"])\n",
    "plt.title(f\"City Latitude vs. Humidity\")\n",
    "plt.xlabel('Latitude')\n",
    "plt.ylabel('Humidity')\n",
    "plt.grid(alpha = 0.5)\n",
    "plt.savefig(\"output_data/Latitudevshumidity.png\")\n",
    "plt.show"
   ]
  },
  {
   "cell_type": "markdown",
   "metadata": {},
   "source": [
    "## Latitude vs. Cloudiness Plot"
   ]
  },
  {
   "cell_type": "code",
   "execution_count": 79,
   "metadata": {},
   "outputs": [
    {
     "data": {
      "text/plain": [
       "<function matplotlib.pyplot.show(close=None, block=None)>"
      ]
     },
     "execution_count": 79,
     "metadata": {},
     "output_type": "execute_result"
    },
    {
     "data": {
      "image/png": "[encoded data removed]",
      "text/plain": [
       "<Figure size 432x288 with 1 Axes>"
      ]
     },
     "metadata": {
      "needs_background": "light"
     },
     "output_type": "display_data"
    }
   ],
   "source": [
    "plt.scatter(weather_df[\"Long\"], weather_df[\"Cloudiness\"])\n",
    "plt.title(f\"City Latitude vs. cloudiness\")\n",
    "plt.xlabel('Latitude')\n",
    "plt.ylabel('Cloudiness')\n",
    "plt.grid(alpha = 0.5)\n",
    "plt.savefig(\"output_data/Latitudevscloud.png\")\n",
    "plt.show"
   ]
  },
  {
   "cell_type": "markdown",
   "metadata": {},
   "source": [
    "## Latitude vs. Wind Speed Plot"
   ]
  },
  {
   "cell_type": "code",
   "execution_count": 80,
   "metadata": {},
   "outputs": [
    {
     "data": {
      "text/plain": [
       "<function matplotlib.pyplot.show(close=None, block=None)>"
      ]
     },
     "execution_count": 80,
     "metadata": {},
     "output_type": "execute_result"
    },
    {
     "data": {
      "image/png": "[encoded data removed]",
      "text/plain": [
       "<Figure size 432x288 with 1 Axes>"
      ]
     },
     "metadata": {
      "needs_background": "light"
     },
     "output_type": "display_data"
    }
   ],
   "source": [
    "plt.scatter(weather_df[\"Long\"], weather_df[\"Windspeed\"])\n",
    "plt.title(f\"City Latitude vs. Windspeed\")\n",
    "plt.xlabel('Latitude')\n",
    "plt.ylabel('Windspeed')\n",
    "plt.grid(alpha = 0.5)\n",
    "plt.savefig(\"output_data/Latitudevswind.png\")\n",
    "plt.show"
   ]
  },
  {
   "cell_type": "markdown",
   "metadata": {},
   "source": [
    "## Linear Regression"
   ]
  },
  {
   "cell_type": "code",
   "execution_count": null,
   "metadata": {},
   "outputs": [],
   "source": []
  },
  {
   "cell_type": "markdown",
   "metadata": {},
   "source": [
    "####  Northern Hemisphere - Max Temp vs. Latitude Linear Regression"
   ]
  },
  {
   "cell_type": "code",
   "execution_count": null,
   "metadata": {},
   "outputs": [],
   "source": []
  },
  {
   "cell_type": "markdown",
   "metadata": {},
   "source": [
    "####  Southern Hemisphere - Max Temp vs. Latitude Linear Regression"
   ]
  },
  {
   "cell_type": "code",
   "execution_count": null,
   "metadata": {},
   "outputs": [],
   "source": []
  },
  {
   "cell_type": "markdown",
   "metadata": {},
   "source": [
    "####  Northern Hemisphere - Humidity (%) vs. Latitude Linear Regression"
   ]
  },
  {
   "cell_type": "code",
   "execution_count": null,
   "metadata": {},
   "outputs": [],
   "source": []
  },
  {
   "cell_type": "markdown",
   "metadata": {},
   "source": [
    "####  Southern Hemisphere - Humidity (%) vs. Latitude Linear Regression"
   ]
  },
  {
   "cell_type": "code",
   "execution_count": null,
   "metadata": {},
   "outputs": [],
   "source": []
  },
  {
   "cell_type": "markdown",
   "metadata": {},
   "source": [
    "####  Northern Hemisphere - Cloudiness (%) vs. Latitude Linear Regression"
   ]
  },
  {
   "cell_type": "code",
   "execution_count": null,
   "metadata": {},
   "outputs": [],
   "source": []
  },
  {
   "cell_type": "markdown",
   "metadata": {},
   "source": [
    "####  Southern Hemisphere - Cloudiness (%) vs. Latitude Linear Regression"
   ]
  },
  {
   "cell_type": "code",
   "execution_count": null,
   "metadata": {},
   "outputs": [],
   "source": []
  },
  {
   "cell_type": "markdown",
   "metadata": {},
   "source": [
    "####  Northern Hemisphere - Wind Speed (mph) vs. Latitude Linear Regression"
   ]
  },
  {
   "cell_type": "code",
   "execution_count": null,
   "metadata": {},
   "outputs": [],
   "source": []
  },
  {
   "cell_type": "markdown",
   "metadata": {},
   "source": [
    "####  Southern Hemisphere - Wind Speed (mph) vs. Latitude Linear Regression"
   ]
  },
  {
   "cell_type": "code",
   "execution_count": null,
   "metadata": {},
   "outputs": [],
   "source": []
  },
  {
   "cell_type": "code",
   "execution_count": null,
   "metadata": {},
   "outputs": [],
   "source": []
  },
  {
   "cell_type": "code",
   "execution_count": null,
   "metadata": {},
   "outputs": [],
   "source": []
  },
  {
   "cell_type": "code",
   "execution_count": null,
   "metadata": {},
   "outputs": [],
   "source": []
  }
 ],
 "metadata": {
  "anaconda-cloud": {},
  "kernel_info": {
   "name": "python3"
  },
  "kernelspec": {
   "display_name": "Python 3",
   "language": "python",
   "name": "python3"
  },
  "language_info": {
   "codemirror_mode": {
    "name": "ipython",
    "version": 3
   },
   "file_extension": ".py",
   "mimetype": "text/x-python",
   "name": "python",
   "nbconvert_exporter": "python",
   "pygments_lexer": "ipython3",
   "version": "3.8.5"
  },
  "latex_envs": {
   "LaTeX_envs_menu_present": true,
   "autoclose": false,
   "autocomplete": true,
   "bibliofile": "biblio.bib",
   "cite_by": "apalike",
   "current_citInitial": 1,
   "eqLabelWithNumbers": true,
   "eqNumInitial": 1,
   "hotkeys": {
    "equation": "Ctrl-E",
    "itemize": "Ctrl-I"
   },
   "labels_anchors": false,
   "latex_user_defs": false,
   "report_style_numbering": false,
   "user_envs_cfg": false
  },
  "nteract": {
   "version": "0.12.3"
  }
 },
 "nbformat": 4,
 "nbformat_minor": 2
}
