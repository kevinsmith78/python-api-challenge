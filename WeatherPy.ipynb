{
 "cells": [
  {
   "cell_type": "markdown",
   "metadata": {},
   "source": [
    "# WeatherPy\n",
    "----\n",
    "\n",
    "#### Note\n",
    "* Instructions have been included for each segment. You do not have to follow them exactly, but they are included to help you think through the steps."
   ]
  },
  {
   "cell_type": "code",
   "execution_count": 2,
   "metadata": {
    "scrolled": false
   },
   "outputs": [
    {
     "data": {
      "text/plain": [
       "'1bce4c0df3b2293dfc66e783f97126f9'"
      ]
     },
     "execution_count": 2,
     "metadata": {},
     "output_type": "execute_result"
    }
   ],
   "source": [
    "# Dependencies and Setup\n",
    "import matplotlib.pyplot as plt\n",
    "import pandas as pd\n",
    "import numpy as np\n",
    "import requests\n",
    "import time\n",
    "import scipy.stats as st\n",
    "\n",
    "# Import API key\n",
    "from api_keys import weather_api_key\n",
    "\n",
    "# Incorporated citipy to determine city based on latitude and longitude\n",
    "from citipy import citipy\n",
    "\n",
    "# Output File (CSV)\n",
    "output_data_file = \"output_data/cities.csv\"\n",
    "\n",
    "# Range of latitudes and longitudes\n",
    "lat_range = (-90, 90)\n",
    "lng_range = (-180, 180)\n",
    "weather_api_key"
   ]
  },
  {
   "cell_type": "markdown",
   "metadata": {},
   "source": [
    "## Generate Cities List"
   ]
  },
  {
   "cell_type": "code",
   "execution_count": 3,
   "metadata": {},
   "outputs": [
    {
     "data": {
      "text/plain": [
       "630"
      ]
     },
     "execution_count": 3,
     "metadata": {},
     "output_type": "execute_result"
    }
   ],
   "source": [
    "# List for holding lat_lngs and cities\n",
    "lat_lngs = []\n",
    "cities = []\n",
    "\n",
    "# Create a set of random lat and lng combinations\n",
    "lats = np.random.uniform(low=-90.000, high=90.000, size=1500)\n",
    "lngs = np.random.uniform(low=-180.000, high=180.000, size=1500)\n",
    "lat_lngs = zip(lats, lngs)\n",
    "\n",
    "# Identify nearest city for each lat, lng combination\n",
    "for lat_lng in lat_lngs:\n",
    "    city = citipy.nearest_city(lat_lng[0], lat_lng[1]).city_name\n",
    "    \n",
    "    # If the city is unique, then add it to a our cities list\n",
    "    if city not in cities:\n",
    "        cities.append(city)\n",
    "\n",
    "# Print the city count to confirm sufficient count\n",
    "len(cities)"
   ]
  },
  {
   "cell_type": "code",
   "execution_count": 4,
   "metadata": {},
   "outputs": [],
   "source": [
    "#URL and Units\n",
    "weather_url = \"http://api.openweathermap.org/data/2.5/weather?\"\n",
    "units =\"imperial\""
   ]
  },
  {
   "cell_type": "markdown",
   "metadata": {},
   "source": [
    "### Perform API Calls\n",
    "* Perform a weather check on each city using a series of successive API calls.\n",
    "* Include a print log of each city as it'sbeing processed (with the city number and city name).\n"
   ]
  },
  {
   "cell_type": "code",
   "execution_count": 7,
   "metadata": {},
   "outputs": [],
   "source": [
    "query_url = f\"{weather_url}appid=1bce4c0df3b2293dfc66e783f97126f9&units={units}&q=\""
   ]
  },
  {
   "cell_type": "code",
   "execution_count": 9,
   "metadata": {},
   "outputs": [
    {
     "name": "stdout",
     "output_type": "stream",
     "text": [
      "{'base': 'stations',\n",
      " 'clouds': {'all': 90},\n",
      " 'cod': 200,\n",
      " 'coord': {'lat': 42.097, 'lon': -79.2353},\n",
      " 'dt': 1614440540,\n",
      " 'id': 5122534,\n",
      " 'main': {'feels_like': 29.46,\n",
      "          'humidity': 97,\n",
      "          'pressure': 1014,\n",
      "          'temp': 38.82,\n",
      "          'temp_max': 39.99,\n",
      "          'temp_min': 37.99},\n",
      " 'name': 'Jamestown',\n",
      " 'sys': {'country': 'US',\n",
      "         'id': 4588,\n",
      "         'sunrise': 1614426905,\n",
      "         'sunset': 1614467069,\n",
      "         'type': 1},\n",
      " 'timezone': -18000,\n",
      " 'visibility': 9656,\n",
      " 'weather': [{'description': 'overcast clouds',\n",
      "              'icon': '04d',\n",
      "              'id': 804,\n",
      "              'main': 'Clouds'}],\n",
      " 'wind': {'deg': 210, 'gust': 27.31, 'speed': 12.03}}\n"
     ]
    }
   ],
   "source": [
    "example = cities[0]\n",
    "test_url = query_url + example\n",
    "test_response = requests.get (test_url).json()\n",
    "from pprint import pprint\n",
    "pprint(test_response)"
   ]
  },
  {
   "cell_type": "code",
   "execution_count": 6,
   "metadata": {},
   "outputs": [
    {
     "data": {
      "text/html": [
       "<div>\n",
       "<style scoped>\n",
       "    .dataframe tbody tr th:only-of-type {\n",
       "        vertical-align: middle;\n",
       "    }\n",
       "\n",
       "    .dataframe tbody tr th {\n",
       "        vertical-align: top;\n",
       "    }\n",
       "\n",
       "    .dataframe thead th {\n",
       "        text-align: right;\n",
       "    }\n",
       "</style>\n",
       "<table border=\"1\" class=\"dataframe\">\n",
       "  <thead>\n",
       "    <tr style=\"text-align: right;\">\n",
       "      <th></th>\n",
       "      <th>City</th>\n",
       "    </tr>\n",
       "  </thead>\n",
       "  <tbody>\n",
       "    <tr>\n",
       "      <th>0</th>\n",
       "      <td>kapaa</td>\n",
       "    </tr>\n",
       "    <tr>\n",
       "      <th>1</th>\n",
       "      <td>hithadhoo</td>\n",
       "    </tr>\n",
       "    <tr>\n",
       "      <th>2</th>\n",
       "      <td>ponta do sol</td>\n",
       "    </tr>\n",
       "    <tr>\n",
       "      <th>3</th>\n",
       "      <td>hobart</td>\n",
       "    </tr>\n",
       "    <tr>\n",
       "      <th>4</th>\n",
       "      <td>east london</td>\n",
       "    </tr>\n",
       "  </tbody>\n",
       "</table>\n",
       "</div>"
      ],
      "text/plain": [
       "           City\n",
       "0         kapaa\n",
       "1     hithadhoo\n",
       "2  ponta do sol\n",
       "3        hobart\n",
       "4   east london"
      ]
     },
     "execution_count": 6,
     "metadata": {},
     "output_type": "execute_result"
    }
   ],
   "source": [
    "cities_df = pd.DataFrame({\"City\": cities})\n",
    "cities_df. head()"
   ]
  },
  {
   "cell_type": "code",
   "execution_count": null,
   "metadata": {},
   "outputs": [
    {
     "name": "stdout",
     "output_type": "stream",
     "text": [
      "Beginning Data Retrival\n",
      "-------------------------\n",
      "City kapaa Not found, Skipping.....\n",
      "City hithadhoo Not found, Skipping.....\n",
      "City ponta do sol Not found, Skipping.....\n",
      "City hobart Not found, Skipping.....\n",
      "City east london Not found, Skipping.....\n",
      "City vaitupu Not found, Skipping.....\n",
      "City bargal Not found, Skipping.....\n",
      "City punta arenas Not found, Skipping.....\n",
      "City coria Not found, Skipping.....\n",
      "City longyearbyen Not found, Skipping.....\n",
      "City cabra Not found, Skipping.....\n",
      "City kasane Not found, Skipping.....\n",
      "City mar del plata Not found, Skipping.....\n",
      "City mount gambier Not found, Skipping.....\n",
      "City nanfeng Not found, Skipping.....\n",
      "City rikitea Not found, Skipping.....\n",
      "City fort collins Not found, Skipping.....\n",
      "City jiaojiang Not found, Skipping.....\n",
      "City grand river south east Not found, Skipping.....\n",
      "City waingapu Not found, Skipping.....\n",
      "City cabedelo Not found, Skipping.....\n",
      "City buala Not found, Skipping.....\n",
      "City kalmunai Not found, Skipping.....\n",
      "City black river Not found, Skipping.....\n",
      "City itoman Not found, Skipping.....\n",
      "City asau Not found, Skipping.....\n",
      "City barrow Not found, Skipping.....\n",
      "City nao-me-toque Not found, Skipping.....\n",
      "City port elizabeth Not found, Skipping.....\n",
      "City pevek Not found, Skipping.....\n",
      "City maridi Not found, Skipping.....\n",
      "City andenes Not found, Skipping.....\n",
      "City jamestown Not found, Skipping.....\n",
      "City ribeira grande Not found, Skipping.....\n",
      "City dawei Not found, Skipping.....\n",
      "City cidreira Not found, Skipping.....\n",
      "City coihaique Not found, Skipping.....\n",
      "City giddalur Not found, Skipping.....\n",
      "City taolanaro Not found, Skipping.....\n",
      "City carnarvon Not found, Skipping.....\n",
      "City talnakh Not found, Skipping.....\n",
      "City mount abu Not found, Skipping.....\n",
      "City georgetown Not found, Skipping.....\n",
      "City esperance Not found, Skipping.....\n",
      "City clyde river Not found, Skipping.....\n",
      "City saint-philippe Not found, Skipping.....\n",
      "City ahipara Not found, Skipping.....\n",
      "City hovd Not found, Skipping.....\n",
      "City zavyalovo Not found, Skipping.....\n",
      "City ust-kuyga Not found, Skipping.....\n",
      "City shelburne Not found, Skipping.....\n",
      "City puerto ayora Not found, Skipping.....\n",
      "City honiara Not found, Skipping.....\n",
      "City lolua Not found, Skipping.....\n",
      "City barcelona Not found, Skipping.....\n",
      "City naze Not found, Skipping.....\n",
      "City aksarka Not found, Skipping.....\n",
      "City lodja Not found, Skipping.....\n",
      "City machico Not found, Skipping.....\n",
      "City ushuaia Not found, Skipping.....\n",
      "City atuona Not found, Skipping.....\n",
      "City albany Not found, Skipping.....\n",
      "City thompson Not found, Skipping.....\n",
      "City cherskiy Not found, Skipping.....\n",
      "City bandarbeyla Not found, Skipping.....\n",
      "City ishigaki Not found, Skipping.....\n",
      "City kyren Not found, Skipping.....\n",
      "City beira Not found, Skipping.....\n",
      "City umzimvubu Not found, Skipping.....\n",
      "City alta floresta Not found, Skipping.....\n",
      "City hilo Not found, Skipping.....\n",
      "City vaini Not found, Skipping.....\n",
      "City avarua Not found, Skipping.....\n",
      "City hermanus Not found, Skipping.....\n",
      "City port hardy Not found, Skipping.....\n",
      "City leningradskiy Not found, Skipping.....\n",
      "City nemuro Not found, Skipping.....\n",
      "City the valley Not found, Skipping.....\n",
      "City korla Not found, Skipping.....\n",
      "City teguldet Not found, Skipping.....\n",
      "City sola Not found, Skipping.....\n",
      "City batagay-alyta Not found, Skipping.....\n",
      "City mataura Not found, Skipping.....\n",
      "City teeli Not found, Skipping.....\n",
      "City yar-sale Not found, Skipping.....\n",
      "City providencia Not found, Skipping.....\n",
      "City fallingbostel Not found, Skipping.....\n",
      "City pedasi Not found, Skipping.....\n",
      "City nouadhibou Not found, Skipping.....\n",
      "City oksfjord Not found, Skipping.....\n",
      "City fort nelson Not found, Skipping.....\n",
      "City alofi Not found, Skipping.....\n",
      "City khatanga Not found, Skipping.....\n",
      "City petropavlovka Not found, Skipping.....\n",
      "City plomarion Not found, Skipping.....\n",
      "City goderich Not found, Skipping.....\n",
      "City bluff Not found, Skipping.....\n",
      "City egvekinot Not found, Skipping.....\n",
      "City sao joao da barra Not found, Skipping.....\n",
      "City kaitangata Not found, Skipping.....\n",
      "City lagoa Not found, Skipping.....\n",
      "City dikson Not found, Skipping.....\n",
      "City ornskoldsvik Not found, Skipping.....\n",
      "City kuche Not found, Skipping.....\n",
      "City hasaki Not found, Skipping.....\n",
      "City new norfolk Not found, Skipping.....\n",
      "City saleaula Not found, Skipping.....\n",
      "City meulaboh Not found, Skipping.....\n",
      "City benoy Not found, Skipping.....\n",
      "City pokhara Not found, Skipping.....\n",
      "City bantou Not found, Skipping.....\n",
      "City sumbawa Not found, Skipping.....\n",
      "City tahoua Not found, Skipping.....\n",
      "City ilo Not found, Skipping.....\n",
      "City finnsnes Not found, Skipping.....\n",
      "City zhezkazgan Not found, Skipping.....\n",
      "City khorixas Not found, Skipping.....\n",
      "City belushya guba Not found, Skipping.....\n",
      "City yellowknife Not found, Skipping.....\n",
      "City jimma Not found, Skipping.....\n",
      "City yeppoon Not found, Skipping.....\n",
      "City bengkulu Not found, Skipping.....\n",
      "City kodiak Not found, Skipping.....\n",
      "City sijunjung Not found, Skipping.....\n",
      "City sao felix do xingu Not found, Skipping.....\n",
      "City skelleftea Not found, Skipping.....\n",
      "City portland Not found, Skipping.....\n",
      "City minden Not found, Skipping.....\n",
      "City bethel Not found, Skipping.....\n",
      "City qaanaaq Not found, Skipping.....\n",
      "City matina Not found, Skipping.....\n",
      "City visnes Not found, Skipping.....\n",
      "City ancud Not found, Skipping.....\n",
      "City meridian Not found, Skipping.....\n",
      "City torbay Not found, Skipping.....\n",
      "City lazaro cardenas Not found, Skipping.....\n",
      "City chulumani Not found, Skipping.....\n",
      "City barentsburg Not found, Skipping.....\n",
      "City vardo Not found, Skipping.....\n",
      "City ilulissat Not found, Skipping.....\n",
      "City okhotsk Not found, Skipping.....\n",
      "City namatanai Not found, Skipping.....\n",
      "City port hedland Not found, Skipping.....\n",
      "City gorontalo Not found, Skipping.....\n",
      "City abiy adi Not found, Skipping.....\n",
      "City atar Not found, Skipping.....\n",
      "City bredasdorp Not found, Skipping.....\n",
      "City fortuna Not found, Skipping.....\n",
      "City tura Not found, Skipping.....\n",
      "City iqaluit Not found, Skipping.....\n",
      "City morgan city Not found, Skipping.....\n",
      "City ketchikan Not found, Skipping.....\n",
      "City busselton Not found, Skipping.....\n",
      "City khrebtovaya Not found, Skipping.....\n",
      "City kampong cham Not found, Skipping.....\n",
      "City saldanha Not found, Skipping.....\n",
      "City maragogi Not found, Skipping.....\n",
      "City panjab Not found, Skipping.....\n",
      "City cape town Not found, Skipping.....\n",
      "City illoqqortoormiut Not found, Skipping.....\n",
      "City constitucion Not found, Skipping.....\n",
      "City port macquarie Not found, Skipping.....\n",
      "City chuy Not found, Skipping.....\n",
      "City comodoro rivadavia Not found, Skipping.....\n",
      "City santa ana Not found, Skipping.....\n",
      "City lebanon Not found, Skipping.....\n",
      "City san juan bautista Not found, Skipping.....\n",
      "City nizhneyansk Not found, Skipping.....\n",
      "City henties bay Not found, Skipping.....\n",
      "City pesochnoye Not found, Skipping.....\n",
      "City visby Not found, Skipping.....\n",
      "City namibe Not found, Skipping.....\n",
      "City samfya Not found, Skipping.....\n",
      "City aubenas Not found, Skipping.....\n",
      "City ivanava Not found, Skipping.....\n",
      "City lata Not found, Skipping.....\n",
      "City smirnykh Not found, Skipping.....\n",
      "City lompoc Not found, Skipping.....\n",
      "City varhaug Not found, Skipping.....\n",
      "City drexel heights Not found, Skipping.....\n",
      "City cabo san lucas Not found, Skipping.....\n",
      "City viligili Not found, Skipping.....\n"
     ]
    }
   ],
   "source": [
    "# Develop query URL and begin with Variables \n",
    "\n",
    "weatherdata =[]\n",
    "count = 0\n",
    "print (f\"Beginning Data Retrival\")\n",
    "print (\"-------------------------\")\n",
    "\n",
    "for index, row in cities_df.iterrows():\n",
    "        count +=1\n",
    "        city_d = row[\"City\"]\n",
    "        w_json = requests.get(query_url).json() \n",
    "    \n",
    "        try: \n",
    "            city_name = w_json [\"name\"]\n",
    "            c_country = w_json[\"sys\"][\"country\"]\n",
    "            c_lat = w_json [\"coord\"][\"lat\"]\n",
    "            c_lon = w_json [\"coord\"][\"lon\"]\n",
    "            temp = w_json[\"main\"][\"temp_max\"]\n",
    "            humid = w_json [\"main\"][\"humidity\"]\n",
    "            cloud = w_json [\"Clouds\"][\"all\"]\n",
    "            wind = w_json [\"wind\"][\"speed\"]\n",
    "            weatherdata.append ({\"City\":city_name, \"Country\":c_country, \"Latitude\":c_lat, \"Longtitude\":c_lon, \"Temperature\": temp,\n",
    "                            \"Humidity\":humid, \"Cloudiness\": cloud, \"Windiness\":wind})\n",
    "        \n",
    "            print(f\"Processing record {count}--{city_name}\")  \n",
    "        except:\n",
    "            print(f\"City {city_d} Not found, Skipping.....\")\n",
    "            count +=1\n",
    "            continue\n",
    "        \n",
    "        \n"
   ]
  },
  {
   "cell_type": "markdown",
   "metadata": {},
   "source": [
    "### Convert Raw Data to DataFrame\n",
    "* Export the city data into a .csv.\n",
    "* Display the DataFrame"
   ]
  },
  {
   "cell_type": "code",
   "execution_count": null,
   "metadata": {
    "scrolled": true
   },
   "outputs": [],
   "source": [
    "weather_d= {'City Name': city_name,'City ID':cityid,'Country': country_city,'Cloudiness': cloudy_city,'Lat':lat_city,'Long':lng_city,'Humidity':humidity_city,'Windspeed':windspeed_city,'Temperature':temperature_city}\n",
    "weather_df =pd.DataFrame(weather_d, columns=('City Name','City ID','Country','Cloudiness','Lat','Long'))\n",
    "weather_df.head()"
   ]
  },
  {
   "cell_type": "code",
   "execution_count": null,
   "metadata": {
    "scrolled": true
   },
   "outputs": [],
   "source": [
    "# Convert to Dataframe\n",
    "city_data_pd = pd.DataFrame\n",
    "                            \"Temperature\":temperature_city})\n",
    "city_data_pd.head()"
   ]
  },
  {
   "cell_type": "code",
   "execution_count": null,
   "metadata": {},
   "outputs": [],
   "source": []
  },
  {
   "cell_type": "code",
   "execution_count": null,
   "metadata": {},
   "outputs": [],
   "source": [
    "\n",
    "\n",
    "\n",
    "lng_city = []\n",
    "temperature_city = []\n",
    "\n",
    "\n",
    "\n",
    "\n",
    "date = []\n",
    "temperature_city_max"
   ]
  },
  {
   "cell_type": "markdown",
   "metadata": {},
   "source": [
    "## Inspect the data and remove the cities where the humidity > 100%.\n",
    "----\n",
    "Skip this step if there are no cities that have humidity > 100%. "
   ]
  },
  {
   "cell_type": "code",
   "execution_count": null,
   "metadata": {},
   "outputs": [],
   "source": []
  },
  {
   "cell_type": "code",
   "execution_count": null,
   "metadata": {},
   "outputs": [],
   "source": [
    "#  Get the indices of cities that have humidity over 100%.\n"
   ]
  },
  {
   "cell_type": "code",
   "execution_count": null,
   "metadata": {},
   "outputs": [],
   "source": [
    "# Make a new DataFrame equal to the city data to drop all humidity outliers by index.\n",
    "# Passing \"inplace=False\" will make a copy of the city_data DataFrame, which we call \"clean_city_data\".\n"
   ]
  },
  {
   "cell_type": "code",
   "execution_count": null,
   "metadata": {},
   "outputs": [],
   "source": [
    "\n"
   ]
  },
  {
   "cell_type": "markdown",
   "metadata": {},
   "source": [
    "## Plotting the Data\n",
    "* Use proper labeling of the plots using plot titles (including date of analysis) and axes labels.\n",
    "* Save the plotted figures as .pngs."
   ]
  },
  {
   "cell_type": "markdown",
   "metadata": {},
   "source": [
    "## Latitude vs. Temperature Plot"
   ]
  },
  {
   "cell_type": "code",
   "execution_count": null,
   "metadata": {
    "scrolled": true
   },
   "outputs": [],
   "source": []
  },
  {
   "cell_type": "markdown",
   "metadata": {},
   "source": [
    "## Latitude vs. Humidity Plot"
   ]
  },
  {
   "cell_type": "code",
   "execution_count": null,
   "metadata": {},
   "outputs": [],
   "source": []
  },
  {
   "cell_type": "markdown",
   "metadata": {},
   "source": [
    "## Latitude vs. Cloudiness Plot"
   ]
  },
  {
   "cell_type": "code",
   "execution_count": null,
   "metadata": {},
   "outputs": [],
   "source": []
  },
  {
   "cell_type": "markdown",
   "metadata": {},
   "source": [
    "## Latitude vs. Wind Speed Plot"
   ]
  },
  {
   "cell_type": "code",
   "execution_count": null,
   "metadata": {},
   "outputs": [],
   "source": []
  },
  {
   "cell_type": "markdown",
   "metadata": {},
   "source": [
    "## Linear Regression"
   ]
  },
  {
   "cell_type": "code",
   "execution_count": null,
   "metadata": {},
   "outputs": [],
   "source": []
  },
  {
   "cell_type": "markdown",
   "metadata": {},
   "source": [
    "####  Northern Hemisphere - Max Temp vs. Latitude Linear Regression"
   ]
  },
  {
   "cell_type": "code",
   "execution_count": null,
   "metadata": {},
   "outputs": [],
   "source": []
  },
  {
   "cell_type": "markdown",
   "metadata": {},
   "source": [
    "####  Southern Hemisphere - Max Temp vs. Latitude Linear Regression"
   ]
  },
  {
   "cell_type": "code",
   "execution_count": null,
   "metadata": {},
   "outputs": [],
   "source": []
  },
  {
   "cell_type": "markdown",
   "metadata": {},
   "source": [
    "####  Northern Hemisphere - Humidity (%) vs. Latitude Linear Regression"
   ]
  },
  {
   "cell_type": "code",
   "execution_count": null,
   "metadata": {},
   "outputs": [],
   "source": []
  },
  {
   "cell_type": "markdown",
   "metadata": {},
   "source": [
    "####  Southern Hemisphere - Humidity (%) vs. Latitude Linear Regression"
   ]
  },
  {
   "cell_type": "code",
   "execution_count": null,
   "metadata": {},
   "outputs": [],
   "source": []
  },
  {
   "cell_type": "markdown",
   "metadata": {},
   "source": [
    "####  Northern Hemisphere - Cloudiness (%) vs. Latitude Linear Regression"
   ]
  },
  {
   "cell_type": "code",
   "execution_count": null,
   "metadata": {},
   "outputs": [],
   "source": []
  },
  {
   "cell_type": "markdown",
   "metadata": {},
   "source": [
    "####  Southern Hemisphere - Cloudiness (%) vs. Latitude Linear Regression"
   ]
  },
  {
   "cell_type": "code",
   "execution_count": null,
   "metadata": {},
   "outputs": [],
   "source": []
  },
  {
   "cell_type": "markdown",
   "metadata": {},
   "source": [
    "####  Northern Hemisphere - Wind Speed (mph) vs. Latitude Linear Regression"
   ]
  },
  {
   "cell_type": "code",
   "execution_count": null,
   "metadata": {},
   "outputs": [],
   "source": []
  },
  {
   "cell_type": "markdown",
   "metadata": {},
   "source": [
    "####  Southern Hemisphere - Wind Speed (mph) vs. Latitude Linear Regression"
   ]
  },
  {
   "cell_type": "code",
   "execution_count": null,
   "metadata": {},
   "outputs": [],
   "source": []
  },
  {
   "cell_type": "code",
   "execution_count": null,
   "metadata": {},
   "outputs": [],
   "source": []
  },
  {
   "cell_type": "code",
   "execution_count": null,
   "metadata": {},
   "outputs": [],
   "source": []
  },
  {
   "cell_type": "code",
   "execution_count": null,
   "metadata": {},
   "outputs": [],
   "source": []
  }
 ],
 "metadata": {
  "anaconda-cloud": {},
  "kernel_info": {
   "name": "python3"
  },
  "kernelspec": {
   "display_name": "Python 3",
   "language": "python",
   "name": "python3"
  },
  "language_info": {
   "codemirror_mode": {
    "name": "ipython",
    "version": 3
   },
   "file_extension": ".py",
   "mimetype": "text/x-python",
   "name": "python",
   "nbconvert_exporter": "python",
   "pygments_lexer": "ipython3",
   "version": "3.8.5"
  },
  "latex_envs": {
   "LaTeX_envs_menu_present": true,
   "autoclose": false,
   "autocomplete": true,
   "bibliofile": "biblio.bib",
   "cite_by": "apalike",
   "current_citInitial": 1,
   "eqLabelWithNumbers": true,
   "eqNumInitial": 1,
   "hotkeys": {
    "equation": "Ctrl-E",
    "itemize": "Ctrl-I"
   },
   "labels_anchors": false,
   "latex_user_defs": false,
   "report_style_numbering": false,
   "user_envs_cfg": false
  },
  "nteract": {
   "version": "0.12.3"
  }
 },
 "nbformat": 4,
 "nbformat_minor": 2
}
