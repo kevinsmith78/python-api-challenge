{
 "cells": [
  {
   "cell_type": "markdown",
   "metadata": {},
   "source": [
    "# WeatherPy\n",
    "----\n",
    "\n",
    "#### Note\n",
    "* Instructions have been included for each segment. You do not have to follow them exactly, but they are included to help you think through the steps."
   ]
  },
  {
   "cell_type": "code",
   "execution_count": 1,
   "metadata": {
    "scrolled": false
   },
   "outputs": [
    {
     "data": {
      "text/plain": [
       "'1bce4c0df3b2293dfc66e783f97126f9'"
      ]
     },
     "execution_count": 1,
     "metadata": {},
     "output_type": "execute_result"
    }
   ],
   "source": [
    "# Dependencies and Setup\n",
    "import matplotlib.pyplot as plt\n",
    "import pandas as pd\n",
    "import numpy as np\n",
    "import requests\n",
    "import time\n",
    "import scipy.stats as st\n",
    "\n",
    "# Import API key\n",
    "from api_keys import weather_api_key\n",
    "\n",
    "# Incorporated citipy to determine city based on latitude and longitude\n",
    "from citipy import citipy\n",
    "\n",
    "# Output File (CSV)\n",
    "output_data_file = \"output_data/cities.csv\"\n",
    "\n",
    "# Range of latitudes and longitudes\n",
    "lat_range = (-90, 90)\n",
    "lng_range = (-180, 180)\n",
    "weather_api_key"
   ]
  },
  {
   "cell_type": "markdown",
   "metadata": {},
   "source": [
    "## Generate Cities List"
   ]
  },
  {
   "cell_type": "code",
   "execution_count": 2,
   "metadata": {},
   "outputs": [
    {
     "data": {
      "text/plain": [
       "595"
      ]
     },
     "execution_count": 2,
     "metadata": {},
     "output_type": "execute_result"
    }
   ],
   "source": [
    "# List for holding lat_lngs and cities\n",
    "lat_lngs = []\n",
    "cities = []\n",
    "\n",
    "# Create a set of random lat and lng combinations\n",
    "lats = np.random.uniform(low=-90.000, high=90.000, size=1500)\n",
    "lngs = np.random.uniform(low=-180.000, high=180.000, size=1500)\n",
    "lat_lngs = zip(lats, lngs)\n",
    "\n",
    "# Identify nearest city for each lat, lng combination\n",
    "for lat_lng in lat_lngs:\n",
    "    city = citipy.nearest_city(lat_lng[0], lat_lng[1]).city_name\n",
    "    \n",
    "    # If the city is unique, then add it to a our cities list\n",
    "    if city not in cities:\n",
    "        cities.append(city)\n",
    "\n",
    "# Print the city count to confirm sufficient count\n",
    "len(cities)"
   ]
  },
  {
   "cell_type": "code",
   "execution_count": 3,
   "metadata": {},
   "outputs": [],
   "source": [
    "#URL and Units\n",
    "weather_url = \"http://api.openweathermap.org/data/2.5/weather?\"\n",
    "units =\"imperial\""
   ]
  },
  {
   "cell_type": "markdown",
   "metadata": {},
   "source": [
    "### Perform API Calls\n",
    "* Perform a weather check on each city using a series of successive API calls.\n",
    "* Include a print log of each city as it'sbeing processed (with the city number and city name).\n"
   ]
  },
  {
   "cell_type": "code",
   "execution_count": 17,
   "metadata": {
    "scrolled": true
   },
   "outputs": [
    {
     "data": {
      "text/plain": [
       "'http://api.openweathermap.org/data/2.5/weather?appid=1bce4c0df3b2293dfc66e783f97126f9&units=imperial&q='"
      ]
     },
     "execution_count": 17,
     "metadata": {},
     "output_type": "execute_result"
    }
   ],
   "source": [
    "query_url = f\"{weather_url}appid=1bce4c0df3b2293dfc66e783f97126f9&units={units}&q=\"\n",
    "query_url"
   ]
  },
  {
   "cell_type": "code",
   "execution_count": 18,
   "metadata": {
    "scrolled": true
   },
   "outputs": [
    {
     "name": "stdout",
     "output_type": "stream",
     "text": [
      "{'base': 'stations',\n",
      " 'clouds': {'all': 0},\n",
      " 'cod': 200,\n",
      " 'coord': {'lat': 22.6783, 'lon': -3.9836},\n",
      " 'dt': 1614441833,\n",
      " 'id': 2450173,\n",
      " 'main': {'feels_like': 78.58,\n",
      "          'grnd_level': 993,\n",
      "          'humidity': 12,\n",
      "          'pressure': 1008,\n",
      "          'sea_level': 1008,\n",
      "          'temp': 85.35,\n",
      "          'temp_max': 85.35,\n",
      "          'temp_min': 85.35},\n",
      " 'name': 'Taoudenni',\n",
      " 'sys': {'country': 'ML', 'sunrise': 1614407945, 'sunset': 1614449913},\n",
      " 'timezone': 0,\n",
      " 'visibility': 10000,\n",
      " 'weather': [{'description': 'clear sky',\n",
      "              'icon': '01d',\n",
      "              'id': 800,\n",
      "              'main': 'Clear'}],\n",
      " 'wind': {'deg': 239, 'speed': 4.47}}\n"
     ]
    }
   ],
   "source": [
    "example = cities[0]\n",
    "test_url = query_url + example\n",
    "test_response = requests.get (test_url).json()\n",
    "from pprint import pprint\n",
    "pprint(test_response)"
   ]
  },
  {
   "cell_type": "code",
   "execution_count": 19,
   "metadata": {},
   "outputs": [
    {
     "data": {
      "text/html": [
       "<div>\n",
       "<style scoped>\n",
       "    .dataframe tbody tr th:only-of-type {\n",
       "        vertical-align: middle;\n",
       "    }\n",
       "\n",
       "    .dataframe tbody tr th {\n",
       "        vertical-align: top;\n",
       "    }\n",
       "\n",
       "    .dataframe thead th {\n",
       "        text-align: right;\n",
       "    }\n",
       "</style>\n",
       "<table border=\"1\" class=\"dataframe\">\n",
       "  <thead>\n",
       "    <tr style=\"text-align: right;\">\n",
       "      <th></th>\n",
       "      <th>City</th>\n",
       "    </tr>\n",
       "  </thead>\n",
       "  <tbody>\n",
       "    <tr>\n",
       "      <th>0</th>\n",
       "      <td>taoudenni</td>\n",
       "    </tr>\n",
       "    <tr>\n",
       "      <th>1</th>\n",
       "      <td>punta arenas</td>\n",
       "    </tr>\n",
       "    <tr>\n",
       "      <th>2</th>\n",
       "      <td>camargo</td>\n",
       "    </tr>\n",
       "    <tr>\n",
       "      <th>3</th>\n",
       "      <td>nome</td>\n",
       "    </tr>\n",
       "    <tr>\n",
       "      <th>4</th>\n",
       "      <td>constitucion</td>\n",
       "    </tr>\n",
       "  </tbody>\n",
       "</table>\n",
       "</div>"
      ],
      "text/plain": [
       "           City\n",
       "0     taoudenni\n",
       "1  punta arenas\n",
       "2       camargo\n",
       "3          nome\n",
       "4  constitucion"
      ]
     },
     "execution_count": 19,
     "metadata": {},
     "output_type": "execute_result"
    }
   ],
   "source": [
    "cities_df = pd.DataFrame({\"City\": cities})\n",
    "cities_df. head()"
   ]
  },
  {
   "cell_type": "code",
   "execution_count": null,
   "metadata": {},
   "outputs": [
    {
     "name": "stdout",
     "output_type": "stream",
     "text": [
      "Beginning Data Retrival\n",
      "-------------------------\n",
      "Processing record 1 | Taoudenni\n",
      "City Not found, Skipping.....\n",
      "Processing record 1 | Punta Arenas\n",
      "City Not found, Skipping.....\n",
      "Processing record 1 | Camargo\n",
      "City Not found, Skipping.....\n",
      "Processing record 1 | Nome\n",
      "City Not found, Skipping.....\n",
      "Processing record 1 | Constitución\n",
      "City Not found, Skipping.....\n",
      "Processing record 1 | Dikson\n",
      "City Not found, Skipping.....\n",
      "Processing record 1 | Ust-Nera\n",
      "City Not found, Skipping.....\n",
      "Processing record 1 | Norsup\n",
      "City Not found, Skipping.....\n",
      "Processing record 1 | Ushuaia\n",
      "City Not found, Skipping.....\n",
      "Processing record 1 | Tual\n",
      "City Not found, Skipping.....\n",
      "Processing record 1 | Cape Town\n",
      "City Not found, Skipping.....\n",
      "Processing record 1 | Fairbanks\n",
      "City Not found, Skipping.....\n",
      "City Not found, Skipping.....\n",
      "Processing record 1 | Saldanha\n",
      "City Not found, Skipping.....\n",
      "Processing record 1 | Kalininsk\n",
      "City Not found, Skipping.....\n",
      "City Not found, Skipping.....\n",
      "Processing record 1 | Castro\n",
      "City Not found, Skipping.....\n",
      "Processing record 1 | Lethem\n",
      "City Not found, Skipping.....\n",
      "Processing record 1 | Longyearbyen\n",
      "City Not found, Skipping.....\n",
      "Processing record 1 | Butaritari\n",
      "City Not found, Skipping.....\n",
      "Processing record 1 | Xining\n",
      "City Not found, Skipping.....\n",
      "Processing record 1 | Laas\n",
      "City Not found, Skipping.....\n",
      "Processing record 1 | East London\n",
      "City Not found, Skipping.....\n",
      "Processing record 1 | Hobart\n",
      "City Not found, Skipping.....\n",
      "Processing record 1 | Hilo\n",
      "City Not found, Skipping.....\n",
      "Processing record 1 | New Norfolk\n",
      "City Not found, Skipping.....\n",
      "Processing record 1 | Sisimiut\n",
      "City Not found, Skipping.....\n",
      "City Not found, Skipping.....\n",
      "Processing record 1 | Lata\n",
      "City Not found, Skipping.....\n",
      "City Not found, Skipping.....\n",
      "Processing record 1 | Avarua\n",
      "City Not found, Skipping.....\n",
      "Processing record 1 | São Gabriel da Cachoeira\n",
      "City Not found, Skipping.....\n",
      "Processing record 1 | Touros\n",
      "City Not found, Skipping.....\n",
      "Processing record 1 | Rikitea\n",
      "City Not found, Skipping.....\n",
      "Processing record 1 | Qui Nhon\n",
      "City Not found, Skipping.....\n",
      "Processing record 1 | Port Alfred\n",
      "City Not found, Skipping.....\n",
      "Processing record 1 | Puerto Baquerizo Moreno\n",
      "City Not found, Skipping.....\n",
      "Processing record 1 | Ulladulla\n",
      "City Not found, Skipping.....\n",
      "Processing record 1 | Zhetysay\n",
      "City Not found, Skipping.....\n",
      "Processing record 1 | Mazyr\n",
      "City Not found, Skipping.....\n",
      "Processing record 1 | Lagoa\n",
      "City Not found, Skipping.....\n",
      "Processing record 1 | Provideniya\n",
      "City Not found, Skipping.....\n",
      "Processing record 1 | Arman'\n",
      "City Not found, Skipping.....\n",
      "Processing record 1 | Jamestown\n",
      "City Not found, Skipping.....\n",
      "Processing record 1 | Mataura\n",
      "City Not found, Skipping.....\n",
      "Processing record 1 | Honningsvåg\n",
      "City Not found, Skipping.....\n",
      "Processing record 1 | Swift Current\n",
      "City Not found, Skipping.....\n",
      "Processing record 1 | Esperance\n",
      "City Not found, Skipping.....\n",
      "City Not found, Skipping.....\n",
      "City Not found, Skipping.....\n",
      "Processing record 1 | Santa Quitéria\n",
      "City Not found, Skipping.....\n",
      "Processing record 1 | Omboué\n",
      "City Not found, Skipping.....\n",
      "Processing record 1 | Kapaa\n",
      "City Not found, Skipping.....\n",
      "Processing record 1 | Torbay\n",
      "City Not found, Skipping.....\n",
      "City Not found, Skipping.....\n",
      "Processing record 1 | Saskylakh\n",
      "City Not found, Skipping.....\n",
      "Processing record 1 | Quatre Cocos\n",
      "City Not found, Skipping.....\n",
      "Processing record 1 | Kedrovyy\n",
      "City Not found, Skipping.....\n",
      "Processing record 1 | Busselton\n",
      "City Not found, Skipping.....\n",
      "Processing record 1 | Tolbazy\n",
      "City Not found, Skipping.....\n",
      "Processing record 1 | Vao\n",
      "City Not found, Skipping.....\n",
      "Processing record 1 | Arraial do Cabo\n",
      "City Not found, Skipping.....\n",
      "Processing record 1 | Chokurdakh\n",
      "City Not found, Skipping.....\n",
      "Processing record 1 | Hermanus\n",
      "City Not found, Skipping.....\n",
      "City Not found, Skipping.....\n",
      "Processing record 1 | Monchegorsk\n",
      "City Not found, Skipping.....\n",
      "Processing record 1 | Yellowknife\n",
      "City Not found, Skipping.....\n",
      "Processing record 1 | Half Moon Bay\n",
      "City Not found, Skipping.....\n",
      "Processing record 1 | Albany\n",
      "City Not found, Skipping.....\n",
      "Processing record 1 | Hay River\n",
      "City Not found, Skipping.....\n",
      "Processing record 1 | Mehamn\n",
      "City Not found, Skipping.....\n",
      "Processing record 1 | Puerto Ayora\n",
      "City Not found, Skipping.....\n",
      "Processing record 1 | Caravelas\n",
      "City Not found, Skipping.....\n",
      "Processing record 1 | Kiama\n",
      "City Not found, Skipping.....\n",
      "Processing record 1 | Mogadishu\n",
      "City Not found, Skipping.....\n",
      "Processing record 1 | Vaini\n",
      "City Not found, Skipping.....\n",
      "Processing record 1 | Jasper\n",
      "City Not found, Skipping.....\n",
      "City Not found, Skipping.....\n",
      "Processing record 1 | Maungatapere\n",
      "City Not found, Skipping.....\n",
      "Processing record 1 | Meulaboh\n",
      "City Not found, Skipping.....\n",
      "Processing record 1 | Ritto\n",
      "City Not found, Skipping.....\n",
      "City Not found, Skipping.....\n",
      "Processing record 1 | Araçatuba\n",
      "City Not found, Skipping.....\n",
      "Processing record 1 | Powell River\n",
      "City Not found, Skipping.....\n",
      "Processing record 1 | Port Elizabeth\n",
      "City Not found, Skipping.....\n",
      "Processing record 1 | Shingū\n",
      "City Not found, Skipping.....\n",
      "Processing record 1 | Rongcheng\n",
      "City Not found, Skipping.....\n",
      "Processing record 1 | Salalah\n",
      "City Not found, Skipping.....\n",
      "Processing record 1 | Mastic Beach\n",
      "City Not found, Skipping.....\n",
      "City Not found, Skipping.....\n",
      "Processing record 1 | Erzurum Province\n",
      "City Not found, Skipping.....\n",
      "Processing record 1 | Ovsyanka\n",
      "City Not found, Skipping.....\n",
      "Processing record 1 | Terrace\n",
      "City Not found, Skipping.....\n",
      "Processing record 1 | Porto-Novo\n",
      "City Not found, Skipping.....\n",
      "Processing record 1 | Dombås\n",
      "City Not found, Skipping.....\n",
      "Processing record 1 | Zeya\n",
      "City Not found, Skipping.....\n",
      "Processing record 1 | Cherskiy\n",
      "City Not found, Skipping.....\n",
      "Processing record 1 | Esim\n",
      "City Not found, Skipping.....\n",
      "Processing record 1 | Coquimbo\n",
      "City Not found, Skipping.....\n",
      "Processing record 1 | Lebu\n",
      "City Not found, Skipping.....\n",
      "Processing record 1 | Qaanaaq\n",
      "City Not found, Skipping.....\n",
      "Processing record 1 | Khatanga\n",
      "City Not found, Skipping.....\n",
      "Processing record 1 | Rawson\n",
      "City Not found, Skipping.....\n",
      "Processing record 1 | São João da Barra\n",
      "City Not found, Skipping.....\n",
      "Processing record 1 | Barkhan\n",
      "City Not found, Skipping.....\n",
      "Processing record 1 | Poddor'ye\n",
      "City Not found, Skipping.....\n",
      "Processing record 1 | Clyde River\n",
      "City Not found, Skipping.....\n",
      "Processing record 1 | Vestmannaeyjar\n",
      "City Not found, Skipping.....\n",
      "City Not found, Skipping.....\n",
      "Processing record 1 | Lavrentiya\n",
      "City Not found, Skipping.....\n",
      "Processing record 1 | Hithadhoo\n",
      "City Not found, Skipping.....\n",
      "City Not found, Skipping.....\n",
      "Processing record 1 | Saint-Augustin\n",
      "City Not found, Skipping.....\n",
      "Processing record 1 | Hervey Bay\n",
      "City Not found, Skipping.....\n",
      "City Not found, Skipping.....\n",
      "Processing record 1 | Rehoboth\n",
      "City Not found, Skipping.....\n",
      "City Not found, Skipping.....\n",
      "Processing record 1 | Narsaq\n",
      "City Not found, Skipping.....\n",
      "Processing record 1 | Gijang\n",
      "City Not found, Skipping.....\n",
      "Processing record 1 | Portland\n",
      "City Not found, Skipping.....\n",
      "Processing record 1 | Cross Lanes\n",
      "City Not found, Skipping.....\n",
      "Processing record 1 | San Rafael\n",
      "City Not found, Skipping.....\n",
      "Processing record 1 | Inverness\n",
      "City Not found, Skipping.....\n",
      "Processing record 1 | Kahului\n",
      "City Not found, Skipping.....\n",
      "Processing record 1 | Batagay\n",
      "City Not found, Skipping.....\n",
      "Processing record 1 | Khandyga\n",
      "City Not found, Skipping.....\n",
      "Processing record 1 | Amapá\n",
      "City Not found, Skipping.....\n",
      "Processing record 1 | Mahébourg\n",
      "City Not found, Skipping.....\n",
      "Processing record 1 | Necochea\n",
      "City Not found, Skipping.....\n",
      "Processing record 1 | Port Blair\n",
      "City Not found, Skipping.....\n",
      "Processing record 1 | Kerrville\n",
      "City Not found, Skipping.....\n",
      "Processing record 1 | Balkhash\n",
      "City Not found, Skipping.....\n",
      "Processing record 1 | Pacific Grove\n",
      "City Not found, Skipping.....\n",
      "Processing record 1 | Srednekolymsk\n",
      "City Not found, Skipping.....\n",
      "Processing record 1 | Potiskum\n",
      "City Not found, Skipping.....\n",
      "Processing record 1 | Arica\n",
      "City Not found, Skipping.....\n",
      "Processing record 1 | Majene\n",
      "City Not found, Skipping.....\n",
      "Processing record 1 | Bredasdorp\n",
      "City Not found, Skipping.....\n",
      "City Not found, Skipping.....\n",
      "Processing record 1 | Lüderitz\n",
      "City Not found, Skipping.....\n",
      "Processing record 1 | Kumul\n",
      "City Not found, Skipping.....\n",
      "Processing record 1 | Nikolskoye\n",
      "City Not found, Skipping.....\n"
     ]
    },
    {
     "name": "stdout",
     "output_type": "stream",
     "text": [
      "Processing record 1 | Nagato\n",
      "City Not found, Skipping.....\n",
      "City Not found, Skipping.....\n",
      "Processing record 1 | Saint Paul Harbor\n",
      "City Not found, Skipping.....\n",
      "Processing record 1 | Guerrero Negro\n",
      "City Not found, Skipping.....\n",
      "Processing record 1 | Chicama\n",
      "City Not found, Skipping.....\n",
      "Processing record 1 | Korsakov\n",
      "City Not found, Skipping.....\n",
      "Processing record 1 | Barrow\n",
      "City Not found, Skipping.....\n",
      "Processing record 1 | Fortuna\n",
      "City Not found, Skipping.....\n",
      "Processing record 1 | San Luis\n",
      "City Not found, Skipping.....\n",
      "Processing record 1 | Aklavik\n",
      "City Not found, Skipping.....\n",
      "Processing record 1 | Kawalu\n",
      "City Not found, Skipping.....\n",
      "Processing record 1 | Karratha\n",
      "City Not found, Skipping.....\n",
      "Processing record 1 | Paamiut\n",
      "City Not found, Skipping.....\n",
      "Processing record 1 | Saint-Philippe\n",
      "City Not found, Skipping.....\n",
      "Processing record 1 | Bluff\n",
      "City Not found, Skipping.....\n",
      "Processing record 1 | Chimbote\n",
      "City Not found, Skipping.....\n",
      "Processing record 1 | Tura\n",
      "City Not found, Skipping.....\n",
      "Processing record 1 | Okhotsk\n",
      "City Not found, Skipping.....\n",
      "Processing record 1 | Russell\n",
      "City Not found, Skipping.....\n",
      "Processing record 1 | Batī\n",
      "City Not found, Skipping.....\n",
      "Processing record 1 | Qena\n",
      "City Not found, Skipping.....\n",
      "Processing record 1 | Korla\n",
      "City Not found, Skipping.....\n",
      "Processing record 1 | Itapirapuã\n",
      "City Not found, Skipping.....\n",
      "Processing record 1 | Cabo San Lucas\n",
      "City Not found, Skipping.....\n",
      "Processing record 1 | Nanortalik\n",
      "City Not found, Skipping.....\n",
      "Processing record 1 | Vanimo\n",
      "City Not found, Skipping.....\n",
      "Processing record 1 | Tavda\n",
      "City Not found, Skipping.....\n",
      "Processing record 1 | Sur\n",
      "City Not found, Skipping.....\n",
      "Processing record 1 | Ostrovnoy\n",
      "City Not found, Skipping.....\n",
      "Processing record 1 | Hearst\n",
      "City Not found, Skipping.....\n",
      "Processing record 1 | Isangel\n",
      "City Not found, Skipping.....\n",
      "Processing record 1 | Ramotswa\n",
      "City Not found, Skipping.....\n",
      "Processing record 1 | Hasaki\n",
      "City Not found, Skipping.....\n",
      "Processing record 1 | Mar del Plata\n",
      "City Not found, Skipping.....\n",
      "Processing record 1 | Pevek\n",
      "City Not found, Skipping.....\n",
      "Processing record 1 | Taku\n",
      "City Not found, Skipping.....\n",
      "Processing record 1 | Ribeira Grande\n",
      "City Not found, Skipping.....\n",
      "Processing record 1 | Shahe\n",
      "City Not found, Skipping.....\n",
      "City Not found, Skipping.....\n",
      "Processing record 1 | Zaysan\n",
      "City Not found, Skipping.....\n",
      "Processing record 1 | Nālūt\n",
      "City Not found, Skipping.....\n",
      "Processing record 1 | Kushiro\n",
      "City Not found, Skipping.....\n",
      "Processing record 1 | Dingle\n",
      "City Not found, Skipping.....\n",
      "Processing record 1 | Launceston\n",
      "City Not found, Skipping.....\n",
      "Processing record 1 | Saint George\n",
      "City Not found, Skipping.....\n",
      "Processing record 1 | Hurricane\n",
      "City Not found, Skipping.....\n",
      "Processing record 1 | Sibolga\n",
      "City Not found, Skipping.....\n",
      "Processing record 1 | Kastamonu Province\n",
      "City Not found, Skipping.....\n",
      "Processing record 1 | Chebsara\n",
      "City Not found, Skipping.....\n",
      "Processing record 1 | Kamenka\n",
      "City Not found, Skipping.....\n",
      "Processing record 1 | Rocha\n",
      "City Not found, Skipping.....\n",
      "Processing record 1 | Algiers\n",
      "City Not found, Skipping.....\n",
      "Processing record 1 | Komatipoort\n",
      "City Not found, Skipping.....\n",
      "Processing record 1 | Atuona\n",
      "City Not found, Skipping.....\n",
      "Processing record 1 | Tiksi\n",
      "City Not found, Skipping.....\n",
      "Processing record 1 | Cayenne\n",
      "City Not found, Skipping.....\n",
      "Processing record 1 | Fort Nelson\n",
      "City Not found, Skipping.....\n",
      "Processing record 1 | Tuktoyaktuk\n",
      "City Not found, Skipping.....\n",
      "Processing record 1 | Kysyl-Syr\n",
      "City Not found, Skipping.....\n",
      "Processing record 1 | Kasongo-Lunda\n",
      "City Not found, Skipping.....\n",
      "Processing record 1 | Trnava\n",
      "City Not found, Skipping.....\n",
      "Processing record 1 | Palmer\n",
      "City Not found, Skipping.....\n",
      "Processing record 1 | Pailón\n",
      "City Not found, Skipping.....\n",
      "Processing record 1 | Washougal\n",
      "City Not found, Skipping.....\n",
      "Processing record 1 | Kavaratti\n",
      "City Not found, Skipping.....\n",
      "Processing record 1 | Bambanglipuro\n",
      "City Not found, Skipping.....\n",
      "Processing record 1 | Thinadhoo\n",
      "City Not found, Skipping.....\n",
      "Processing record 1 | Cardoso\n",
      "City Not found, Skipping.....\n",
      "City Not found, Skipping.....\n",
      "Processing record 1 | Rio Grande\n",
      "City Not found, Skipping.....\n",
      "City Not found, Skipping.....\n",
      "Processing record 1 | Tsimlyansk\n",
      "City Not found, Skipping.....\n",
      "Processing record 1 | Paciran\n",
      "City Not found, Skipping.....\n",
      "City Not found, Skipping.....\n",
      "Processing record 1 | Elko\n",
      "City Not found, Skipping.....\n",
      "Processing record 1 | Galiākot\n",
      "City Not found, Skipping.....\n"
     ]
    }
   ],
   "source": [
    "# begin with Variables \n",
    "city_name = []\n",
    "c_country = []\n",
    "date =[]\n",
    "c_lat =[]\n",
    "c_lon =[]\n",
    "temp_max =[]\n",
    "humid =[]\n",
    "cloud =[]\n",
    "wind =[]\n",
    "\n",
    "Record = 1\n",
    "\n",
    "print (f\"Beginning Data Retrival\")\n",
    "print (\"-------------------------\")\n",
    "for city in cities:\n",
    "        try: \n",
    "            w_json =requests.get(f\"{query_url}{city}\").json()\n",
    "            city_name.append(w_json [\"name\"])\n",
    "            c_country.append(w_json[\"sys\"][\"country\"])\n",
    "            date.append(w_json[\"dt\"])\n",
    "            c_lat.append(w_json[\"coord\"][\"lat\"])\n",
    "            c_lon.append(w_json [\"coord\"][\"lon\"])\n",
    "            temp_max.append(w_json[\"main\"][\"temp_max\"])\n",
    "            humid.append(w_json [\"main\"][\"humidity\"])\n",
    "            cloud.append(w_json [\"clouds\"][\"all\"])\n",
    "            wind.append(w_json [\"wind\"][\"speed\"])\n",
    "            city_info = w_json[\"name\"]\n",
    "        \n",
    "            print(f\"Processing record {Record} | {city_info}\")\n",
    "            record +=1\n",
    "        except:\n",
    "            print(f\"City Not found, Skipping.....\")\n",
    "            \n",
    "        \n",
    "        \n"
   ]
  },
  {
   "cell_type": "markdown",
   "metadata": {},
   "source": [
    "### Convert Raw Data to DataFrame\n",
    "* Export the city data into a .csv.\n",
    "* Display the DataFrame"
   ]
  },
  {
   "cell_type": "code",
   "execution_count": null,
   "metadata": {
    "scrolled": true
   },
   "outputs": [],
   "source": [
    "weather_d= {'City Name': city_name,'City ID':cityid,'Country': country_city,'Cloudiness': cloudy_city,'Lat':lat_city,'Long':lng_city,'Humidity':humidity_city,'Windspeed':windspeed_city,'Temperature':temperature_city}\n",
    "weather_df =pd.DataFrame(weather_d, columns=('City Name','City ID','Country','Cloudiness','Lat','Long'))\n",
    "weather_df.head()"
   ]
  },
  {
   "cell_type": "code",
   "execution_count": null,
   "metadata": {
    "scrolled": true
   },
   "outputs": [],
   "source": [
    "# Convert to Dataframe\n",
    "city_data_pd = pd.DataFrame\n",
    "                            \"Temperature\":temperature_city})\n",
    "city_data_pd.head()"
   ]
  },
  {
   "cell_type": "code",
   "execution_count": null,
   "metadata": {},
   "outputs": [],
   "source": []
  },
  {
   "cell_type": "code",
   "execution_count": null,
   "metadata": {},
   "outputs": [],
   "source": [
    "\n",
    "\n",
    "\n",
    "lng_city = []\n",
    "temperature_city = []\n",
    "\n",
    "\n",
    "\n",
    "\n",
    "date = []\n",
    "temperature_city_max"
   ]
  },
  {
   "cell_type": "markdown",
   "metadata": {},
   "source": [
    "## Inspect the data and remove the cities where the humidity > 100%.\n",
    "----\n",
    "Skip this step if there are no cities that have humidity > 100%. "
   ]
  },
  {
   "cell_type": "code",
   "execution_count": null,
   "metadata": {},
   "outputs": [],
   "source": []
  },
  {
   "cell_type": "code",
   "execution_count": null,
   "metadata": {},
   "outputs": [],
   "source": [
    "#  Get the indices of cities that have humidity over 100%.\n"
   ]
  },
  {
   "cell_type": "code",
   "execution_count": null,
   "metadata": {},
   "outputs": [],
   "source": [
    "# Make a new DataFrame equal to the city data to drop all humidity outliers by index.\n",
    "# Passing \"inplace=False\" will make a copy of the city_data DataFrame, which we call \"clean_city_data\".\n"
   ]
  },
  {
   "cell_type": "code",
   "execution_count": null,
   "metadata": {},
   "outputs": [],
   "source": [
    "\n"
   ]
  },
  {
   "cell_type": "markdown",
   "metadata": {},
   "source": [
    "## Plotting the Data\n",
    "* Use proper labeling of the plots using plot titles (including date of analysis) and axes labels.\n",
    "* Save the plotted figures as .pngs."
   ]
  },
  {
   "cell_type": "markdown",
   "metadata": {},
   "source": [
    "## Latitude vs. Temperature Plot"
   ]
  },
  {
   "cell_type": "code",
   "execution_count": null,
   "metadata": {
    "scrolled": true
   },
   "outputs": [],
   "source": []
  },
  {
   "cell_type": "markdown",
   "metadata": {},
   "source": [
    "## Latitude vs. Humidity Plot"
   ]
  },
  {
   "cell_type": "code",
   "execution_count": null,
   "metadata": {},
   "outputs": [],
   "source": []
  },
  {
   "cell_type": "markdown",
   "metadata": {},
   "source": [
    "## Latitude vs. Cloudiness Plot"
   ]
  },
  {
   "cell_type": "code",
   "execution_count": null,
   "metadata": {},
   "outputs": [],
   "source": []
  },
  {
   "cell_type": "markdown",
   "metadata": {},
   "source": [
    "## Latitude vs. Wind Speed Plot"
   ]
  },
  {
   "cell_type": "code",
   "execution_count": null,
   "metadata": {},
   "outputs": [],
   "source": []
  },
  {
   "cell_type": "markdown",
   "metadata": {},
   "source": [
    "## Linear Regression"
   ]
  },
  {
   "cell_type": "code",
   "execution_count": null,
   "metadata": {},
   "outputs": [],
   "source": []
  },
  {
   "cell_type": "markdown",
   "metadata": {},
   "source": [
    "####  Northern Hemisphere - Max Temp vs. Latitude Linear Regression"
   ]
  },
  {
   "cell_type": "code",
   "execution_count": null,
   "metadata": {},
   "outputs": [],
   "source": []
  },
  {
   "cell_type": "markdown",
   "metadata": {},
   "source": [
    "####  Southern Hemisphere - Max Temp vs. Latitude Linear Regression"
   ]
  },
  {
   "cell_type": "code",
   "execution_count": null,
   "metadata": {},
   "outputs": [],
   "source": []
  },
  {
   "cell_type": "markdown",
   "metadata": {},
   "source": [
    "####  Northern Hemisphere - Humidity (%) vs. Latitude Linear Regression"
   ]
  },
  {
   "cell_type": "code",
   "execution_count": null,
   "metadata": {},
   "outputs": [],
   "source": []
  },
  {
   "cell_type": "markdown",
   "metadata": {},
   "source": [
    "####  Southern Hemisphere - Humidity (%) vs. Latitude Linear Regression"
   ]
  },
  {
   "cell_type": "code",
   "execution_count": null,
   "metadata": {},
   "outputs": [],
   "source": []
  },
  {
   "cell_type": "markdown",
   "metadata": {},
   "source": [
    "####  Northern Hemisphere - Cloudiness (%) vs. Latitude Linear Regression"
   ]
  },
  {
   "cell_type": "code",
   "execution_count": null,
   "metadata": {},
   "outputs": [],
   "source": []
  },
  {
   "cell_type": "markdown",
   "metadata": {},
   "source": [
    "####  Southern Hemisphere - Cloudiness (%) vs. Latitude Linear Regression"
   ]
  },
  {
   "cell_type": "code",
   "execution_count": null,
   "metadata": {},
   "outputs": [],
   "source": []
  },
  {
   "cell_type": "markdown",
   "metadata": {},
   "source": [
    "####  Northern Hemisphere - Wind Speed (mph) vs. Latitude Linear Regression"
   ]
  },
  {
   "cell_type": "code",
   "execution_count": null,
   "metadata": {},
   "outputs": [],
   "source": []
  },
  {
   "cell_type": "markdown",
   "metadata": {},
   "source": [
    "####  Southern Hemisphere - Wind Speed (mph) vs. Latitude Linear Regression"
   ]
  },
  {
   "cell_type": "code",
   "execution_count": null,
   "metadata": {},
   "outputs": [],
   "source": []
  },
  {
   "cell_type": "code",
   "execution_count": null,
   "metadata": {},
   "outputs": [],
   "source": []
  },
  {
   "cell_type": "code",
   "execution_count": null,
   "metadata": {},
   "outputs": [],
   "source": []
  },
  {
   "cell_type": "code",
   "execution_count": null,
   "metadata": {},
   "outputs": [],
   "source": []
  }
 ],
 "metadata": {
  "anaconda-cloud": {},
  "kernel_info": {
   "name": "python3"
  },
  "kernelspec": {
   "display_name": "Python 3",
   "language": "python",
   "name": "python3"
  },
  "language_info": {
   "codemirror_mode": {
    "name": "ipython",
    "version": 3
   },
   "file_extension": ".py",
   "mimetype": "text/x-python",
   "name": "python",
   "nbconvert_exporter": "python",
   "pygments_lexer": "ipython3",
   "version": "3.8.5"
  },
  "latex_envs": {
   "LaTeX_envs_menu_present": true,
   "autoclose": false,
   "autocomplete": true,
   "bibliofile": "biblio.bib",
   "cite_by": "apalike",
   "current_citInitial": 1,
   "eqLabelWithNumbers": true,
   "eqNumInitial": 1,
   "hotkeys": {
    "equation": "Ctrl-E",
    "itemize": "Ctrl-I"
   },
   "labels_anchors": false,
   "latex_user_defs": false,
   "report_style_numbering": false,
   "user_envs_cfg": false
  },
  "nteract": {
   "version": "0.12.3"
  }
 },
 "nbformat": 4,
 "nbformat_minor": 2
}
